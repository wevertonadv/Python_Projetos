{
 "cells": [
  {
   "cell_type": "code",
   "execution_count": 1,
   "metadata": {},
   "outputs": [],
   "source": [
    "import time\n",
    "from selenium import webdriver\n",
    "from selenium.webdriver.common.keys import Keys\n",
    "from selenium.webdriver.common.by import By\n",
    "import pandas as pd\n",
    "\n",
    "\n",
    "driver = webdriver.Chrome()\n",
    "driver.get('https://ead.unigama.com/course/view.php?id=1154')\n"
   ]
  },
  {
   "cell_type": "code",
   "execution_count": null,
   "metadata": {},
   "outputs": [],
   "source": [
    "driver.get('https://ead.unigama.com/course/view.php?id=1154')"
   ]
  },
  {
   "cell_type": "code",
   "execution_count": 2,
   "metadata": {},
   "outputs": [
    {
     "ename": "NoSuchElementException",
     "evalue": "Message: no such element: Unable to locate element: {\"method\":\"css selector\",\"selector\":\"[id=\"action-menu-8-menubar\"]\"}\n  (Session info: chrome=107.0.5304.88)\nStacktrace:\nBacktrace:\n\tOrdinal0 [0x00BBACD3+2075859]\n\tOrdinal0 [0x00B4EE61+1633889]\n\tOrdinal0 [0x00A4B7BD+571325]\n\tOrdinal0 [0x00A7AC2F+764975]\n\tOrdinal0 [0x00A7AE1B+765467]\n\tOrdinal0 [0x00AAD0F2+970994]\n\tOrdinal0 [0x00A97364+881508]\n\tOrdinal0 [0x00AAB56A+963946]\n\tOrdinal0 [0x00A97136+880950]\n\tOrdinal0 [0x00A6FEFD+720637]\n\tOrdinal0 [0x00A70F3F+724799]\n\tGetHandleVerifier [0x00E6EED2+2769538]\n\tGetHandleVerifier [0x00E60D95+2711877]\n\tGetHandleVerifier [0x00C4A03A+521194]\n\tGetHandleVerifier [0x00C48DA0+516432]\n\tOrdinal0 [0x00B5682C+1665068]\n\tOrdinal0 [0x00B5B128+1683752]\n\tOrdinal0 [0x00B5B215+1683989]\n\tOrdinal0 [0x00B66484+1729668]\n\tBaseThreadInitThunk [0x7566FA29+25]\n\tRtlGetAppContainerNamedObjectPath [0x777F7BBE+286]\n\tRtlGetAppContainerNamedObjectPath [0x777F7B8E+238]\n",
     "output_type": "error",
     "traceback": [
      "\u001b[1;31m---------------------------------------------------------------------------\u001b[0m",
      "\u001b[1;31mNoSuchElementException\u001b[0m                    Traceback (most recent call last)",
      "Cell \u001b[1;32mIn [2], line 1\u001b[0m\n\u001b[1;32m----> 1\u001b[0m elem \u001b[39m=\u001b[39m driver\u001b[39m.\u001b[39;49mfind_element(By\u001b[39m.\u001b[39;49m ID, \u001b[39m'\u001b[39;49m\u001b[39maction-menu-8-menubar\u001b[39;49m\u001b[39m'\u001b[39;49m)\u001b[39m.\u001b[39mclick()\n",
      "File \u001b[1;32mc:\\Users\\Marketing\\AppData\\Local\\Programs\\Python\\Python310\\lib\\site-packages\\selenium\\webdriver\\remote\\webdriver.py:855\u001b[0m, in \u001b[0;36mWebDriver.find_element\u001b[1;34m(self, by, value)\u001b[0m\n\u001b[0;32m    852\u001b[0m     by \u001b[39m=\u001b[39m By\u001b[39m.\u001b[39mCSS_SELECTOR\n\u001b[0;32m    853\u001b[0m     value \u001b[39m=\u001b[39m \u001b[39m'\u001b[39m\u001b[39m[name=\u001b[39m\u001b[39m\"\u001b[39m\u001b[39m%s\u001b[39;00m\u001b[39m\"\u001b[39m\u001b[39m]\u001b[39m\u001b[39m'\u001b[39m \u001b[39m%\u001b[39m value\n\u001b[1;32m--> 855\u001b[0m \u001b[39mreturn\u001b[39;00m \u001b[39mself\u001b[39;49m\u001b[39m.\u001b[39;49mexecute(Command\u001b[39m.\u001b[39;49mFIND_ELEMENT, {\n\u001b[0;32m    856\u001b[0m     \u001b[39m'\u001b[39;49m\u001b[39musing\u001b[39;49m\u001b[39m'\u001b[39;49m: by,\n\u001b[0;32m    857\u001b[0m     \u001b[39m'\u001b[39;49m\u001b[39mvalue\u001b[39;49m\u001b[39m'\u001b[39;49m: value})[\u001b[39m'\u001b[39m\u001b[39mvalue\u001b[39m\u001b[39m'\u001b[39m]\n",
      "File \u001b[1;32mc:\\Users\\Marketing\\AppData\\Local\\Programs\\Python\\Python310\\lib\\site-packages\\selenium\\webdriver\\remote\\webdriver.py:428\u001b[0m, in \u001b[0;36mWebDriver.execute\u001b[1;34m(self, driver_command, params)\u001b[0m\n\u001b[0;32m    426\u001b[0m response \u001b[39m=\u001b[39m \u001b[39mself\u001b[39m\u001b[39m.\u001b[39mcommand_executor\u001b[39m.\u001b[39mexecute(driver_command, params)\n\u001b[0;32m    427\u001b[0m \u001b[39mif\u001b[39;00m response:\n\u001b[1;32m--> 428\u001b[0m     \u001b[39mself\u001b[39;49m\u001b[39m.\u001b[39;49merror_handler\u001b[39m.\u001b[39;49mcheck_response(response)\n\u001b[0;32m    429\u001b[0m     response[\u001b[39m'\u001b[39m\u001b[39mvalue\u001b[39m\u001b[39m'\u001b[39m] \u001b[39m=\u001b[39m \u001b[39mself\u001b[39m\u001b[39m.\u001b[39m_unwrap_value(\n\u001b[0;32m    430\u001b[0m         response\u001b[39m.\u001b[39mget(\u001b[39m'\u001b[39m\u001b[39mvalue\u001b[39m\u001b[39m'\u001b[39m, \u001b[39mNone\u001b[39;00m))\n\u001b[0;32m    431\u001b[0m     \u001b[39mreturn\u001b[39;00m response\n",
      "File \u001b[1;32mc:\\Users\\Marketing\\AppData\\Local\\Programs\\Python\\Python310\\lib\\site-packages\\selenium\\webdriver\\remote\\errorhandler.py:243\u001b[0m, in \u001b[0;36mErrorHandler.check_response\u001b[1;34m(self, response)\u001b[0m\n\u001b[0;32m    241\u001b[0m         alert_text \u001b[39m=\u001b[39m value[\u001b[39m'\u001b[39m\u001b[39malert\u001b[39m\u001b[39m'\u001b[39m]\u001b[39m.\u001b[39mget(\u001b[39m'\u001b[39m\u001b[39mtext\u001b[39m\u001b[39m'\u001b[39m)\n\u001b[0;32m    242\u001b[0m     \u001b[39mraise\u001b[39;00m exception_class(message, screen, stacktrace, alert_text)  \u001b[39m# type: ignore[call-arg]  # mypy is not smart enough here\u001b[39;00m\n\u001b[1;32m--> 243\u001b[0m \u001b[39mraise\u001b[39;00m exception_class(message, screen, stacktrace)\n",
      "\u001b[1;31mNoSuchElementException\u001b[0m: Message: no such element: Unable to locate element: {\"method\":\"css selector\",\"selector\":\"[id=\"action-menu-8-menubar\"]\"}\n  (Session info: chrome=107.0.5304.88)\nStacktrace:\nBacktrace:\n\tOrdinal0 [0x00BBACD3+2075859]\n\tOrdinal0 [0x00B4EE61+1633889]\n\tOrdinal0 [0x00A4B7BD+571325]\n\tOrdinal0 [0x00A7AC2F+764975]\n\tOrdinal0 [0x00A7AE1B+765467]\n\tOrdinal0 [0x00AAD0F2+970994]\n\tOrdinal0 [0x00A97364+881508]\n\tOrdinal0 [0x00AAB56A+963946]\n\tOrdinal0 [0x00A97136+880950]\n\tOrdinal0 [0x00A6FEFD+720637]\n\tOrdinal0 [0x00A70F3F+724799]\n\tGetHandleVerifier [0x00E6EED2+2769538]\n\tGetHandleVerifier [0x00E60D95+2711877]\n\tGetHandleVerifier [0x00C4A03A+521194]\n\tGetHandleVerifier [0x00C48DA0+516432]\n\tOrdinal0 [0x00B5682C+1665068]\n\tOrdinal0 [0x00B5B128+1683752]\n\tOrdinal0 [0x00B5B215+1683989]\n\tOrdinal0 [0x00B66484+1729668]\n\tBaseThreadInitThunk [0x7566FA29+25]\n\tRtlGetAppContainerNamedObjectPath [0x777F7BBE+286]\n\tRtlGetAppContainerNamedObjectPath [0x777F7B8E+238]\n"
     ]
    }
   ],
   "source": [
    "elem = driver.find_element(By. ID, 'action-menu-8-menubar').click()"
   ]
  },
  {
   "cell_type": "code",
   "execution_count": null,
   "metadata": {},
   "outputs": [],
   "source": [
    "elem = driver.find_element(By. LINK_TEXT,'Editar configurações').click()\n",
    "time.sleep(1)"
   ]
  },
  {
   "cell_type": "code",
   "execution_count": null,
   "metadata": {},
   "outputs": [],
   "source": [
    "#Nota\n",
    "elem = driver.find_element(By. XPATH, '/html/body/div[6]/div[2]/div/div/section/div/div/div/form/fieldset[3]/legend/a').click()"
   ]
  },
  {
   "cell_type": "code",
   "execution_count": null,
   "metadata": {},
   "outputs": [],
   "source": [
    "#Tipo\n",
    "elem = driver.find_element(By. XPATH, '/html/body/div[6]/div[2]/div/div/section/div/div/div/form/fieldset[3]/div/div[1]/div[2]/fieldset/div/div[1]/span/select').send_keys('pontos')"
   ]
  },
  {
   "cell_type": "code",
   "execution_count": null,
   "metadata": {},
   "outputs": [],
   "source": [
    "#nota 10\n",
    "elem = driver.find_element(By. ID, 'id_grade_modgrade_point').clear()\n",
    "\n",
    "#nota 10\n",
    "elem = driver.find_element(By. ID, 'id_grade_modgrade_point').send_keys('10')"
   ]
  },
  {
   "cell_type": "code",
   "execution_count": null,
   "metadata": {},
   "outputs": [
    {
     "ename": "SyntaxError",
     "evalue": "invalid syntax (3193057967.py, line 1)",
     "output_type": "error",
     "traceback": [
      "\u001b[1;36m  Cell \u001b[1;32mIn [57], line 1\u001b[1;36m\u001b[0m\n\u001b[1;33m    for\u001b[0m\n\u001b[1;37m       ^\u001b[0m\n\u001b[1;31mSyntaxError\u001b[0m\u001b[1;31m:\u001b[0m invalid syntax\n"
     ]
    }
   ],
   "source": [
    "for i,:"
   ]
  }
 ],
 "metadata": {
  "kernelspec": {
   "display_name": "Python 3.10.6 64-bit",
   "language": "python",
   "name": "python3"
  },
  "language_info": {
   "codemirror_mode": {
    "name": "ipython",
    "version": 3
   },
   "file_extension": ".py",
   "mimetype": "text/x-python",
   "name": "python",
   "nbconvert_exporter": "python",
   "pygments_lexer": "ipython3",
   "version": "3.10.6"
  },
  "orig_nbformat": 4,
  "vscode": {
   "interpreter": {
    "hash": "e5812f60cce1511b9925b68cbaacd0423d0ef0159e8ddbee7c4080436544beb1"
   }
  }
 },
 "nbformat": 4,
 "nbformat_minor": 2
}
