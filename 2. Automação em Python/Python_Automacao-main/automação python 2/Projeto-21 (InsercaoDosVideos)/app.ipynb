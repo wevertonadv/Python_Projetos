{
 "cells": [
  {
   "cell_type": "code",
   "execution_count": 21,
   "metadata": {},
   "outputs": [],
   "source": [
    "import time\n",
    "from selenium.common.exceptions import NoSuchElementException\n",
    "from selenium import webdriver\n",
    "from selenium.webdriver.common.keys import Keys\n",
    "from selenium.webdriver.common.by import By\n",
    "import keyword\n",
    "from IPython.display import display\n",
    "import pandas as pd\n",
    "\n",
    "#abrindo um navegador e acessando a página da unigama\n",
    "driver = webdriver.Chrome()\n",
    "driver.get('https://ead.unigama.com/login/index.php')\n",
    "assert \"Unigama: Acesso ao site\" in driver.title\n"
   ]
  },
  {
   "cell_type": "code",
   "execution_count": 22,
   "metadata": {},
   "outputs": [],
   "source": [
    "driver.get('https://ead.unigama.com/course/view.php?id=1076')"
   ]
  },
  {
   "cell_type": "code",
   "execution_count": 23,
   "metadata": {},
   "outputs": [],
   "source": [
    "#ATIVANDO EDIÇÃO\n",
    "ativar = driver.find_element(By.CSS_SELECTOR, '.btn.btn-primary')\n",
    "\n",
    "ativar.click()"
   ]
  },
  {
   "cell_type": "code",
   "execution_count": 24,
   "metadata": {},
   "outputs": [
    {
     "ename": "NoSuchElementException",
     "evalue": "Message: no such element: Unable to locate element: {\"method\":\"css selector\",\"selector\":\"[id=\"action-menu-toggle-5\"]\"}\n  (Session info: chrome=106.0.5249.119)\nStacktrace:\nBacktrace:\n\tOrdinal0 [0x0101DF13+2219795]\n\tOrdinal0 [0x00FB2841+1779777]\n\tOrdinal0 [0x00EC423D+803389]\n\tOrdinal0 [0x00EF3025+995365]\n\tOrdinal0 [0x00EF31EB+995819]\n\tOrdinal0 [0x00F20F52+1183570]\n\tOrdinal0 [0x00F0E844+1108036]\n\tOrdinal0 [0x00F1F192+1175954]\n\tOrdinal0 [0x00F0E616+1107478]\n\tOrdinal0 [0x00EE7F89+950153]\n\tOrdinal0 [0x00EE8F56+954198]\n\tGetHandleVerifier [0x01312CB2+3040210]\n\tGetHandleVerifier [0x01302BB4+2974420]\n\tGetHandleVerifier [0x010B6A0A+565546]\n\tGetHandleVerifier [0x010B5680+560544]\n\tOrdinal0 [0x00FB9A5C+1808988]\n\tOrdinal0 [0x00FBE3A8+1827752]\n\tOrdinal0 [0x00FBE495+1827989]\n\tOrdinal0 [0x00FC80A4+1867940]\n\tBaseThreadInitThunk [0x7566FA29+25]\n\tRtlGetAppContainerNamedObjectPath [0x777F7BBE+286]\n\tRtlGetAppContainerNamedObjectPath [0x777F7B8E+238]\n",
     "output_type": "error",
     "traceback": [
      "\u001b[1;31m---------------------------------------------------------------------------\u001b[0m",
      "\u001b[1;31mNoSuchElementException\u001b[0m                    Traceback (most recent call last)",
      "Cell \u001b[1;32mIn [24], line 2\u001b[0m\n\u001b[0;32m      1\u001b[0m \u001b[39m# Clicando no botão editar \u001b[39;00m\n\u001b[1;32m----> 2\u001b[0m driver\u001b[39m.\u001b[39;49mfind_element(By\u001b[39m.\u001b[39;49m ID, \u001b[39m\"\u001b[39;49m\u001b[39maction-menu-toggle-5\u001b[39;49m\u001b[39m\"\u001b[39;49m)\u001b[39m.\u001b[39mclick()\n",
      "File \u001b[1;32mc:\\Users\\Marketing\\AppData\\Local\\Programs\\Python\\Python310\\lib\\site-packages\\selenium\\webdriver\\remote\\webdriver.py:855\u001b[0m, in \u001b[0;36mWebDriver.find_element\u001b[1;34m(self, by, value)\u001b[0m\n\u001b[0;32m    852\u001b[0m     by \u001b[39m=\u001b[39m By\u001b[39m.\u001b[39mCSS_SELECTOR\n\u001b[0;32m    853\u001b[0m     value \u001b[39m=\u001b[39m \u001b[39m'\u001b[39m\u001b[39m[name=\u001b[39m\u001b[39m\"\u001b[39m\u001b[39m%s\u001b[39;00m\u001b[39m\"\u001b[39m\u001b[39m]\u001b[39m\u001b[39m'\u001b[39m \u001b[39m%\u001b[39m value\n\u001b[1;32m--> 855\u001b[0m \u001b[39mreturn\u001b[39;00m \u001b[39mself\u001b[39;49m\u001b[39m.\u001b[39;49mexecute(Command\u001b[39m.\u001b[39;49mFIND_ELEMENT, {\n\u001b[0;32m    856\u001b[0m     \u001b[39m'\u001b[39;49m\u001b[39musing\u001b[39;49m\u001b[39m'\u001b[39;49m: by,\n\u001b[0;32m    857\u001b[0m     \u001b[39m'\u001b[39;49m\u001b[39mvalue\u001b[39;49m\u001b[39m'\u001b[39;49m: value})[\u001b[39m'\u001b[39m\u001b[39mvalue\u001b[39m\u001b[39m'\u001b[39m]\n",
      "File \u001b[1;32mc:\\Users\\Marketing\\AppData\\Local\\Programs\\Python\\Python310\\lib\\site-packages\\selenium\\webdriver\\remote\\webdriver.py:428\u001b[0m, in \u001b[0;36mWebDriver.execute\u001b[1;34m(self, driver_command, params)\u001b[0m\n\u001b[0;32m    426\u001b[0m response \u001b[39m=\u001b[39m \u001b[39mself\u001b[39m\u001b[39m.\u001b[39mcommand_executor\u001b[39m.\u001b[39mexecute(driver_command, params)\n\u001b[0;32m    427\u001b[0m \u001b[39mif\u001b[39;00m response:\n\u001b[1;32m--> 428\u001b[0m     \u001b[39mself\u001b[39;49m\u001b[39m.\u001b[39;49merror_handler\u001b[39m.\u001b[39;49mcheck_response(response)\n\u001b[0;32m    429\u001b[0m     response[\u001b[39m'\u001b[39m\u001b[39mvalue\u001b[39m\u001b[39m'\u001b[39m] \u001b[39m=\u001b[39m \u001b[39mself\u001b[39m\u001b[39m.\u001b[39m_unwrap_value(\n\u001b[0;32m    430\u001b[0m         response\u001b[39m.\u001b[39mget(\u001b[39m'\u001b[39m\u001b[39mvalue\u001b[39m\u001b[39m'\u001b[39m, \u001b[39mNone\u001b[39;00m))\n\u001b[0;32m    431\u001b[0m     \u001b[39mreturn\u001b[39;00m response\n",
      "File \u001b[1;32mc:\\Users\\Marketing\\AppData\\Local\\Programs\\Python\\Python310\\lib\\site-packages\\selenium\\webdriver\\remote\\errorhandler.py:243\u001b[0m, in \u001b[0;36mErrorHandler.check_response\u001b[1;34m(self, response)\u001b[0m\n\u001b[0;32m    241\u001b[0m         alert_text \u001b[39m=\u001b[39m value[\u001b[39m'\u001b[39m\u001b[39malert\u001b[39m\u001b[39m'\u001b[39m]\u001b[39m.\u001b[39mget(\u001b[39m'\u001b[39m\u001b[39mtext\u001b[39m\u001b[39m'\u001b[39m)\n\u001b[0;32m    242\u001b[0m     \u001b[39mraise\u001b[39;00m exception_class(message, screen, stacktrace, alert_text)  \u001b[39m# type: ignore[call-arg]  # mypy is not smart enough here\u001b[39;00m\n\u001b[1;32m--> 243\u001b[0m \u001b[39mraise\u001b[39;00m exception_class(message, screen, stacktrace)\n",
      "\u001b[1;31mNoSuchElementException\u001b[0m: Message: no such element: Unable to locate element: {\"method\":\"css selector\",\"selector\":\"[id=\"action-menu-toggle-5\"]\"}\n  (Session info: chrome=106.0.5249.119)\nStacktrace:\nBacktrace:\n\tOrdinal0 [0x0101DF13+2219795]\n\tOrdinal0 [0x00FB2841+1779777]\n\tOrdinal0 [0x00EC423D+803389]\n\tOrdinal0 [0x00EF3025+995365]\n\tOrdinal0 [0x00EF31EB+995819]\n\tOrdinal0 [0x00F20F52+1183570]\n\tOrdinal0 [0x00F0E844+1108036]\n\tOrdinal0 [0x00F1F192+1175954]\n\tOrdinal0 [0x00F0E616+1107478]\n\tOrdinal0 [0x00EE7F89+950153]\n\tOrdinal0 [0x00EE8F56+954198]\n\tGetHandleVerifier [0x01312CB2+3040210]\n\tGetHandleVerifier [0x01302BB4+2974420]\n\tGetHandleVerifier [0x010B6A0A+565546]\n\tGetHandleVerifier [0x010B5680+560544]\n\tOrdinal0 [0x00FB9A5C+1808988]\n\tOrdinal0 [0x00FBE3A8+1827752]\n\tOrdinal0 [0x00FBE495+1827989]\n\tOrdinal0 [0x00FC80A4+1867940]\n\tBaseThreadInitThunk [0x7566FA29+25]\n\tRtlGetAppContainerNamedObjectPath [0x777F7BBE+286]\n\tRtlGetAppContainerNamedObjectPath [0x777F7B8E+238]\n"
     ]
    }
   ],
   "source": [
    "# Clicando no botão editar \n",
    "driver.find_element(By. ID, \"action-menu-toggle-5\").click()"
   ]
  },
  {
   "cell_type": "code",
   "execution_count": null,
   "metadata": {},
   "outputs": [],
   "source": [
    "# Clicando em editar configurações\n",
    "driver.find_element(By. XPATH, '//*[@id=\"actionmenuaction-17\"]').click()"
   ]
  },
  {
   "cell_type": "code",
   "execution_count": null,
   "metadata": {},
   "outputs": [],
   "source": [
    "# Clicando no texto do rótulo e inserirndo o link\n",
    "driver.find_element(By.ID,'id_introeditoreditable').send_keys('Alo')"
   ]
  },
  {
   "cell_type": "code",
   "execution_count": 27,
   "metadata": {},
   "outputs": [
    {
     "data": {
      "text/html": [
       "<div>\n",
       "<style scoped>\n",
       "    .dataframe tbody tr th:only-of-type {\n",
       "        vertical-align: middle;\n",
       "    }\n",
       "\n",
       "    .dataframe tbody tr th {\n",
       "        vertical-align: top;\n",
       "    }\n",
       "\n",
       "    .dataframe thead th {\n",
       "        text-align: right;\n",
       "    }\n",
       "</style>\n",
       "<table border=\"1\" class=\"dataframe\">\n",
       "  <thead>\n",
       "    <tr style=\"text-align: right;\">\n",
       "      <th></th>\n",
       "      <th>Pessoa</th>\n",
       "      <th>Mensagem</th>\n",
       "      <th>Número</th>\n",
       "    </tr>\n",
       "  </thead>\n",
       "  <tbody>\n",
       "    <tr>\n",
       "      <th>0</th>\n",
       "      <td>https://ead.unigama.com/course/view.php?id=1157</td>\n",
       "      <td>https://www.youtube.com/watch?v=OMWzMxjU-Bw</td>\n",
       "      <td>Se eu te enviei essa mensagem é porque eu cons...</td>\n",
       "    </tr>\n",
       "    <tr>\n",
       "      <th>1</th>\n",
       "      <td>https://ead.unigama.com/course/view.php?id=1068</td>\n",
       "      <td>https://www.youtube.com/watch?v=OMWzMxjU-Bw</td>\n",
       "      <td>Se eu te enviei essa mensagem é porque eu cons...</td>\n",
       "    </tr>\n",
       "    <tr>\n",
       "      <th>2</th>\n",
       "      <td>NaN</td>\n",
       "      <td>NaN</td>\n",
       "      <td>Se eu te enviei essa mensagem é porque eu cons...</td>\n",
       "    </tr>\n",
       "  </tbody>\n",
       "</table>\n",
       "</div>"
      ],
      "text/plain": [
       "                                            Pessoa  \\\n",
       "0  https://ead.unigama.com/course/view.php?id=1157   \n",
       "1  https://ead.unigama.com/course/view.php?id=1068   \n",
       "2                                              NaN   \n",
       "\n",
       "                                      Mensagem  \\\n",
       "0  https://www.youtube.com/watch?v=OMWzMxjU-Bw   \n",
       "1  https://www.youtube.com/watch?v=OMWzMxjU-Bw   \n",
       "2                                          NaN   \n",
       "\n",
       "                                              Número  \n",
       "0  Se eu te enviei essa mensagem é porque eu cons...  \n",
       "1  Se eu te enviei essa mensagem é porque eu cons...  \n",
       "2  Se eu te enviei essa mensagem é porque eu cons...  "
      ]
     },
     "metadata": {},
     "output_type": "display_data"
    },
    {
     "ename": "InvalidArgumentException",
     "evalue": "Message: invalid argument: missing command parameters\nStacktrace:\nBacktrace:\n\tOrdinal0 [0x0101DF13+2219795]\n\tOrdinal0 [0x00FB2841+1779777]\n\tOrdinal0 [0x00EC423D+803389]\n\tOrdinal0 [0x00F0C76C+1099628]\n\tOrdinal0 [0x00F0C0A8+1097896]\n\tOrdinal0 [0x00EA51F7+676343]\n\tOrdinal0 [0x00EA5863+677987]\n\tOrdinal0 [0x00EA5C9A+679066]\n\tGetHandleVerifier [0x01312CB2+3040210]\n\tGetHandleVerifier [0x01302BB4+2974420]\n\tGetHandleVerifier [0x010B6A0A+565546]\n\tGetHandleVerifier [0x010B5680+560544]\n\tOrdinal0 [0x00FB9A5C+1808988]\n\tOrdinal0 [0x00EA5071+675953]\n\tOrdinal0 [0x00EA4A21+674337]\n\tGetHandleVerifier [0x0133886C+3194764]\n\tBaseThreadInitThunk [0x7566FA29+25]\n\tRtlGetAppContainerNamedObjectPath [0x777F7BBE+286]\n\tRtlGetAppContainerNamedObjectPath [0x777F7B8E+238]\n",
     "output_type": "error",
     "traceback": [
      "\u001b[1;31m---------------------------------------------------------------------------\u001b[0m",
      "\u001b[1;31mInvalidArgumentException\u001b[0m                  Traceback (most recent call last)",
      "Cell \u001b[1;32mIn [27], line 10\u001b[0m\n\u001b[0;32m      7\u001b[0m \u001b[39mfor\u001b[39;00m i, mensagem \u001b[39min\u001b[39;00m \u001b[39menumerate\u001b[39m(contatos_df[\u001b[39m'\u001b[39m\u001b[39mMensagem\u001b[39m\u001b[39m'\u001b[39m]):\n\u001b[0;32m      8\u001b[0m     pessoa \u001b[39m=\u001b[39m contatos_df\u001b[39m.\u001b[39mloc[i, \u001b[39m'\u001b[39m\u001b[39mPessoa\u001b[39m\u001b[39m'\u001b[39m]\n\u001b[1;32m---> 10\u001b[0m     driver\u001b[39m.\u001b[39;49mget(pessoa)\n",
      "File \u001b[1;32mc:\\Users\\Marketing\\AppData\\Local\\Programs\\Python\\Python310\\lib\\site-packages\\selenium\\webdriver\\remote\\webdriver.py:440\u001b[0m, in \u001b[0;36mWebDriver.get\u001b[1;34m(self, url)\u001b[0m\n\u001b[0;32m    436\u001b[0m \u001b[39mdef\u001b[39;00m \u001b[39mget\u001b[39m(\u001b[39mself\u001b[39m, url: \u001b[39mstr\u001b[39m) \u001b[39m-\u001b[39m\u001b[39m>\u001b[39m \u001b[39mNone\u001b[39;00m:\n\u001b[0;32m    437\u001b[0m     \u001b[39m\"\"\"\u001b[39;00m\n\u001b[0;32m    438\u001b[0m \u001b[39m    Loads a web page in the current browser session.\u001b[39;00m\n\u001b[0;32m    439\u001b[0m \u001b[39m    \"\"\"\u001b[39;00m\n\u001b[1;32m--> 440\u001b[0m     \u001b[39mself\u001b[39;49m\u001b[39m.\u001b[39;49mexecute(Command\u001b[39m.\u001b[39;49mGET, {\u001b[39m'\u001b[39;49m\u001b[39murl\u001b[39;49m\u001b[39m'\u001b[39;49m: url})\n",
      "File \u001b[1;32mc:\\Users\\Marketing\\AppData\\Local\\Programs\\Python\\Python310\\lib\\site-packages\\selenium\\webdriver\\remote\\webdriver.py:428\u001b[0m, in \u001b[0;36mWebDriver.execute\u001b[1;34m(self, driver_command, params)\u001b[0m\n\u001b[0;32m    426\u001b[0m response \u001b[39m=\u001b[39m \u001b[39mself\u001b[39m\u001b[39m.\u001b[39mcommand_executor\u001b[39m.\u001b[39mexecute(driver_command, params)\n\u001b[0;32m    427\u001b[0m \u001b[39mif\u001b[39;00m response:\n\u001b[1;32m--> 428\u001b[0m     \u001b[39mself\u001b[39;49m\u001b[39m.\u001b[39;49merror_handler\u001b[39m.\u001b[39;49mcheck_response(response)\n\u001b[0;32m    429\u001b[0m     response[\u001b[39m'\u001b[39m\u001b[39mvalue\u001b[39m\u001b[39m'\u001b[39m] \u001b[39m=\u001b[39m \u001b[39mself\u001b[39m\u001b[39m.\u001b[39m_unwrap_value(\n\u001b[0;32m    430\u001b[0m         response\u001b[39m.\u001b[39mget(\u001b[39m'\u001b[39m\u001b[39mvalue\u001b[39m\u001b[39m'\u001b[39m, \u001b[39mNone\u001b[39;00m))\n\u001b[0;32m    431\u001b[0m     \u001b[39mreturn\u001b[39;00m response\n",
      "File \u001b[1;32mc:\\Users\\Marketing\\AppData\\Local\\Programs\\Python\\Python310\\lib\\site-packages\\selenium\\webdriver\\remote\\errorhandler.py:243\u001b[0m, in \u001b[0;36mErrorHandler.check_response\u001b[1;34m(self, response)\u001b[0m\n\u001b[0;32m    241\u001b[0m         alert_text \u001b[39m=\u001b[39m value[\u001b[39m'\u001b[39m\u001b[39malert\u001b[39m\u001b[39m'\u001b[39m]\u001b[39m.\u001b[39mget(\u001b[39m'\u001b[39m\u001b[39mtext\u001b[39m\u001b[39m'\u001b[39m)\n\u001b[0;32m    242\u001b[0m     \u001b[39mraise\u001b[39;00m exception_class(message, screen, stacktrace, alert_text)  \u001b[39m# type: ignore[call-arg]  # mypy is not smart enough here\u001b[39;00m\n\u001b[1;32m--> 243\u001b[0m \u001b[39mraise\u001b[39;00m exception_class(message, screen, stacktrace)\n",
      "\u001b[1;31mInvalidArgumentException\u001b[0m: Message: invalid argument: missing command parameters\nStacktrace:\nBacktrace:\n\tOrdinal0 [0x0101DF13+2219795]\n\tOrdinal0 [0x00FB2841+1779777]\n\tOrdinal0 [0x00EC423D+803389]\n\tOrdinal0 [0x00F0C76C+1099628]\n\tOrdinal0 [0x00F0C0A8+1097896]\n\tOrdinal0 [0x00EA51F7+676343]\n\tOrdinal0 [0x00EA5863+677987]\n\tOrdinal0 [0x00EA5C9A+679066]\n\tGetHandleVerifier [0x01312CB2+3040210]\n\tGetHandleVerifier [0x01302BB4+2974420]\n\tGetHandleVerifier [0x010B6A0A+565546]\n\tGetHandleVerifier [0x010B5680+560544]\n\tOrdinal0 [0x00FB9A5C+1808988]\n\tOrdinal0 [0x00EA5071+675953]\n\tOrdinal0 [0x00EA4A21+674337]\n\tGetHandleVerifier [0x0133886C+3194764]\n\tBaseThreadInitThunk [0x7566FA29+25]\n\tRtlGetAppContainerNamedObjectPath [0x777F7BBE+286]\n\tRtlGetAppContainerNamedObjectPath [0x777F7B8E+238]\n"
     ]
    }
   ],
   "source": [
    "contatos_df = pd.read_excel('Enviar.xlsx')\n",
    "display(contatos_df)\n",
    "\n",
    "# i = indice vai me da o primeiro elemento e quando rodar de novo vai ser o segundo elemento\n",
    "\n",
    "# Para cada mensagem dentro da coluna de Mensagem \n",
    "for i, mensagem in enumerate(contatos_df['Mensagem']):\n",
    "    pessoa = contatos_df.loc[i, 'Pessoa']\n",
    "\n",
    "    driver.get(pessoa)\n"
   ]
  },
  {
   "cell_type": "code",
   "execution_count": null,
   "metadata": {},
   "outputs": [
    {
     "ename": "NameError",
     "evalue": "name 'urllib' is not defined",
     "output_type": "error",
     "traceback": [
      "\u001b[1;31m---------------------------------------------------------------------------\u001b[0m",
      "\u001b[1;31mNameError\u001b[0m                                 Traceback (most recent call last)",
      "Cell \u001b[1;32mIn [19], line 5\u001b[0m\n\u001b[0;32m      3\u001b[0m pessoa \u001b[39m=\u001b[39m contatos_df\u001b[39m.\u001b[39mloc[i,\u001b[39m'\u001b[39m\u001b[39mPessoa\u001b[39m\u001b[39m'\u001b[39m]\n\u001b[0;32m      4\u001b[0m numero \u001b[39m=\u001b[39m contatos_df\u001b[39m.\u001b[39mloc[i, \u001b[39m'\u001b[39m\u001b[39mNúmero\u001b[39m\u001b[39m'\u001b[39m]\n\u001b[1;32m----> 5\u001b[0m texto \u001b[39m=\u001b[39m urllib\u001b[39m.\u001b[39mparse\u001b[39m.\u001b[39mquote( \u001b[39mf\u001b[39m\u001b[39m\"\u001b[39m\u001b[39m Oi \u001b[39m\u001b[39m{\u001b[39;00mpessoa\u001b[39m}\u001b[39;00m\u001b[39m! \u001b[39m\u001b[39m{\u001b[39;00mmensagem\u001b[39m}\u001b[39;00m\u001b[39m\"\u001b[39m)\n\u001b[0;32m      6\u001b[0m link \u001b[39m=\u001b[39m \u001b[39mf\u001b[39m\u001b[39m\"\u001b[39m\u001b[39mhttps://web.whatsapp.com/send?phone=\u001b[39m\u001b[39m{\u001b[39;00mnumero\u001b[39m}\u001b[39;00m\u001b[39m&text=\u001b[39m\u001b[39m{\u001b[39;00mtexto\u001b[39m}\u001b[39;00m\u001b[39m\"\u001b[39m\n\u001b[0;32m      7\u001b[0m navegador\u001b[39m.\u001b[39mget(link)\n",
      "\u001b[1;31mNameError\u001b[0m: name 'urllib' is not defined"
     ]
    }
   ],
   "source": [
    "#PASSO 2: loop para envio de mensagens para os contatos\n",
    "for i, mensagem in enumerate(contatos_df['Mensagem']):\n",
    "    pessoa = contatos_df.loc[i,'Pessoa']\n",
    "    numero = contatos_df.loc[i, 'Número']\n",
    "    texto = urllib.parse.quote( f\" Oi {pessoa}! {mensagem}\")\n",
    "    link = f\"https://web.whatsapp.com/send?phone={numero}&text={texto}\"\n",
    "    navegador.get(link)\n",
    "    \n",
    "    #Esperando o wpp carregar\n",
    "    while len (navegador.find_element('xpath', '//*[@id=\"side\"]/div[1]/div/button/div/span')) <1:\n",
    "        time.sleep(1)\n",
    "\n",
    "    #dando enter na mensagem    \n",
    "    navegador.find_element('xpath','//*[@id=\"main\"]/footer/div[1]/div/span[2]/div/div[2]/div[1]/div/div/p').send_keys(Keys.ENTER)\n",
    "    time.sleep(10)\n"
   ]
  }
 ],
 "metadata": {
  "kernelspec": {
   "display_name": "Python 3.10.6 64-bit",
   "language": "python",
   "name": "python3"
  },
  "language_info": {
   "codemirror_mode": {
    "name": "ipython",
    "version": 3
   },
   "file_extension": ".py",
   "mimetype": "text/x-python",
   "name": "python",
   "nbconvert_exporter": "python",
   "pygments_lexer": "ipython3",
   "version": "3.10.6"
  },
  "orig_nbformat": 4,
  "vscode": {
   "interpreter": {
    "hash": "e5812f60cce1511b9925b68cbaacd0423d0ef0159e8ddbee7c4080436544beb1"
   }
  }
 },
 "nbformat": 4,
 "nbformat_minor": 2
}
