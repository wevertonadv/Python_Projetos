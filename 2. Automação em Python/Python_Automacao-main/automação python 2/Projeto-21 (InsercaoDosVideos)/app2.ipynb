{
 "cells": [
  {
   "cell_type": "code",
   "execution_count": 1,
   "metadata": {},
   "outputs": [],
   "source": [
    "import time\n",
    "from selenium.common.exceptions import NoSuchElementException\n",
    "from selenium import webdriver\n",
    "from selenium.webdriver.common.keys import Keys\n",
    "from selenium.webdriver.common.by import By\n",
    "import keyword\n",
    "from IPython.display import display\n",
    "import pandas as pd\n",
    "\n",
    "#abrindo um navegador e acessando a página da unigama\n",
    "driver = webdriver.Chrome()\n",
    "driver.get('https://ead.unigama.com/login/index.php')\n",
    "assert \"Unigama: Acesso ao site\" in driver.title\n"
   ]
  },
  {
   "cell_type": "code",
   "execution_count": 5,
   "metadata": {},
   "outputs": [],
   "source": [
    "#ATIVANDO EDIÇÃO\n",
    "ativar = driver.find_element(By.CSS_SELECTOR, '.btn.btn-primary')\n",
    "\n",
    "ativar.click()"
   ]
  },
  {
   "cell_type": "code",
   "execution_count": 6,
   "metadata": {},
   "outputs": [
    {
     "data": {
      "text/html": [
       "<div>\n",
       "<style scoped>\n",
       "    .dataframe tbody tr th:only-of-type {\n",
       "        vertical-align: middle;\n",
       "    }\n",
       "\n",
       "    .dataframe tbody tr th {\n",
       "        vertical-align: top;\n",
       "    }\n",
       "\n",
       "    .dataframe thead th {\n",
       "        text-align: right;\n",
       "    }\n",
       "</style>\n",
       "<table border=\"1\" class=\"dataframe\">\n",
       "  <thead>\n",
       "    <tr style=\"text-align: right;\">\n",
       "      <th></th>\n",
       "      <th>Pessoa</th>\n",
       "      <th>Mensagem</th>\n",
       "      <th>Número</th>\n",
       "    </tr>\n",
       "  </thead>\n",
       "  <tbody>\n",
       "    <tr>\n",
       "      <th>0</th>\n",
       "      <td>https://ead.unigama.com/course/view.php?id=1157</td>\n",
       "      <td>https://www.youtube.com/watch?v=OMWzMxjU-Bw</td>\n",
       "      <td>Se eu te enviei essa mensagem é porque eu cons...</td>\n",
       "    </tr>\n",
       "    <tr>\n",
       "      <th>1</th>\n",
       "      <td>https://ead.unigama.com/course/view.php?id=1068</td>\n",
       "      <td>https://www.youtube.com/watch?v=OMWzMxjU-Bw</td>\n",
       "      <td>Se eu te enviei essa mensagem é porque eu cons...</td>\n",
       "    </tr>\n",
       "    <tr>\n",
       "      <th>2</th>\n",
       "      <td>NaN</td>\n",
       "      <td>NaN</td>\n",
       "      <td>Se eu te enviei essa mensagem é porque eu cons...</td>\n",
       "    </tr>\n",
       "  </tbody>\n",
       "</table>\n",
       "</div>"
      ],
      "text/plain": [
       "                                            Pessoa  \\\n",
       "0  https://ead.unigama.com/course/view.php?id=1157   \n",
       "1  https://ead.unigama.com/course/view.php?id=1068   \n",
       "2                                              NaN   \n",
       "\n",
       "                                      Mensagem  \\\n",
       "0  https://www.youtube.com/watch?v=OMWzMxjU-Bw   \n",
       "1  https://www.youtube.com/watch?v=OMWzMxjU-Bw   \n",
       "2                                          NaN   \n",
       "\n",
       "                                              Número  \n",
       "0  Se eu te enviei essa mensagem é porque eu cons...  \n",
       "1  Se eu te enviei essa mensagem é porque eu cons...  \n",
       "2  Se eu te enviei essa mensagem é porque eu cons...  "
      ]
     },
     "metadata": {},
     "output_type": "display_data"
    },
    {
     "ename": "InvalidArgumentException",
     "evalue": "Message: invalid argument: missing command parameters\nStacktrace:\nBacktrace:\n\tOrdinal0 [0x0101DF13+2219795]\n\tOrdinal0 [0x00FB2841+1779777]\n\tOrdinal0 [0x00EC423D+803389]\n\tOrdinal0 [0x00F0C76C+1099628]\n\tOrdinal0 [0x00F0C0A8+1097896]\n\tOrdinal0 [0x00EA51F7+676343]\n\tOrdinal0 [0x00EA5863+677987]\n\tOrdinal0 [0x00EA5C9A+679066]\n\tGetHandleVerifier [0x01312CB2+3040210]\n\tGetHandleVerifier [0x01302BB4+2974420]\n\tGetHandleVerifier [0x010B6A0A+565546]\n\tGetHandleVerifier [0x010B5680+560544]\n\tOrdinal0 [0x00FB9A5C+1808988]\n\tOrdinal0 [0x00EA5071+675953]\n\tOrdinal0 [0x00EA4A21+674337]\n\tGetHandleVerifier [0x0133886C+3194764]\n\tBaseThreadInitThunk [0x7566FA29+25]\n\tRtlGetAppContainerNamedObjectPath [0x777F7BBE+286]\n\tRtlGetAppContainerNamedObjectPath [0x777F7B8E+238]\n",
     "output_type": "error",
     "traceback": [
      "\u001b[1;31m---------------------------------------------------------------------------\u001b[0m",
      "\u001b[1;31mInvalidArgumentException\u001b[0m                  Traceback (most recent call last)",
      "Cell \u001b[1;32mIn [6], line 10\u001b[0m\n\u001b[0;32m      7\u001b[0m \u001b[39mfor\u001b[39;00m i, mensagem \u001b[39min\u001b[39;00m \u001b[39menumerate\u001b[39m(contatos_df[\u001b[39m'\u001b[39m\u001b[39mMensagem\u001b[39m\u001b[39m'\u001b[39m]):\n\u001b[0;32m      8\u001b[0m     pessoa \u001b[39m=\u001b[39m contatos_df\u001b[39m.\u001b[39mloc[i, \u001b[39m'\u001b[39m\u001b[39mPessoa\u001b[39m\u001b[39m'\u001b[39m]\n\u001b[1;32m---> 10\u001b[0m     driver\u001b[39m.\u001b[39;49mget(pessoa)\n\u001b[0;32m     12\u001b[0m     \u001b[39m# Clicando no botão editar \u001b[39;00m\n\u001b[0;32m     13\u001b[0m     driver\u001b[39m.\u001b[39mfind_element(By\u001b[39m.\u001b[39m ID, \u001b[39m\"\u001b[39m\u001b[39maction-menu-toggle-5\u001b[39m\u001b[39m\"\u001b[39m)\u001b[39m.\u001b[39mclick()\n",
      "File \u001b[1;32mc:\\Users\\Marketing\\AppData\\Local\\Programs\\Python\\Python310\\lib\\site-packages\\selenium\\webdriver\\remote\\webdriver.py:440\u001b[0m, in \u001b[0;36mWebDriver.get\u001b[1;34m(self, url)\u001b[0m\n\u001b[0;32m    436\u001b[0m \u001b[39mdef\u001b[39;00m \u001b[39mget\u001b[39m(\u001b[39mself\u001b[39m, url: \u001b[39mstr\u001b[39m) \u001b[39m-\u001b[39m\u001b[39m>\u001b[39m \u001b[39mNone\u001b[39;00m:\n\u001b[0;32m    437\u001b[0m     \u001b[39m\"\"\"\u001b[39;00m\n\u001b[0;32m    438\u001b[0m \u001b[39m    Loads a web page in the current browser session.\u001b[39;00m\n\u001b[0;32m    439\u001b[0m \u001b[39m    \"\"\"\u001b[39;00m\n\u001b[1;32m--> 440\u001b[0m     \u001b[39mself\u001b[39;49m\u001b[39m.\u001b[39;49mexecute(Command\u001b[39m.\u001b[39;49mGET, {\u001b[39m'\u001b[39;49m\u001b[39murl\u001b[39;49m\u001b[39m'\u001b[39;49m: url})\n",
      "File \u001b[1;32mc:\\Users\\Marketing\\AppData\\Local\\Programs\\Python\\Python310\\lib\\site-packages\\selenium\\webdriver\\remote\\webdriver.py:428\u001b[0m, in \u001b[0;36mWebDriver.execute\u001b[1;34m(self, driver_command, params)\u001b[0m\n\u001b[0;32m    426\u001b[0m response \u001b[39m=\u001b[39m \u001b[39mself\u001b[39m\u001b[39m.\u001b[39mcommand_executor\u001b[39m.\u001b[39mexecute(driver_command, params)\n\u001b[0;32m    427\u001b[0m \u001b[39mif\u001b[39;00m response:\n\u001b[1;32m--> 428\u001b[0m     \u001b[39mself\u001b[39;49m\u001b[39m.\u001b[39;49merror_handler\u001b[39m.\u001b[39;49mcheck_response(response)\n\u001b[0;32m    429\u001b[0m     response[\u001b[39m'\u001b[39m\u001b[39mvalue\u001b[39m\u001b[39m'\u001b[39m] \u001b[39m=\u001b[39m \u001b[39mself\u001b[39m\u001b[39m.\u001b[39m_unwrap_value(\n\u001b[0;32m    430\u001b[0m         response\u001b[39m.\u001b[39mget(\u001b[39m'\u001b[39m\u001b[39mvalue\u001b[39m\u001b[39m'\u001b[39m, \u001b[39mNone\u001b[39;00m))\n\u001b[0;32m    431\u001b[0m     \u001b[39mreturn\u001b[39;00m response\n",
      "File \u001b[1;32mc:\\Users\\Marketing\\AppData\\Local\\Programs\\Python\\Python310\\lib\\site-packages\\selenium\\webdriver\\remote\\errorhandler.py:243\u001b[0m, in \u001b[0;36mErrorHandler.check_response\u001b[1;34m(self, response)\u001b[0m\n\u001b[0;32m    241\u001b[0m         alert_text \u001b[39m=\u001b[39m value[\u001b[39m'\u001b[39m\u001b[39malert\u001b[39m\u001b[39m'\u001b[39m]\u001b[39m.\u001b[39mget(\u001b[39m'\u001b[39m\u001b[39mtext\u001b[39m\u001b[39m'\u001b[39m)\n\u001b[0;32m    242\u001b[0m     \u001b[39mraise\u001b[39;00m exception_class(message, screen, stacktrace, alert_text)  \u001b[39m# type: ignore[call-arg]  # mypy is not smart enough here\u001b[39;00m\n\u001b[1;32m--> 243\u001b[0m \u001b[39mraise\u001b[39;00m exception_class(message, screen, stacktrace)\n",
      "\u001b[1;31mInvalidArgumentException\u001b[0m: Message: invalid argument: missing command parameters\nStacktrace:\nBacktrace:\n\tOrdinal0 [0x0101DF13+2219795]\n\tOrdinal0 [0x00FB2841+1779777]\n\tOrdinal0 [0x00EC423D+803389]\n\tOrdinal0 [0x00F0C76C+1099628]\n\tOrdinal0 [0x00F0C0A8+1097896]\n\tOrdinal0 [0x00EA51F7+676343]\n\tOrdinal0 [0x00EA5863+677987]\n\tOrdinal0 [0x00EA5C9A+679066]\n\tGetHandleVerifier [0x01312CB2+3040210]\n\tGetHandleVerifier [0x01302BB4+2974420]\n\tGetHandleVerifier [0x010B6A0A+565546]\n\tGetHandleVerifier [0x010B5680+560544]\n\tOrdinal0 [0x00FB9A5C+1808988]\n\tOrdinal0 [0x00EA5071+675953]\n\tOrdinal0 [0x00EA4A21+674337]\n\tGetHandleVerifier [0x0133886C+3194764]\n\tBaseThreadInitThunk [0x7566FA29+25]\n\tRtlGetAppContainerNamedObjectPath [0x777F7BBE+286]\n\tRtlGetAppContainerNamedObjectPath [0x777F7B8E+238]\n"
     ]
    }
   ],
   "source": [
    "contatos_df = pd.read_excel('Enviar.xlsx')\n",
    "display(contatos_df)\n",
    "\n",
    "# i = indice vai me da o primeiro elemento e quando rodar de novo vai ser o segundo elemento\n",
    "\n",
    "# Para cada mensagem dentro da coluna de Mensagem \n",
    "for i, youtube in enumerate(contatos_df['Youtube']):\n",
    "    link = contatos_df.loc[i, 'Link']\n",
    "\n",
    "    driver.get(link)\n",
    "\n",
    "    # Clicando no botão editar \n",
    "    driver.find_element(By. ID, \"action-menu-toggle-5\").click()\n",
    "\n",
    "    # Clicando em editar configurações\n",
    "    driver.find_element(By. XPATH, '//*[@id=\"actionmenuaction-17\"]').click()\n",
    "    time.sleep(1)\n",
    "\n",
    "    # Clicando no texto do rótulo e inserirndo o link\n",
    "    driver.find_element(By.ID,'id_introeditoreditable').send_keys(youtube)\n",
    "\n",
    "    # Apertando o botão salvar e voltar ao curso\n",
    "    driver.find_element(By. ID, 'id_submitbutton2').click()\n",
    "    time.sleep(1)\n",
    "\n",
    "\n"
   ]
  }
 ],
 "metadata": {
  "kernelspec": {
   "display_name": "Python 3.10.6 64-bit",
   "language": "python",
   "name": "python3"
  },
  "language_info": {
   "codemirror_mode": {
    "name": "ipython",
    "version": 3
   },
   "file_extension": ".py",
   "mimetype": "text/x-python",
   "name": "python",
   "nbconvert_exporter": "python",
   "pygments_lexer": "ipython3",
   "version": "3.10.6"
  },
  "orig_nbformat": 4,
  "vscode": {
   "interpreter": {
    "hash": "e5812f60cce1511b9925b68cbaacd0423d0ef0159e8ddbee7c4080436544beb1"
   }
  }
 },
 "nbformat": 4,
 "nbformat_minor": 2
}
