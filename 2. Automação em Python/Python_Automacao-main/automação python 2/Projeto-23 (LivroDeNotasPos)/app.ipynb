{
 "cells": [
  {
   "cell_type": "code",
   "execution_count": 1,
   "metadata": {},
   "outputs": [],
   "source": [
    "from selenium import webdriver\n",
    "from selenium.webdriver.common.keys import Keys\n",
    "from selenium.webdriver.common.by import By\n",
    "import time\n",
    "import pandas as pd\n",
    "\n",
    "driver = webdriver.Chrome()\n",
    "driver.get(\"https://ead.unigama.com/my/\")\n",
    "\n"
   ]
  },
  {
   "cell_type": "code",
   "execution_count": 2,
   "metadata": {},
   "outputs": [],
   "source": [
    "# Acessando a disciplina        \n",
    "driver.get('https://ead.unigama.com/course/view.php?id=1172')"
   ]
  },
  {
   "cell_type": "code",
   "execution_count": 3,
   "metadata": {},
   "outputs": [
    {
     "ename": "NoSuchElementException",
     "evalue": "Message: no such element: Unable to locate element: {\"method\":\"xpath\",\"selector\":\"/html/body/div[3]/div[2]/header/div/div/div/div[1]/div[2]/div/div/div/div/a/i\"}\n  (Session info: chrome=107.0.5304.87)\nStacktrace:\nBacktrace:\n\tOrdinal0 [0x0043ACD3+2075859]\n\tOrdinal0 [0x003CEE61+1633889]\n\tOrdinal0 [0x002CB7BD+571325]\n\tOrdinal0 [0x002FAC2F+764975]\n\tOrdinal0 [0x002FAE1B+765467]\n\tOrdinal0 [0x0032D0F2+970994]\n\tOrdinal0 [0x00317364+881508]\n\tOrdinal0 [0x0032B56A+963946]\n\tOrdinal0 [0x00317136+880950]\n\tOrdinal0 [0x002EFEFD+720637]\n\tOrdinal0 [0x002F0F3F+724799]\n\tGetHandleVerifier [0x006EEED2+2769538]\n\tGetHandleVerifier [0x006E0D95+2711877]\n\tGetHandleVerifier [0x004CA03A+521194]\n\tGetHandleVerifier [0x004C8DA0+516432]\n\tOrdinal0 [0x003D682C+1665068]\n\tOrdinal0 [0x003DB128+1683752]\n\tOrdinal0 [0x003DB215+1683989]\n\tOrdinal0 [0x003E6484+1729668]\n\tBaseThreadInitThunk [0x7566FA29+25]\n\tRtlGetAppContainerNamedObjectPath [0x777F7BBE+286]\n\tRtlGetAppContainerNamedObjectPath [0x777F7B8E+238]\n",
     "output_type": "error",
     "traceback": [
      "\u001b[1;31m---------------------------------------------------------------------------\u001b[0m",
      "\u001b[1;31mNoSuchElementException\u001b[0m                    Traceback (most recent call last)",
      "Cell \u001b[1;32mIn [3], line 2\u001b[0m\n\u001b[0;32m      1\u001b[0m \u001b[39m# Entrando nas configurações da disciplina\u001b[39;00m\n\u001b[1;32m----> 2\u001b[0m elem  \u001b[39m=\u001b[39m  driver\u001b[39m.\u001b[39;49mfind_element(By\u001b[39m.\u001b[39;49m XPATH, \u001b[39m'\u001b[39;49m\u001b[39m/html/body/div[3]/div[2]/header/div/div/div/div[1]/div[2]/div/div/div/div/a/i\u001b[39;49m\u001b[39m'\u001b[39;49m)\n\u001b[0;32m      4\u001b[0m elem\u001b[39m.\u001b[39mclick()\n",
      "File \u001b[1;32mc:\\Users\\Marketing\\AppData\\Local\\Programs\\Python\\Python310\\lib\\site-packages\\selenium\\webdriver\\remote\\webdriver.py:855\u001b[0m, in \u001b[0;36mWebDriver.find_element\u001b[1;34m(self, by, value)\u001b[0m\n\u001b[0;32m    852\u001b[0m     by \u001b[39m=\u001b[39m By\u001b[39m.\u001b[39mCSS_SELECTOR\n\u001b[0;32m    853\u001b[0m     value \u001b[39m=\u001b[39m \u001b[39m'\u001b[39m\u001b[39m[name=\u001b[39m\u001b[39m\"\u001b[39m\u001b[39m%s\u001b[39;00m\u001b[39m\"\u001b[39m\u001b[39m]\u001b[39m\u001b[39m'\u001b[39m \u001b[39m%\u001b[39m value\n\u001b[1;32m--> 855\u001b[0m \u001b[39mreturn\u001b[39;00m \u001b[39mself\u001b[39;49m\u001b[39m.\u001b[39;49mexecute(Command\u001b[39m.\u001b[39;49mFIND_ELEMENT, {\n\u001b[0;32m    856\u001b[0m     \u001b[39m'\u001b[39;49m\u001b[39musing\u001b[39;49m\u001b[39m'\u001b[39;49m: by,\n\u001b[0;32m    857\u001b[0m     \u001b[39m'\u001b[39;49m\u001b[39mvalue\u001b[39;49m\u001b[39m'\u001b[39;49m: value})[\u001b[39m'\u001b[39m\u001b[39mvalue\u001b[39m\u001b[39m'\u001b[39m]\n",
      "File \u001b[1;32mc:\\Users\\Marketing\\AppData\\Local\\Programs\\Python\\Python310\\lib\\site-packages\\selenium\\webdriver\\remote\\webdriver.py:428\u001b[0m, in \u001b[0;36mWebDriver.execute\u001b[1;34m(self, driver_command, params)\u001b[0m\n\u001b[0;32m    426\u001b[0m response \u001b[39m=\u001b[39m \u001b[39mself\u001b[39m\u001b[39m.\u001b[39mcommand_executor\u001b[39m.\u001b[39mexecute(driver_command, params)\n\u001b[0;32m    427\u001b[0m \u001b[39mif\u001b[39;00m response:\n\u001b[1;32m--> 428\u001b[0m     \u001b[39mself\u001b[39;49m\u001b[39m.\u001b[39;49merror_handler\u001b[39m.\u001b[39;49mcheck_response(response)\n\u001b[0;32m    429\u001b[0m     response[\u001b[39m'\u001b[39m\u001b[39mvalue\u001b[39m\u001b[39m'\u001b[39m] \u001b[39m=\u001b[39m \u001b[39mself\u001b[39m\u001b[39m.\u001b[39m_unwrap_value(\n\u001b[0;32m    430\u001b[0m         response\u001b[39m.\u001b[39mget(\u001b[39m'\u001b[39m\u001b[39mvalue\u001b[39m\u001b[39m'\u001b[39m, \u001b[39mNone\u001b[39;00m))\n\u001b[0;32m    431\u001b[0m     \u001b[39mreturn\u001b[39;00m response\n",
      "File \u001b[1;32mc:\\Users\\Marketing\\AppData\\Local\\Programs\\Python\\Python310\\lib\\site-packages\\selenium\\webdriver\\remote\\errorhandler.py:243\u001b[0m, in \u001b[0;36mErrorHandler.check_response\u001b[1;34m(self, response)\u001b[0m\n\u001b[0;32m    241\u001b[0m         alert_text \u001b[39m=\u001b[39m value[\u001b[39m'\u001b[39m\u001b[39malert\u001b[39m\u001b[39m'\u001b[39m]\u001b[39m.\u001b[39mget(\u001b[39m'\u001b[39m\u001b[39mtext\u001b[39m\u001b[39m'\u001b[39m)\n\u001b[0;32m    242\u001b[0m     \u001b[39mraise\u001b[39;00m exception_class(message, screen, stacktrace, alert_text)  \u001b[39m# type: ignore[call-arg]  # mypy is not smart enough here\u001b[39;00m\n\u001b[1;32m--> 243\u001b[0m \u001b[39mraise\u001b[39;00m exception_class(message, screen, stacktrace)\n",
      "\u001b[1;31mNoSuchElementException\u001b[0m: Message: no such element: Unable to locate element: {\"method\":\"xpath\",\"selector\":\"/html/body/div[3]/div[2]/header/div/div/div/div[1]/div[2]/div/div/div/div/a/i\"}\n  (Session info: chrome=107.0.5304.87)\nStacktrace:\nBacktrace:\n\tOrdinal0 [0x0043ACD3+2075859]\n\tOrdinal0 [0x003CEE61+1633889]\n\tOrdinal0 [0x002CB7BD+571325]\n\tOrdinal0 [0x002FAC2F+764975]\n\tOrdinal0 [0x002FAE1B+765467]\n\tOrdinal0 [0x0032D0F2+970994]\n\tOrdinal0 [0x00317364+881508]\n\tOrdinal0 [0x0032B56A+963946]\n\tOrdinal0 [0x00317136+880950]\n\tOrdinal0 [0x002EFEFD+720637]\n\tOrdinal0 [0x002F0F3F+724799]\n\tGetHandleVerifier [0x006EEED2+2769538]\n\tGetHandleVerifier [0x006E0D95+2711877]\n\tGetHandleVerifier [0x004CA03A+521194]\n\tGetHandleVerifier [0x004C8DA0+516432]\n\tOrdinal0 [0x003D682C+1665068]\n\tOrdinal0 [0x003DB128+1683752]\n\tOrdinal0 [0x003DB215+1683989]\n\tOrdinal0 [0x003E6484+1729668]\n\tBaseThreadInitThunk [0x7566FA29+25]\n\tRtlGetAppContainerNamedObjectPath [0x777F7BBE+286]\n\tRtlGetAppContainerNamedObjectPath [0x777F7B8E+238]\n"
     ]
    }
   ],
   "source": [
    "# Entrando nas configurações da disciplina\n",
    "elem  =  driver.find_element(By. XPATH, '/html/body/div[3]/div[2]/header/div/div/div/div[1]/div[2]/div/div/div/div/a/i')\n",
    "\n",
    "elem.click()"
   ]
  },
  {
   "cell_type": "code",
   "execution_count": null,
   "metadata": {},
   "outputs": [],
   "source": [
    "# Clicando no botão editar configurações\n",
    "elem = driver.find_element(By. XPATH, '/html/body/div[3]/div[2]/header/div/div/div/div[1]/div[2]/div/div/div/div/div/div[1]/a')\n",
    "\n",
    "elem.click()"
   ]
  },
  {
   "cell_type": "code",
   "execution_count": null,
   "metadata": {},
   "outputs": [],
   "source": [
    "# Clicando em aparencia \n",
    "elem = driver.find_element(By.PARTIAL_LINK_TEXT, \"Aparência\")\n",
    "\n",
    "elem.click()"
   ]
  },
  {
   "cell_type": "code",
   "execution_count": null,
   "metadata": {},
   "outputs": [],
   "source": [
    "# Clicando em mostrar livro de notas aos estudantes\n",
    "elem = driver.find_element(By. ID, 'id_showgrades')\n",
    "\n",
    "elem.click()"
   ]
  },
  {
   "cell_type": "code",
   "execution_count": null,
   "metadata": {},
   "outputs": [],
   "source": [
    "# Clicando em Sim\n",
    "elem = driver.find_element(By. XPATH, '/html/body/div[4]/div[2]/div/div/section/div/div/div/form/fieldset[4]/div/div[3]/div[2]/select/option[2]')\n",
    "\n",
    "elem.click()"
   ]
  },
  {
   "cell_type": "code",
   "execution_count": null,
   "metadata": {},
   "outputs": [],
   "source": [
    "#clicando em salvar mudanças\n",
    "driver.find_element(By. ID, 'id_saveanddisplay').click()"
   ]
  },
  {
   "cell_type": "code",
   "execution_count": null,
   "metadata": {},
   "outputs": [],
   "source": [
    "# Entrando nas configurações da disciplina pelo full\n",
    "elem  =  driver.find_element(By. XPATH, '/html/body/div[3]/div[2]/header/div/div/div/div[1]/div[2]/div/div/div/div/a/i')\n",
    "\n",
    "elem.click()"
   ]
  },
  {
   "cell_type": "code",
   "execution_count": null,
   "metadata": {},
   "outputs": [],
   "source": [
    "# Clicando em livro de notas pelo full\n",
    "elem  =  driver.find_element(By. XPATH, '/html/body/div[3]/div[2]/header/div/div/div/div[1]/div[2]/div/div/div/div/div/div[4]/a')\n",
    "\n",
    "elem.click()"
   ]
  },
  {
   "cell_type": "code",
   "execution_count": null,
   "metadata": {},
   "outputs": [],
   "source": [
    "# Ocutando o somans \n",
    "driver.find_element(By. ID, 'action-menu-toggle-7').click()\n",
    "\n",
    "#Clicando em Ocultar\n",
    "driver.find_element(By. XPATH, '/html/body/div[3]/div[2]/div/div/section/div/div/div/div[2]/form/div/table/tbody/tr[7]/td[4]/div/div/div/div/div/a[3]').click()"
   ]
  },
  {
   "cell_type": "code",
   "execution_count": null,
   "metadata": {},
   "outputs": [],
   "source": [
    "# Clicando em Total do curso\n",
    "driver.find_element(By. ID, 'action-menu-toggle-1').click()\n",
    "\n",
    "# Clicando em editar texto\n",
    "driver.find_element(By. PARTIAL_LINK_TEXT, 'Editar cálculo').click()"
   ]
  },
  {
   "cell_type": "code",
   "execution_count": null,
   "metadata": {},
   "outputs": [],
   "source": [
    "# Apagando o calculo\n",
    "driver.find_element(By. ID, 'id_calculation').clear()\n",
    "\n",
    "# Salvando mudanças\n",
    "elem = driver.find_element(By. CSS_SELECTOR, '.btn.btn-primary').click()"
   ]
  },
  {
   "cell_type": "code",
   "execution_count": 7,
   "metadata": {},
   "outputs": [
    {
     "ename": "NameError",
     "evalue": "name 'pd' is not defined",
     "output_type": "error",
     "traceback": [
      "\u001b[1;31m---------------------------------------------------------------------------\u001b[0m",
      "\u001b[1;31mNameError\u001b[0m                                 Traceback (most recent call last)",
      "Cell \u001b[1;32mIn [7], line 1\u001b[0m\n\u001b[1;32m----> 1\u001b[0m disciplinas_df \u001b[39m=\u001b[39m pd\u001b[39m.\u001b[39mread_excel(\u001b[39m'\u001b[39m\u001b[39mListagemCursosPos.xlsx\u001b[39m\u001b[39m'\u001b[39m)\n\u001b[0;32m      2\u001b[0m display(disciplinas_df)\n",
      "\u001b[1;31mNameError\u001b[0m: name 'pd' is not defined"
     ]
    }
   ],
   "source": [
    "from os import link\n",
    "\n",
    "\n",
    "disciplinas_df = pd.read_excel('ListagemCursosPos.xlsx')\n",
    "\n",
    "for i, disciplina in enumerate(disciplinas_df['Link']):\n",
    "    link = disciplinas_df.loc[i, 'link']\n",
    "    driver.get(link)\n",
    "\n",
    "    \n"
   ]
  }
 ],
 "metadata": {
  "kernelspec": {
   "display_name": "Python 3.10.6 64-bit",
   "language": "python",
   "name": "python3"
  },
  "language_info": {
   "codemirror_mode": {
    "name": "ipython",
    "version": 3
   },
   "file_extension": ".py",
   "mimetype": "text/x-python",
   "name": "python",
   "nbconvert_exporter": "python",
   "pygments_lexer": "ipython3",
   "version": "3.10.6"
  },
  "orig_nbformat": 4,
  "vscode": {
   "interpreter": {
    "hash": "e5812f60cce1511b9925b68cbaacd0423d0ef0159e8ddbee7c4080436544beb1"
   }
  }
 },
 "nbformat": 4,
 "nbformat_minor": 2
}
