{
 "cells": [
  {
   "cell_type": "markdown",
   "metadata": {},
   "source": [
    "# pandas - \"A melhor biblioteca do Python para Dados\"\n",
    "\n",
    "- Quase sempre que você for trabalhar com dados no Python você vai usar o pandas, então é importante você saber trabalhar com essa biblioteca muito bem\n",
    "\n",
    "- Vamos aprender os principais comandos e os princípios básicos do pandas\n",
    "\n",
    "- Faça o download do Gabarito desse arquivo e use como uma cartilha de consulta (Link na descrição)"
   ]
  },
  {
   "cell_type": "markdown",
   "metadata": {},
   "source": [
    "### Importando o pandas"
   ]
  },
  {
   "cell_type": "code",
   "execution_count": 4,
   "metadata": {},
   "outputs": [],
   "source": [
    "import pandas as pd     "
   ]
  },
  {
   "cell_type": "markdown",
   "metadata": {},
   "source": [
    "### Criando um dataframe a partir de um dicionário"
   ]
  },
  {
   "cell_type": "code",
   "execution_count": 6,
   "metadata": {},
   "outputs": [],
   "source": [
    "# dataframe = pd.DataFrame()\n",
    "venda = {'data': ['15/02/2021', '16/02/2021'],\n",
    "         'valor': [500, 300],\n",
    "         'produto': ['feijao', 'arroz'],\n",
    "         'qtde': [50, 70],\n",
    "        }\n",
    "\n",
    "vendas_df = pd.DataFrame(venda)\n",
    "#tabela_vendas = pd.DataFrame(venda)"
   ]
  },
  {
   "cell_type": "markdown",
   "metadata": {},
   "source": [
    "### Visualização dos Dados\n",
    "    - print\n",
    "    - display"
   ]
  },
  {
   "cell_type": "code",
   "execution_count": 7,
   "metadata": {},
   "outputs": [
    {
     "data": {
      "text/html": [
       "<div>\n",
       "<style scoped>\n",
       "    .dataframe tbody tr th:only-of-type {\n",
       "        vertical-align: middle;\n",
       "    }\n",
       "\n",
       "    .dataframe tbody tr th {\n",
       "        vertical-align: top;\n",
       "    }\n",
       "\n",
       "    .dataframe thead th {\n",
       "        text-align: right;\n",
       "    }\n",
       "</style>\n",
       "<table border=\"1\" class=\"dataframe\">\n",
       "  <thead>\n",
       "    <tr style=\"text-align: right;\">\n",
       "      <th></th>\n",
       "      <th>data</th>\n",
       "      <th>valor</th>\n",
       "      <th>produto</th>\n",
       "      <th>qtde</th>\n",
       "    </tr>\n",
       "  </thead>\n",
       "  <tbody>\n",
       "    <tr>\n",
       "      <th>0</th>\n",
       "      <td>15/02/2021</td>\n",
       "      <td>500</td>\n",
       "      <td>feijao</td>\n",
       "      <td>50</td>\n",
       "    </tr>\n",
       "    <tr>\n",
       "      <th>1</th>\n",
       "      <td>16/02/2021</td>\n",
       "      <td>300</td>\n",
       "      <td>arroz</td>\n",
       "      <td>70</td>\n",
       "    </tr>\n",
       "  </tbody>\n",
       "</table>\n",
       "</div>"
      ],
      "text/plain": [
       "         data  valor produto  qtde\n",
       "0  15/02/2021    500  feijao    50\n",
       "1  16/02/2021    300   arroz    70"
      ]
     },
     "metadata": {},
     "output_type": "display_data"
    }
   ],
   "source": [
    "display(vendas_df)"
   ]
  },
  {
   "cell_type": "markdown",
   "metadata": {},
   "source": [
    "### Importando arquivos e bases de dados"
   ]
  },
  {
   "cell_type": "code",
   "execution_count": 8,
   "metadata": {},
   "outputs": [
    {
     "data": {
      "text/html": [
       "<div>\n",
       "<style scoped>\n",
       "    .dataframe tbody tr th:only-of-type {\n",
       "        vertical-align: middle;\n",
       "    }\n",
       "\n",
       "    .dataframe tbody tr th {\n",
       "        vertical-align: top;\n",
       "    }\n",
       "\n",
       "    .dataframe thead th {\n",
       "        text-align: right;\n",
       "    }\n",
       "</style>\n",
       "<table border=\"1\" class=\"dataframe\">\n",
       "  <thead>\n",
       "    <tr style=\"text-align: right;\">\n",
       "      <th></th>\n",
       "      <th>Código Venda</th>\n",
       "      <th>Data</th>\n",
       "      <th>ID Loja</th>\n",
       "      <th>Produto</th>\n",
       "      <th>Quantidade</th>\n",
       "      <th>Valor Unitário</th>\n",
       "      <th>Valor Final</th>\n",
       "    </tr>\n",
       "  </thead>\n",
       "  <tbody>\n",
       "    <tr>\n",
       "      <th>0</th>\n",
       "      <td>1</td>\n",
       "      <td>2019-01-01</td>\n",
       "      <td>Iguatemi Esplanada</td>\n",
       "      <td>Sapato Estampa</td>\n",
       "      <td>1</td>\n",
       "      <td>358</td>\n",
       "      <td>358</td>\n",
       "    </tr>\n",
       "    <tr>\n",
       "      <th>1</th>\n",
       "      <td>1</td>\n",
       "      <td>2019-01-01</td>\n",
       "      <td>Iguatemi Esplanada</td>\n",
       "      <td>Camiseta</td>\n",
       "      <td>2</td>\n",
       "      <td>180</td>\n",
       "      <td>360</td>\n",
       "    </tr>\n",
       "    <tr>\n",
       "      <th>2</th>\n",
       "      <td>1</td>\n",
       "      <td>2019-01-01</td>\n",
       "      <td>Iguatemi Esplanada</td>\n",
       "      <td>Sapato Xadrez</td>\n",
       "      <td>1</td>\n",
       "      <td>368</td>\n",
       "      <td>368</td>\n",
       "    </tr>\n",
       "    <tr>\n",
       "      <th>3</th>\n",
       "      <td>2</td>\n",
       "      <td>2019-01-02</td>\n",
       "      <td>Norte Shopping</td>\n",
       "      <td>Relógio</td>\n",
       "      <td>3</td>\n",
       "      <td>200</td>\n",
       "      <td>600</td>\n",
       "    </tr>\n",
       "    <tr>\n",
       "      <th>4</th>\n",
       "      <td>2</td>\n",
       "      <td>2019-01-02</td>\n",
       "      <td>Norte Shopping</td>\n",
       "      <td>Chinelo Liso</td>\n",
       "      <td>1</td>\n",
       "      <td>71</td>\n",
       "      <td>71</td>\n",
       "    </tr>\n",
       "    <tr>\n",
       "      <th>...</th>\n",
       "      <td>...</td>\n",
       "      <td>...</td>\n",
       "      <td>...</td>\n",
       "      <td>...</td>\n",
       "      <td>...</td>\n",
       "      <td>...</td>\n",
       "      <td>...</td>\n",
       "    </tr>\n",
       "    <tr>\n",
       "      <th>93905</th>\n",
       "      <td>65012</td>\n",
       "      <td>2019-11-30</td>\n",
       "      <td>Shopping Vila Velha</td>\n",
       "      <td>Mochila Xadrez</td>\n",
       "      <td>2</td>\n",
       "      <td>283</td>\n",
       "      <td>566</td>\n",
       "    </tr>\n",
       "    <tr>\n",
       "      <th>93906</th>\n",
       "      <td>65013</td>\n",
       "      <td>2019-11-30</td>\n",
       "      <td>Ribeirão Shopping</td>\n",
       "      <td>Pulseira Listrado</td>\n",
       "      <td>2</td>\n",
       "      <td>79</td>\n",
       "      <td>158</td>\n",
       "    </tr>\n",
       "    <tr>\n",
       "      <th>93907</th>\n",
       "      <td>65013</td>\n",
       "      <td>2019-11-30</td>\n",
       "      <td>Ribeirão Shopping</td>\n",
       "      <td>Cueca Listrado</td>\n",
       "      <td>3</td>\n",
       "      <td>67</td>\n",
       "      <td>201</td>\n",
       "    </tr>\n",
       "    <tr>\n",
       "      <th>93908</th>\n",
       "      <td>65014</td>\n",
       "      <td>2019-11-30</td>\n",
       "      <td>Shopping Morumbi</td>\n",
       "      <td>Pulseira Linho</td>\n",
       "      <td>5</td>\n",
       "      <td>114</td>\n",
       "      <td>570</td>\n",
       "    </tr>\n",
       "    <tr>\n",
       "      <th>93909</th>\n",
       "      <td>65014</td>\n",
       "      <td>2019-11-30</td>\n",
       "      <td>Shopping Morumbi</td>\n",
       "      <td>Casaco Xadrez</td>\n",
       "      <td>4</td>\n",
       "      <td>259</td>\n",
       "      <td>1036</td>\n",
       "    </tr>\n",
       "  </tbody>\n",
       "</table>\n",
       "<p>93910 rows × 7 columns</p>\n",
       "</div>"
      ],
      "text/plain": [
       "       Código Venda       Data              ID Loja            Produto  \\\n",
       "0                 1 2019-01-01   Iguatemi Esplanada     Sapato Estampa   \n",
       "1                 1 2019-01-01   Iguatemi Esplanada           Camiseta   \n",
       "2                 1 2019-01-01   Iguatemi Esplanada      Sapato Xadrez   \n",
       "3                 2 2019-01-02       Norte Shopping            Relógio   \n",
       "4                 2 2019-01-02       Norte Shopping       Chinelo Liso   \n",
       "...             ...        ...                  ...                ...   \n",
       "93905         65012 2019-11-30  Shopping Vila Velha     Mochila Xadrez   \n",
       "93906         65013 2019-11-30    Ribeirão Shopping  Pulseira Listrado   \n",
       "93907         65013 2019-11-30    Ribeirão Shopping     Cueca Listrado   \n",
       "93908         65014 2019-11-30     Shopping Morumbi     Pulseira Linho   \n",
       "93909         65014 2019-11-30     Shopping Morumbi      Casaco Xadrez   \n",
       "\n",
       "       Quantidade  Valor Unitário  Valor Final  \n",
       "0               1             358          358  \n",
       "1               2             180          360  \n",
       "2               1             368          368  \n",
       "3               3             200          600  \n",
       "4               1              71           71  \n",
       "...           ...             ...          ...  \n",
       "93905           2             283          566  \n",
       "93906           2              79          158  \n",
       "93907           3              67          201  \n",
       "93908           5             114          570  \n",
       "93909           4             259         1036  \n",
       "\n",
       "[93910 rows x 7 columns]"
      ]
     },
     "metadata": {},
     "output_type": "display_data"
    }
   ],
   "source": [
    "#Tranformando em um dataframe\n",
    "vendas_df = pd.read_excel('Vendas.xlsx')\n",
    "display(vendas_df)"
   ]
  },
  {
   "cell_type": "markdown",
   "metadata": {},
   "source": [
    "### Resumos de Visualização de Dados simples e úteis\n",
    "    - head\n",
    "    - shape\n",
    "    - describe"
   ]
  },
  {
   "cell_type": "code",
   "execution_count": null,
   "metadata": {},
   "outputs": [],
   "source": [
    "# Método que visualiza os primeiro elementos do dataframe/tabela\n",
    "display(vendas_df.head())\n",
    "display(vendas_df.head(10))"
   ]
  },
  {
   "cell_type": "code",
   "execution_count": 11,
   "metadata": {},
   "outputs": [
    {
     "data": {
      "text/plain": [
       "(93910, 7)"
      ]
     },
     "metadata": {},
     "output_type": "display_data"
    }
   ],
   "source": [
    "# Esse método mostra quantos linhas e colunas tem na nossa tabela\n",
    "display(vendas_df.shape)"
   ]
  },
  {
   "cell_type": "code",
   "execution_count": 13,
   "metadata": {},
   "outputs": [
    {
     "data": {
      "text/html": [
       "<div>\n",
       "<style scoped>\n",
       "    .dataframe tbody tr th:only-of-type {\n",
       "        vertical-align: middle;\n",
       "    }\n",
       "\n",
       "    .dataframe tbody tr th {\n",
       "        vertical-align: top;\n",
       "    }\n",
       "\n",
       "    .dataframe thead th {\n",
       "        text-align: right;\n",
       "    }\n",
       "</style>\n",
       "<table border=\"1\" class=\"dataframe\">\n",
       "  <thead>\n",
       "    <tr style=\"text-align: right;\">\n",
       "      <th></th>\n",
       "      <th>Código Venda</th>\n",
       "      <th>Quantidade</th>\n",
       "      <th>Valor Unitário</th>\n",
       "      <th>Valor Final</th>\n",
       "    </tr>\n",
       "  </thead>\n",
       "  <tbody>\n",
       "    <tr>\n",
       "      <th>count</th>\n",
       "      <td>93910.000000</td>\n",
       "      <td>93910.000000</td>\n",
       "      <td>93910.000000</td>\n",
       "      <td>93910.000000</td>\n",
       "    </tr>\n",
       "    <tr>\n",
       "      <th>mean</th>\n",
       "      <td>32464.762155</td>\n",
       "      <td>2.166553</td>\n",
       "      <td>191.725886</td>\n",
       "      <td>414.862656</td>\n",
       "    </tr>\n",
       "    <tr>\n",
       "      <th>std</th>\n",
       "      <td>18809.007093</td>\n",
       "      <td>1.258732</td>\n",
       "      <td>145.215519</td>\n",
       "      <td>434.846228</td>\n",
       "    </tr>\n",
       "    <tr>\n",
       "      <th>min</th>\n",
       "      <td>1.000000</td>\n",
       "      <td>1.000000</td>\n",
       "      <td>30.000000</td>\n",
       "      <td>30.000000</td>\n",
       "    </tr>\n",
       "    <tr>\n",
       "      <th>25%</th>\n",
       "      <td>16204.000000</td>\n",
       "      <td>1.000000</td>\n",
       "      <td>100.000000</td>\n",
       "      <td>156.000000</td>\n",
       "    </tr>\n",
       "    <tr>\n",
       "      <th>50%</th>\n",
       "      <td>32367.000000</td>\n",
       "      <td>2.000000</td>\n",
       "      <td>155.000000</td>\n",
       "      <td>274.000000</td>\n",
       "    </tr>\n",
       "    <tr>\n",
       "      <th>75%</th>\n",
       "      <td>48793.750000</td>\n",
       "      <td>3.000000</td>\n",
       "      <td>248.000000</td>\n",
       "      <td>524.000000</td>\n",
       "    </tr>\n",
       "    <tr>\n",
       "      <th>max</th>\n",
       "      <td>65014.000000</td>\n",
       "      <td>5.000000</td>\n",
       "      <td>750.000000</td>\n",
       "      <td>3750.000000</td>\n",
       "    </tr>\n",
       "  </tbody>\n",
       "</table>\n",
       "</div>"
      ],
      "text/plain": [
       "       Código Venda    Quantidade  Valor Unitário   Valor Final\n",
       "count  93910.000000  93910.000000    93910.000000  93910.000000\n",
       "mean   32464.762155      2.166553      191.725886    414.862656\n",
       "std    18809.007093      1.258732      145.215519    434.846228\n",
       "min        1.000000      1.000000       30.000000     30.000000\n",
       "25%    16204.000000      1.000000      100.000000    156.000000\n",
       "50%    32367.000000      2.000000      155.000000    274.000000\n",
       "75%    48793.750000      3.000000      248.000000    524.000000\n",
       "max    65014.000000      5.000000      750.000000   3750.000000"
      ]
     },
     "metadata": {},
     "output_type": "display_data"
    }
   ],
   "source": [
    "# Ele mostra as informações da tabela como produto mais barato, mais produto vendido\n",
    "display(vendas_df.describe())"
   ]
  },
  {
   "cell_type": "markdown",
   "metadata": {},
   "source": [
    "### Pegar 1 coluna (e os pd.Series)"
   ]
  },
  {
   "cell_type": "code",
   "execution_count": 11,
   "metadata": {},
   "outputs": [
    {
     "ename": "NameError",
     "evalue": "name 'vendas_df' is not defined",
     "output_type": "error",
     "traceback": [
      "\u001b[1;31m---------------------------------------------------------------------------\u001b[0m",
      "\u001b[1;31mNameError\u001b[0m                                 Traceback (most recent call last)",
      "Cell \u001b[1;32mIn [11], line 6\u001b[0m\n\u001b[0;32m      1\u001b[0m \u001b[39m# Aqui é uma serie\u001b[39;00m\n\u001b[0;32m      2\u001b[0m \u001b[39m#produto = vendas_df['Produto']\u001b[39;00m\n\u001b[0;32m      3\u001b[0m \u001b[39m#display(produto)\u001b[39;00m\n\u001b[0;32m      4\u001b[0m \n\u001b[0;32m      5\u001b[0m \u001b[39m# Agora aqui é uma tabela porqeu tem duas série\u001b[39;00m\n\u001b[1;32m----> 6\u001b[0m produtos \u001b[39m=\u001b[39m vendas_df[[\u001b[39m'\u001b[39m\u001b[39mProduto\u001b[39m\u001b[39m'\u001b[39m, \u001b[39m'\u001b[39m\u001b[39mID Loja\u001b[39m\u001b[39m'\u001b[39m]]\n\u001b[0;32m      7\u001b[0m display(produtos)\n",
      "\u001b[1;31mNameError\u001b[0m: name 'vendas_df' is not defined"
     ]
    }
   ],
   "source": [
    "# Aqui é uma serie\n",
    "#produto = vendas_df['Produto']\n",
    "#display(produto)\n",
    "\n",
    "# Agora aqui é uma tabela porqeu tem duas série\n",
    "produtos = vendas_df[['Produto', 'ID Loja']]\n",
    "display(produtos)"
   ]
  },
  {
   "cell_type": "markdown",
   "metadata": {},
   "source": [
    "### .loc, um método muito importante\n",
    "    - Pegar 1 linha\n",
    "    - Pegar linhas de acordo com alguma condição\n",
    "    - Pegar linhas e colunas específicas\n",
    "    - Pegar 1 valor específico"
   ]
  },
  {
   "cell_type": "code",
   "execution_count": null,
   "metadata": {},
   "outputs": [],
   "source": [
    "# o loc pega apenas uma linha de tal coluna ou a coluna de tal linha localizando pelo indice 18:12\n",
    "\n",
    "#pegando a primeira linha\n",
    "display(vendas_df.loc[1])\n",
    "\n",
    "#pegando a primeira linha até a 5\n",
    "display(vendas_df.loc[1:5])"
   ]
  },
  {
   "cell_type": "code",
   "execution_count": null,
   "metadata": {},
   "outputs": [],
   "source": [
    "# Dentro da coluna ID LOja Pegando todas as linhas com o nome Norte Shopping \n",
    "\n",
    "# Display uso para exibir os elementos\n",
    "display(vendas_df.loc[vendas_df['ID Loja'] == 'Norte Shopping'])\n",
    "\n",
    "# Guardando dentro da variavel\n",
    "norteshoppinging = vendas_df.loc[vendas_df['ID Loja'] == 'Norte Shopping']\n",
    "\n",
    "\n",
    "# Pegando apenas algumas colunas especificas 22:04"
   ]
  },
  {
   "cell_type": "code",
   "execution_count": null,
   "metadata": {},
   "outputs": [
    {
     "ename": "NameError",
     "evalue": "name 'vendas_df' is not defined",
     "output_type": "error",
     "traceback": [
      "\u001b[1;31m---------------------------------------------------------------------------\u001b[0m",
      "\u001b[1;31mNameError\u001b[0m                                 Traceback (most recent call last)",
      "Cell \u001b[1;32mIn [9], line 3\u001b[0m\n\u001b[0;32m      1\u001b[0m \u001b[39m# Pegar várias linhas e colunas usando o loc\u001b[39;00m\n\u001b[0;32m      2\u001b[0m \u001b[39m# Como pegar apenas algumas colunas que tem 'Norte Shopping'\u001b[39;00m\n\u001b[1;32m----> 3\u001b[0m vendas_norteshopping_df \u001b[39m=\u001b[39m vendas_df\u001b[39m.\u001b[39mloc[vendas_df[\u001b[39m'\u001b[39m\u001b[39mID Loja\u001b[39m\u001b[39m'\u001b[39m] \u001b[39m==\u001b[39m \u001b[39m'\u001b[39m\u001b[39mNorte Shopping\u001b[39m\u001b[39m'\u001b[39m, [\u001b[39m'\u001b[39m\u001b[39mID Loja\u001b[39m\u001b[39m'\u001b[39m, \u001b[39m'\u001b[39m\u001b[39mProduto\u001b[39m\u001b[39m'\u001b[39m, \u001b[39m'\u001b[39m\u001b[39mQuantidade\u001b[39m\u001b[39m'\u001b[39m]]\n\u001b[0;32m      4\u001b[0m display(vendas_norteshopping_df)\n",
      "\u001b[1;31mNameError\u001b[0m: name 'vendas_df' is not defined"
     ]
    }
   ],
   "source": [
    "# Pegar várias linhas e colunas usando o loc\n",
    "# Como pegar apenas algumas colunas que tem 'Norte Shopping'\n",
    "vendas_norteshopping_df = vendas_df.loc[vendas_df['ID Loja'] == 'Norte Shopping', ['ID Loja', 'Produto', 'Quantidade']]\n",
    "display(vendas_norteshopping_df)"
   ]
  },
  {
   "cell_type": "markdown",
   "metadata": {},
   "source": [
    "### Adicionar 1 coluna"
   ]
  },
  {
   "cell_type": "code",
   "execution_count": null,
   "metadata": {},
   "outputs": [],
   "source": []
  },
  {
   "cell_type": "markdown",
   "metadata": {},
   "source": [
    "### Adicionar 1 linha\n",
    "    - Linhas de um complemento da base de dados"
   ]
  },
  {
   "cell_type": "code",
   "execution_count": null,
   "metadata": {},
   "outputs": [],
   "source": []
  },
  {
   "cell_type": "markdown",
   "metadata": {},
   "source": [
    "### Excluir linhas e colunas"
   ]
  },
  {
   "cell_type": "code",
   "execution_count": null,
   "metadata": {},
   "outputs": [],
   "source": []
  },
  {
   "cell_type": "markdown",
   "metadata": {},
   "source": [
    "### Valores Vazios\n",
    "    - Deletar linhas/colunas vazias\n",
    "    - Deletar linhas que possuem valores vazios\n",
    "    - Preencher valores vazios (média e último valor)"
   ]
  },
  {
   "cell_type": "code",
   "execution_count": null,
   "metadata": {},
   "outputs": [],
   "source": []
  },
  {
   "cell_type": "markdown",
   "metadata": {},
   "source": [
    "### Calcular Indicadores\n",
    "    - Groupby\n",
    "    - Value Counts"
   ]
  },
  {
   "cell_type": "code",
   "execution_count": null,
   "metadata": {},
   "outputs": [],
   "source": []
  },
  {
   "cell_type": "markdown",
   "metadata": {},
   "source": [
    "### Mesclar 2 dataframes (Procurar informações de um dataframe em outro)"
   ]
  },
  {
   "cell_type": "code",
   "execution_count": null,
   "metadata": {},
   "outputs": [],
   "source": []
  },
  {
   "cell_type": "markdown",
   "metadata": {},
   "source": [
    "### Como continuar aprendendo?\n",
    "\n",
    "### Minicurso Gratuito de Análise de Dados com Python na Descrição"
   ]
  }
 ],
 "metadata": {
  "kernelspec": {
   "display_name": "Python 3.10.6 64-bit",
   "language": "python",
   "name": "python3"
  },
  "language_info": {
   "codemirror_mode": {
    "name": "ipython",
    "version": 3
   },
   "file_extension": ".py",
   "mimetype": "text/x-python",
   "name": "python",
   "nbconvert_exporter": "python",
   "pygments_lexer": "ipython3",
   "version": "3.10.6"
  },
  "vscode": {
   "interpreter": {
    "hash": "e5812f60cce1511b9925b68cbaacd0423d0ef0159e8ddbee7c4080436544beb1"
   }
  }
 },
 "nbformat": 4,
 "nbformat_minor": 4
}
