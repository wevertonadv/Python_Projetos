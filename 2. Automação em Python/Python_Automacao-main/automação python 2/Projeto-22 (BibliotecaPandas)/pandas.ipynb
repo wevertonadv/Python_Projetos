{
 "cells": [
  {
   "cell_type": "code",
   "execution_count": 14,
   "metadata": {},
   "outputs": [
    {
     "ename": "AttributeError",
     "evalue": "partially initialized module 'pandas' has no attribute 'DataFrame' (most likely due to a circular import)",
     "output_type": "error",
     "traceback": [
      "\u001b[1;31m---------------------------------------------------------------------------\u001b[0m",
      "\u001b[1;31mAttributeError\u001b[0m                            Traceback (most recent call last)",
      "Cell \u001b[1;32mIn [14], line 1\u001b[0m\n\u001b[1;32m----> 1\u001b[0m \u001b[39mimport\u001b[39;00m \u001b[39mpandas\u001b[39;00m \u001b[39mas\u001b[39;00m \u001b[39mpd\u001b[39;00m\n",
      "File \u001b[1;32mc:\\Users\\Marketing\\OneDrive\\Documentos\\GitHub\\Python_Projetos\\2. Automação em Python\\Python_Automacao-main\\automação python 2\\Projeto-22 (BibliotecaPandas)\\pandas.py:9\u001b[0m\n\u001b[0;32m      1\u001b[0m \u001b[39mimport\u001b[39;00m \u001b[39mpandas\u001b[39;00m \u001b[39mas\u001b[39;00m \u001b[39mpd\u001b[39;00m\n\u001b[0;32m      3\u001b[0m venda \u001b[39m=\u001b[39m {\u001b[39m'\u001b[39m\u001b[39mdata\u001b[39m\u001b[39m'\u001b[39m: [\u001b[39m'\u001b[39m\u001b[39m15/02/2021\u001b[39m\u001b[39m'\u001b[39m, \u001b[39m'\u001b[39m\u001b[39m16/02/2021\u001b[39m\u001b[39m'\u001b[39m],\n\u001b[0;32m      4\u001b[0m          \u001b[39m'\u001b[39m\u001b[39mvalor\u001b[39m\u001b[39m'\u001b[39m: [\u001b[39m500\u001b[39m, \u001b[39m300\u001b[39m],\n\u001b[0;32m      5\u001b[0m          \u001b[39m'\u001b[39m\u001b[39mproduto\u001b[39m\u001b[39m'\u001b[39m: [\u001b[39m'\u001b[39m\u001b[39mfeijao\u001b[39m\u001b[39m'\u001b[39m, \u001b[39m'\u001b[39m\u001b[39marroz\u001b[39m\u001b[39m'\u001b[39m],\n\u001b[0;32m      6\u001b[0m          \u001b[39m'\u001b[39m\u001b[39mqtde\u001b[39m\u001b[39m'\u001b[39m: [\u001b[39m50\u001b[39m, \u001b[39m70\u001b[39m],\n\u001b[0;32m      7\u001b[0m         }\n\u001b[1;32m----> 9\u001b[0m vendas_df \u001b[39m=\u001b[39mpd\u001b[39m.\u001b[39;49mDataFrame(venda)\n",
      "\u001b[1;31mAttributeError\u001b[0m: partially initialized module 'pandas' has no attribute 'DataFrame' (most likely due to a circular import)"
     ]
    }
   ],
   "source": [
    "import pandas as pd "
   ]
  },
  {
   "cell_type": "code",
   "execution_count": null,
   "metadata": {},
   "outputs": [
    {
     "data": {
      "text/plain": [
       "{'data': ['15/02/2021', '16/02/2021'],\n",
       " 'valor': [500, 300],\n",
       " 'produto': ['feijao', 'arroz'],\n",
       " 'qtde': [50, 70]}"
      ]
     },
     "metadata": {},
     "output_type": "display_data"
    }
   ],
   "source": [
    "# dataframe = pd.DataFrame()\n",
    "venda = {'data': ['15/02/2021', '16/02/2021'],\n",
    "         'valor': [500, 300],\n",
    "         'produto': ['feijao', 'arroz'],\n",
    "         'qtde': [50, 70],\n",
    "        }\n",
    "\n",
    "display(venda)"
   ]
  }
 ],
 "metadata": {
  "kernelspec": {
   "display_name": "Python 3.10.6 64-bit",
   "language": "python",
   "name": "python3"
  },
  "language_info": {
   "codemirror_mode": {
    "name": "ipython",
    "version": 3
   },
   "file_extension": ".py",
   "mimetype": "text/x-python",
   "name": "python",
   "nbconvert_exporter": "python",
   "pygments_lexer": "ipython3",
   "version": "3.10.6"
  },
  "orig_nbformat": 4,
  "vscode": {
   "interpreter": {
    "hash": "e5812f60cce1511b9925b68cbaacd0423d0ef0159e8ddbee7c4080436544beb1"
   }
  }
 },
 "nbformat": 4,
 "nbformat_minor": 2
}
