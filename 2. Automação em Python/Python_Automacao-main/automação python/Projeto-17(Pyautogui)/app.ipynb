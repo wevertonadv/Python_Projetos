{
 "cells": [
  {
   "cell_type": "code",
   "execution_count": 8,
   "metadata": {},
   "outputs": [],
   "source": [
    "import time\n",
    "import pyautogui\n",
    "\n",
    "#Clicando no botão\n",
    "pyautogui.click(x=-47, y=747)\n",
    "\n",
    "#Preencher as informações do email (selecionando)\n",
    "pyautogui.write('wevertonmello1@gmail.com')\n",
    "pyautogui.press('tab')"
   ]
  },
  {
   "cell_type": "code",
   "execution_count": 7,
   "metadata": {},
   "outputs": [
    {
     "data": {
      "text/plain": [
       "Point(x=1203, y=320)"
      ]
     },
     "execution_count": 7,
     "metadata": {},
     "output_type": "execute_result"
    }
   ],
   "source": [
    "#Pegando a posição de algo na tela\n",
    "time.sleep(5)\n",
    "pyautogui.position()"
   ]
  },
  {
   "cell_type": "code",
   "execution_count": null,
   "metadata": {},
   "outputs": [],
   "source": [
    "#O f é para formatar o texto e pegar o valor da variavel\n",
    "texto = f\"\"\"\n",
    "Prezados,\n",
    "\n",
    "Segue relatório de vendas.\n",
    "Faturamento: {faturamento}\n",
    "Quantidade de produtos vendidos: {quantidade}\n",
    "\n",
    "Qualquer dúvida estou a dispsição.\n",
    "Att.\n",
    "Weverton do python\n",
    "\"\"\""
   ]
  },
  {
   "cell_type": "code",
   "execution_count": null,
   "metadata": {},
   "outputs": [],
   "source": [
    "#Comando para esperar a tela aparecer a imagem enquanto não aparecer aguardar 1 segundo\n",
    "while not pyautogui.locateOnScreen(\"drive.png\", confidence=0.9):\n",
    "    time.sleep(1)"
   ]
  },
  {
   "cell_type": "code",
   "execution_count": null,
   "metadata": {},
   "outputs": [],
   "source": [
    "# while quer dizer enquanto not quer dizer não"
   ]
  }
 ],
 "metadata": {
  "kernelspec": {
   "display_name": "Python 3.10.6 64-bit",
   "language": "python",
   "name": "python3"
  },
  "language_info": {
   "codemirror_mode": {
    "name": "ipython",
    "version": 3
   },
   "file_extension": ".py",
   "mimetype": "text/x-python",
   "name": "python",
   "nbconvert_exporter": "python",
   "pygments_lexer": "ipython3",
   "version": "3.10.6"
  },
  "orig_nbformat": 4,
  "vscode": {
   "interpreter": {
    "hash": "e5812f60cce1511b9925b68cbaacd0423d0ef0159e8ddbee7c4080436544beb1"
   }
  }
 },
 "nbformat": 4,
 "nbformat_minor": 2
}
