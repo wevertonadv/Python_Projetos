{
 "cells": [
  {
   "cell_type": "markdown",
   "id": "877f7965",
   "metadata": {},
   "source": [
    "### Preencher Formulários com Selenium\n",
    "\n",
    "Link do formulário: https://forms.gle/fTG7MkjZqWaRgg2GA"
   ]
  },
  {
   "cell_type": "code",
   "execution_count": null,
   "id": "585db26d",
   "metadata": {},
   "outputs": [],
   "source": [
    "from selenium import webdriver\n",
    "from selenium.webdriver.common.keys import Keys\n",
    "from selenium.webdriver.common.by import By\n",
    "\n",
    "\n",
    "#essa linha é a criação e a integração do navegador com o webdrvier\n",
    "navegador = webdriver.Chrome()\n",
    "navegador.get('https://docs.google.com/forms/d/e/1FAIpQLSda4p49eSWJ5BrD_xHJAtinulrONhJBoTLLESor8ML6ffHZuw/viewform')"
   ]
  },
  {
   "cell_type": "markdown",
   "id": "3057b164",
   "metadata": {},
   "source": [
    "### Fazer a partir de uma planilha e várias vezes:"
   ]
  },
  {
   "cell_type": "code",
   "execution_count": null,
   "id": "ab175b8e",
   "metadata": {},
   "outputs": [],
   "source": []
  }
 ],
 "metadata": {
  "kernelspec": {
   "display_name": "Python 3.10.6 64-bit",
   "language": "python",
   "name": "python3"
  },
  "language_info": {
   "codemirror_mode": {
    "name": "ipython",
    "version": 3
   },
   "file_extension": ".py",
   "mimetype": "text/x-python",
   "name": "python",
   "nbconvert_exporter": "python",
   "pygments_lexer": "ipython3",
   "version": "3.10.6"
  },
  "vscode": {
   "interpreter": {
    "hash": "e5812f60cce1511b9925b68cbaacd0423d0ef0159e8ddbee7c4080436544beb1"
   }
  }
 },
 "nbformat": 4,
 "nbformat_minor": 5
}
