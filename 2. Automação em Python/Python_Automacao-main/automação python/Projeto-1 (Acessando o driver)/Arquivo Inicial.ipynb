{
 "cells": [
  {
   "cell_type": "markdown",
   "metadata": {},
   "source": [
    "# RPA e Python - Automatize qualquer Processo ou Sistema com Python\n",
    "\n",
    "### pyautogui\n",
    "\n",
    "- Biblioteca para controlar Mouse, Teclado e Tela do Computador com o Python<br>\n",
    "(Link: https://pyautogui.readthedocs.io/en/latest/quickstart.html)\n",
    "\n",
    "\n",
    "- Vamos fazer um exemplo simples aqui, mas repare que isso serve para:\n",
    "    - Qualquer site\n",
    "    - Qualquer programa ou pasta do seu computador\n",
    "    - Qualquer Sistema que você tenha que acessar e automatizar\n",
    "    \n",
    "### Desafio:\n",
    "\n",
    "- Queremos automatizar o backup de arquivos no sistema\n",
    "    - No nosso exemplo, vamos ter que criar um processo que faça o upload de 1 arquivo no Google Drive de forma automática e rápida"
   ]
  },
  {
   "cell_type": "code",
   "execution_count": null,
   "metadata": {},
   "outputs": [],
   "source": []
  }
 ],
 "metadata": {
  "kernelspec": {
   "display_name": "Python 3",
   "language": "python",
   "name": "python3"
  },
  "language_info": {
   "codemirror_mode": {
    "name": "ipython",
    "version": 3
   },
   "file_extension": ".py",
   "mimetype": "text/x-python",
   "name": "python",
   "nbconvert_exporter": "python",
   "pygments_lexer": "ipython3",
   "version": "3.8.5"
  }
 },
 "nbformat": 4,
 "nbformat_minor": 4
}
