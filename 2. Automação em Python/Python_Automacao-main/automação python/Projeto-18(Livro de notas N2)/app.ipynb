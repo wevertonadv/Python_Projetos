{
 "cells": [
  {
   "cell_type": "code",
   "execution_count": 73,
   "metadata": {},
   "outputs": [],
   "source": [
    "import time\n",
    "from selenium.common.exceptions import NoSuchElementException\n",
    "from lib2to3.pgen2.token import NAME\n",
    "from selenium import webdriver\n",
    "from selenium.webdriver.common.keys import Keys \n",
    "from selenium.webdriver.common.by import By\n",
    "import pandas as pd\n",
    "\n",
    "driver = webdriver.Chrome()\n",
    "driver.get('https://ead.unigama.com/login/index.php')\n",
    "assert \"Unigama: Acesso ao site\" in driver.title\n",
    "\n"
   ]
  },
  {
   "cell_type": "code",
   "execution_count": 74,
   "metadata": {},
   "outputs": [],
   "source": [
    "\n",
    "elem = driver.find_element(By.NAME,'username')\n",
    "elem.clear()\n",
    "elem.send_keys('weverton_machado')\n",
    "#Preenchendo a senha\n",
    "elem = driver.find_element(By.NAME,'password')\n",
    "elem.clear()\n",
    "elem.send_keys('weverton123@')\n",
    "#Dando enter\n",
    "elem.send_keys(Keys.RETURN)"
   ]
  },
  {
   "cell_type": "code",
   "execution_count": 75,
   "metadata": {},
   "outputs": [],
   "source": [
    "driver.get('https://ead.unigama.com/grade/edit/tree/index.php?id=820')\n",
    "\n",
    "# Acessando o botão de editar    driver.maximize_window()\n",
    "driver.find_element(By.XPATH, '//*[@id=\"action-menu-toggle-12\"]').click()\n",
    "time.sleep(1)\n",
    "\n",
    "\n"
   ]
  },
  {
   "cell_type": "code",
   "execution_count": 76,
   "metadata": {},
   "outputs": [],
   "source": [
    "# Clicando no botão mostrar\n",
    "driver.find_element(By.XPATH,'/html/body/div[3]/div[2]/div/div/section/div/div/div/div[2]/form/div/table/tbody/tr[12]/td[4]/div/div/div/div/div/a[3]').click()\n",
    "time.sleep(1)"
   ]
  },
  {
   "cell_type": "code",
   "execution_count": 94,
   "metadata": {},
   "outputs": [
    {
     "ename": "NoSuchElementException",
     "evalue": "Message: no such element: Unable to locate element: {\"method\":\"xpath\",\"selector\":\"/html/body/div[3]/div[2]/div/div/section/div/div/div/div[2]/form/div/table/tbody/tr[12]/td[4]/div/div/div/div/a\"}\n  (Session info: chrome=106.0.5249.103)\nStacktrace:\nBacktrace:\n\tOrdinal0 [0x003FDF13+2219795]\n\tOrdinal0 [0x00392841+1779777]\n\tOrdinal0 [0x002A423D+803389]\n\tOrdinal0 [0x002D3025+995365]\n\tOrdinal0 [0x002D31EB+995819]\n\tOrdinal0 [0x00300F52+1183570]\n\tOrdinal0 [0x002EE844+1108036]\n\tOrdinal0 [0x002FF192+1175954]\n\tOrdinal0 [0x002EE616+1107478]\n\tOrdinal0 [0x002C7F89+950153]\n\tOrdinal0 [0x002C8F56+954198]\n\tGetHandleVerifier [0x006F2CB2+3040210]\n\tGetHandleVerifier [0x006E2BB4+2974420]\n\tGetHandleVerifier [0x00496A0A+565546]\n\tGetHandleVerifier [0x00495680+560544]\n\tOrdinal0 [0x00399A5C+1808988]\n\tOrdinal0 [0x0039E3A8+1827752]\n\tOrdinal0 [0x0039E495+1827989]\n\tOrdinal0 [0x003A80A4+1867940]\n\tBaseThreadInitThunk [0x750AFA29+25]\n\tRtlGetAppContainerNamedObjectPath [0x76FB7B5E+286]\n\tRtlGetAppContainerNamedObjectPath [0x76FB7B2E+238]\n",
     "output_type": "error",
     "traceback": [
      "\u001b[1;31m---------------------------------------------------------------------------\u001b[0m",
      "\u001b[1;31mNoSuchElementException\u001b[0m                    Traceback (most recent call last)",
      "Cell \u001b[1;32mIn [94], line 9\u001b[0m\n\u001b[0;32m      7\u001b[0m driver\u001b[39m.\u001b[39mget(link)\n\u001b[0;32m      8\u001b[0m \u001b[39m# Acessando o botão de editar    driver.maximize_window()\u001b[39;00m\n\u001b[1;32m----> 9\u001b[0m driver\u001b[39m.\u001b[39;49mfind_element(By\u001b[39m.\u001b[39;49mXPATH, \u001b[39m'\u001b[39;49m\u001b[39m/html/body/div[3]/div[2]/div/div/section/div/div/div/div[2]/form/div/table/tbody/tr[12]/td[4]/div/div/div/div/a\u001b[39;49m\u001b[39m'\u001b[39;49m)\u001b[39m.\u001b[39mclick()\n\u001b[0;32m     10\u001b[0m time\u001b[39m.\u001b[39msleep(\u001b[39m3\u001b[39m)\n",
      "File \u001b[1;32mc:\\Users\\Marketing\\AppData\\Local\\Programs\\Python\\Python310\\lib\\site-packages\\selenium\\webdriver\\remote\\webdriver.py:855\u001b[0m, in \u001b[0;36mWebDriver.find_element\u001b[1;34m(self, by, value)\u001b[0m\n\u001b[0;32m    852\u001b[0m     by \u001b[39m=\u001b[39m By\u001b[39m.\u001b[39mCSS_SELECTOR\n\u001b[0;32m    853\u001b[0m     value \u001b[39m=\u001b[39m \u001b[39m'\u001b[39m\u001b[39m[name=\u001b[39m\u001b[39m\"\u001b[39m\u001b[39m%s\u001b[39;00m\u001b[39m\"\u001b[39m\u001b[39m]\u001b[39m\u001b[39m'\u001b[39m \u001b[39m%\u001b[39m value\n\u001b[1;32m--> 855\u001b[0m \u001b[39mreturn\u001b[39;00m \u001b[39mself\u001b[39;49m\u001b[39m.\u001b[39;49mexecute(Command\u001b[39m.\u001b[39;49mFIND_ELEMENT, {\n\u001b[0;32m    856\u001b[0m     \u001b[39m'\u001b[39;49m\u001b[39musing\u001b[39;49m\u001b[39m'\u001b[39;49m: by,\n\u001b[0;32m    857\u001b[0m     \u001b[39m'\u001b[39;49m\u001b[39mvalue\u001b[39;49m\u001b[39m'\u001b[39;49m: value})[\u001b[39m'\u001b[39m\u001b[39mvalue\u001b[39m\u001b[39m'\u001b[39m]\n",
      "File \u001b[1;32mc:\\Users\\Marketing\\AppData\\Local\\Programs\\Python\\Python310\\lib\\site-packages\\selenium\\webdriver\\remote\\webdriver.py:428\u001b[0m, in \u001b[0;36mWebDriver.execute\u001b[1;34m(self, driver_command, params)\u001b[0m\n\u001b[0;32m    426\u001b[0m response \u001b[39m=\u001b[39m \u001b[39mself\u001b[39m\u001b[39m.\u001b[39mcommand_executor\u001b[39m.\u001b[39mexecute(driver_command, params)\n\u001b[0;32m    427\u001b[0m \u001b[39mif\u001b[39;00m response:\n\u001b[1;32m--> 428\u001b[0m     \u001b[39mself\u001b[39;49m\u001b[39m.\u001b[39;49merror_handler\u001b[39m.\u001b[39;49mcheck_response(response)\n\u001b[0;32m    429\u001b[0m     response[\u001b[39m'\u001b[39m\u001b[39mvalue\u001b[39m\u001b[39m'\u001b[39m] \u001b[39m=\u001b[39m \u001b[39mself\u001b[39m\u001b[39m.\u001b[39m_unwrap_value(\n\u001b[0;32m    430\u001b[0m         response\u001b[39m.\u001b[39mget(\u001b[39m'\u001b[39m\u001b[39mvalue\u001b[39m\u001b[39m'\u001b[39m, \u001b[39mNone\u001b[39;00m))\n\u001b[0;32m    431\u001b[0m     \u001b[39mreturn\u001b[39;00m response\n",
      "File \u001b[1;32mc:\\Users\\Marketing\\AppData\\Local\\Programs\\Python\\Python310\\lib\\site-packages\\selenium\\webdriver\\remote\\errorhandler.py:243\u001b[0m, in \u001b[0;36mErrorHandler.check_response\u001b[1;34m(self, response)\u001b[0m\n\u001b[0;32m    241\u001b[0m         alert_text \u001b[39m=\u001b[39m value[\u001b[39m'\u001b[39m\u001b[39malert\u001b[39m\u001b[39m'\u001b[39m]\u001b[39m.\u001b[39mget(\u001b[39m'\u001b[39m\u001b[39mtext\u001b[39m\u001b[39m'\u001b[39m)\n\u001b[0;32m    242\u001b[0m     \u001b[39mraise\u001b[39;00m exception_class(message, screen, stacktrace, alert_text)  \u001b[39m# type: ignore[call-arg]  # mypy is not smart enough here\u001b[39;00m\n\u001b[1;32m--> 243\u001b[0m \u001b[39mraise\u001b[39;00m exception_class(message, screen, stacktrace)\n",
      "\u001b[1;31mNoSuchElementException\u001b[0m: Message: no such element: Unable to locate element: {\"method\":\"xpath\",\"selector\":\"/html/body/div[3]/div[2]/div/div/section/div/div/div/div[2]/form/div/table/tbody/tr[12]/td[4]/div/div/div/div/a\"}\n  (Session info: chrome=106.0.5249.103)\nStacktrace:\nBacktrace:\n\tOrdinal0 [0x003FDF13+2219795]\n\tOrdinal0 [0x00392841+1779777]\n\tOrdinal0 [0x002A423D+803389]\n\tOrdinal0 [0x002D3025+995365]\n\tOrdinal0 [0x002D31EB+995819]\n\tOrdinal0 [0x00300F52+1183570]\n\tOrdinal0 [0x002EE844+1108036]\n\tOrdinal0 [0x002FF192+1175954]\n\tOrdinal0 [0x002EE616+1107478]\n\tOrdinal0 [0x002C7F89+950153]\n\tOrdinal0 [0x002C8F56+954198]\n\tGetHandleVerifier [0x006F2CB2+3040210]\n\tGetHandleVerifier [0x006E2BB4+2974420]\n\tGetHandleVerifier [0x00496A0A+565546]\n\tGetHandleVerifier [0x00495680+560544]\n\tOrdinal0 [0x00399A5C+1808988]\n\tOrdinal0 [0x0039E3A8+1827752]\n\tOrdinal0 [0x0039E495+1827989]\n\tOrdinal0 [0x003A80A4+1867940]\n\tBaseThreadInitThunk [0x750AFA29+25]\n\tRtlGetAppContainerNamedObjectPath [0x76FB7B5E+286]\n\tRtlGetAppContainerNamedObjectPath [0x76FB7B2E+238]\n"
     ]
    }
   ],
   "source": [
    "from webbrowser import get\n",
    "\n",
    "tabela = pd.read_excel('Listagem de Disciplinas 2022.2 B1.xlsx')\n",
    "\n",
    "for i, link in enumerate(tabela['link']):\n",
    "\n",
    "    driver.get(link)\n",
    "    # Acessando o botão de editar    driver.maximize_window()\n",
    "    driver.find_element(By.XPATH, '/html/body/div[3]/div[2]/div/div/section/div/div/div/div[2]/form/div/table/tbody/tr[12]/td[4]/div/div/div/div/a').click()\n",
    "    time.sleep(3)"
   ]
  }
 ],
 "metadata": {
  "kernelspec": {
   "display_name": "Python 3.10.6 64-bit",
   "language": "python",
   "name": "python3"
  },
  "language_info": {
   "codemirror_mode": {
    "name": "ipython",
    "version": 3
   },
   "file_extension": ".py",
   "mimetype": "text/x-python",
   "name": "python",
   "nbconvert_exporter": "python",
   "pygments_lexer": "ipython3",
   "version": "3.10.6"
  },
  "orig_nbformat": 4,
  "vscode": {
   "interpreter": {
    "hash": "e5812f60cce1511b9925b68cbaacd0423d0ef0159e8ddbee7c4080436544beb1"
   }
  }
 },
 "nbformat": 4,
 "nbformat_minor": 2
}
