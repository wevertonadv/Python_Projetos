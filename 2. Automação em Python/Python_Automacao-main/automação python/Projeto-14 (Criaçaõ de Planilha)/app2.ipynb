{
 "cells": [
  {
   "cell_type": "code",
   "execution_count": 3,
   "metadata": {},
   "outputs": [],
   "source": [
    "import openpyxl\n",
    "from openpyxl import Workbook\n",
    "\n",
    "# wrkbk é um objeto da classe workbook ele está como variavel\n",
    "wrkbk = Workbook()\n",
    "# Para criar uma planilha com nome\n",
    "sh = wrkbk.create_sheet('Details',2)\n",
    "# defina o valor na linha 2 e coluna 3\n",
    "sh.cell(row=2,column=3).value = \"Tutorialspoint\"\n",
    "\n",
    "# Armazene o objeto da classe Workbook em uma variável  \n",
    "wrkbk = openpyxl.Workbook()\n",
    "# Criando uma nova planilha\n",
    "sh = wrkbk.create_sheet(\"Details\", 2)\n",
    "# Definindo o valor na linha 2 e coluna 3\n",
    "sh.cell(row=2,column=3).value = \"Tutorialspoint\"\n",
    "# Para salvar a pasta de trabalho\n",
    "wrkbk.save(\"Unigama.xlsx\")"
   ]
  },
  {
   "cell_type": "code",
   "execution_count": 8,
   "metadata": {},
   "outputs": [],
   "source": [
    "# importantando a biblioteca openpyxl que é responsavel por ler e escrever operações no excel\n",
    "import openpyxl\n",
    "from openpyxl import Workbook\n",
    "\n",
    "# wrkbk é um objeto da classe workbook ele está como variavel sendo responsavel por criar a planilha\n",
    "wrkbk = Workbook()\n",
    "# Para criar uma planilha com nome\n",
    "sh = wrkbk.create_sheet('Details',2)\n",
    "# defina o valor na linha 2 e coluna 3\n",
    "sh.cell(row=1,column=1).value = \"Tutorialspoint\"\n",
    "\n",
    "# Armazene o objeto da classe Workbook em uma variável  \n",
    "wrkbk = openpyxl.Workbook()\n",
    "# Criando uma nova planilha\n",
    "sh = wrkbk.create_sheet(\"Details\", 0)\n",
    "# Definindo o valor na linha 2 e coluna 3\n",
    "sh.cell(row=1,column=1).value = \"Tutorialspoint\"\n",
    "# Para salvar a pasta de trabalho\n",
    "wrkbk.save(\"Unigama1.xlsx\")"
   ]
  },
  {
   "cell_type": "code",
   "execution_count": 22,
   "metadata": {},
   "outputs": [],
   "source": [
    "# importantando a biblioteca openpyxl que é responsavel por ler e escrever operações no excel\n",
    "import openpyxl\n",
    "from openpyxl import Workbook\n",
    "# importando a bilioteca pandas para let a planilha\n",
    "import pandas as pd\n",
    "tabela = pd.read_excel('disciplinas.xlsx')\n",
    "\n",
    "\n",
    "\n",
    "for i, disciplina in enumerate(tabela['Disciplina:']):\n",
    "    # Armazene o objeto da classe Workbook em uma variável  \n",
    "    wrkbk = openpyxl.Workbook()\n",
    "    # Criando uma nova planilha\n",
    "    sh = wrkbk.create_sheet(\"Nome do aluno\", 0)\n",
    "    # Definindo o valor na linha 2 e coluna 3\n",
    "    sh.cell(row=1,column=1).value = 'Nome do aluno: '\n",
    "    # Para salvar a pasta de trabalho\n",
    "    wrkbk.save(disciplina)"
   ]
  },
  {
   "cell_type": "code",
   "execution_count": 5,
   "metadata": {},
   "outputs": [],
   "source": [
    "# importantando a biblioteca openpyxl que é responsavel por ler e escrever operações no excel\n",
    "import openpyxl\n",
    "from openpyxl import Workbook\n",
    "# importando a bilioteca pandas para let a planilha\n",
    "import pandas as pd\n",
    "tabela = pd.read_excel('disciplinas.xlsx')\n",
    "\n",
    "\n",
    "\n",
    "for i, disciplina in enumerate(tabela['Disciplinas']):\n",
    "    # Armazene o objeto da classe Workbook em uma variável  \n",
    "    wrkbk = openpyxl.Workbook()\n",
    "    # Criando uma nova planilha\n",
    "    sh = wrkbk.create_sheet(\"Nome do aluno\", 0)\n",
    "    # Escrevendo \"Nome do aluno\" na linha 1 e coluna 1\n",
    "    sh.cell(row=1,column=1).value = 'Nome do aluno '\n",
    "    # Para salvar a pasta de trabalho\n",
    "    wrkbk.save(f'{disciplina}.xlsx')\n",
    "\n"
   ]
  }
 ],
 "metadata": {
  "kernelspec": {
   "display_name": "Python 3.10.6 64-bit",
   "language": "python",
   "name": "python3"
  },
  "language_info": {
   "codemirror_mode": {
    "name": "ipython",
    "version": 3
   },
   "file_extension": ".py",
   "mimetype": "text/x-python",
   "name": "python",
   "nbconvert_exporter": "python",
   "pygments_lexer": "ipython3",
   "version": "3.10.6"
  },
  "orig_nbformat": 4,
  "vscode": {
   "interpreter": {
    "hash": "e5812f60cce1511b9925b68cbaacd0423d0ef0159e8ddbee7c4080436544beb1"
   }
  }
 },
 "nbformat": 4,
 "nbformat_minor": 2
}
