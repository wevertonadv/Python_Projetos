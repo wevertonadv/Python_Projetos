{
 "cells": [
  {
   "cell_type": "code",
   "execution_count": 4,
   "metadata": {},
   "outputs": [
    {
     "ename": "NameError",
     "evalue": "name 'string' is not defined",
     "output_type": "error",
     "traceback": [
      "\u001b[1;31m---------------------------------------------------------------------------\u001b[0m",
      "\u001b[1;31mNameError\u001b[0m                                 Traceback (most recent call last)",
      "Cell \u001b[1;32mIn [4], line 10\u001b[0m\n\u001b[0;32m      8\u001b[0m sheet[\u001b[38;5;124m'\u001b[39m\u001b[38;5;124mB1\u001b[39m\u001b[38;5;124m'\u001b[39m] \u001b[38;5;241m=\u001b[39m \u001b[38;5;124m'\u001b[39m\u001b[38;5;124mID2\u001b[39m\u001b[38;5;124m'\u001b[39m\n\u001b[0;32m      9\u001b[0m sheet[\u001b[38;5;124m'\u001b[39m\u001b[38;5;124mC1\u001b[39m\u001b[38;5;124m'\u001b[39m] \u001b[38;5;241m=\u001b[39m \u001b[38;5;124m'\u001b[39m\u001b[38;5;124mID3\u001b[39m\u001b[38;5;124m'\u001b[39m\n\u001b[1;32m---> 10\u001b[0m lista_de_ordenacao \u001b[38;5;241m=\u001b[39m \u001b[38;5;28mlist\u001b[39m(\u001b[43mstring\u001b[49m\u001b[38;5;241m.\u001b[39mascii_uppercase)\n\u001b[0;32m     11\u001b[0m cont \u001b[38;5;241m=\u001b[39m \u001b[38;5;241m2\u001b[39m\n\u001b[0;32m     12\u001b[0m \u001b[38;5;28;01mfor\u001b[39;00m item \u001b[38;5;129;01min\u001b[39;00m lista_de_ordenacao:\n",
      "\u001b[1;31mNameError\u001b[0m: name 'string' is not defined"
     ]
    }
   ],
   "source": [
    "from openpyxl import Workbook\n",
    "\n",
    "book = Workbook()\n",
    "sheet = book.active\n",
    "nome_xlsx = 'teste.xlsx'\n",
    "\n",
    "sheet['A1'] = 'ID1'\n",
    "sheet['B1'] = 'ID2'\n",
    "sheet['C1'] = 'ID3'\n",
    "lista_de_ordenacao = list(string.ascii_uppercase)\n",
    "cont = 2\n",
    "for item in lista_de_ordenacao:\n",
    "    item1 = item[0]\n",
    "    sheet['A'+str(cont)] = int(item1)\n",
    "    item2 = item[1]\n",
    "    sheet['B'+str(cont)] = str(item2)\n",
    "    item3 = item[2]\n",
    "    sheet['C'+str(cont)] = str(item3)\n",
    "    item4 = item[3]\n",
    "    sheet['D'+str(cont)] = str(item4)\n",
    "    item5 = item[4]\n",
    "    sheet['E'+str(cont)] = str(item5)\n",
    "    cont = cont + 1\n",
    "\n",
    "book.save(nome_xlsx)"
   ]
  },
  {
   "cell_type": "code",
   "execution_count": null,
   "metadata": {},
   "outputs": [],
   "source": []
  }
 ],
 "metadata": {
  "kernelspec": {
   "display_name": "Python 3.10.6 64-bit",
   "language": "python",
   "name": "python3"
  },
  "language_info": {
   "codemirror_mode": {
    "name": "ipython",
    "version": 3
   },
   "file_extension": ".py",
   "mimetype": "text/x-python",
   "name": "python",
   "nbconvert_exporter": "python",
   "pygments_lexer": "ipython3",
   "version": "3.10.6"
  },
  "orig_nbformat": 4,
  "vscode": {
   "interpreter": {
    "hash": "e5812f60cce1511b9925b68cbaacd0423d0ef0159e8ddbee7c4080436544beb1"
   }
  }
 },
 "nbformat": 4,
 "nbformat_minor": 2
}
