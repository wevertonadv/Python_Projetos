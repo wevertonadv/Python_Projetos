{
 "cells": [
  {
   "cell_type": "code",
   "execution_count": 1,
   "metadata": {},
   "outputs": [],
   "source": [
    "import time\n",
    "#para esperar o elemento\n",
    "from selenium.webdriver.support.ui import WebDriverWait\n",
    "from selenium.webdriver.support import expected_conditions as EC\n",
    "\n",
    "from selenium.common.exceptions import TimeoutException \n",
    "from selenium.common.exceptions import NoSuchElementException\n",
    "\n",
    "\n",
    "\n",
    "from selenium import webdriver\n",
    "from selenium.webdriver.common.keys import Keys\n",
    "from selenium.webdriver.common.by import By\n",
    "\n",
    "driver = webdriver.Chrome()\n",
    "driver.get(\"https://ead.unigama.com/my/\")\n",
    "assert \"Unigama\" in driver.title\n",
    "\n",
    "#maximizando a tela do windows\n",
    "driver.maximize_window()"
   ]
  },
  {
   "cell_type": "code",
   "execution_count": 2,
   "metadata": {},
   "outputs": [],
   "source": [
    "driver.get('https://ead.unigama.com/course/view.php?id=1080')"
   ]
  },
  {
   "cell_type": "code",
   "execution_count": 3,
   "metadata": {},
   "outputs": [],
   "source": [
    "#dando click no botão ativar edição\n",
    "\n",
    "time.sleep(2)\n",
    "elem = driver.find_element(By.CSS_SELECTOR,'.btn.btn-primary')\n",
    "\n",
    "elem.click()"
   ]
  },
  {
   "cell_type": "code",
   "execution_count": 4,
   "metadata": {},
   "outputs": [
    {
     "ename": "NoSuchElementException",
     "evalue": "Message: no such element: Unable to locate element: {\"method\":\"css selector\",\"selector\":\".section-modchooser-text\"}\n  (Session info: chrome=106.0.5249.119)\nStacktrace:\nBacktrace:\n\tOrdinal0 [0x00C0DF13+2219795]\n\tOrdinal0 [0x00BA2841+1779777]\n\tOrdinal0 [0x00AB423D+803389]\n\tOrdinal0 [0x00AE3025+995365]\n\tOrdinal0 [0x00AE31EB+995819]\n\tOrdinal0 [0x00B10F52+1183570]\n\tOrdinal0 [0x00AFE844+1108036]\n\tOrdinal0 [0x00B0F192+1175954]\n\tOrdinal0 [0x00AFE616+1107478]\n\tOrdinal0 [0x00AD7F89+950153]\n\tOrdinal0 [0x00AD8F56+954198]\n\tGetHandleVerifier [0x00F02CB2+3040210]\n\tGetHandleVerifier [0x00EF2BB4+2974420]\n\tGetHandleVerifier [0x00CA6A0A+565546]\n\tGetHandleVerifier [0x00CA5680+560544]\n\tOrdinal0 [0x00BA9A5C+1808988]\n\tOrdinal0 [0x00BAE3A8+1827752]\n\tOrdinal0 [0x00BAE495+1827989]\n\tOrdinal0 [0x00BB80A4+1867940]\n\tBaseThreadInitThunk [0x7566FA29+25]\n\tRtlGetAppContainerNamedObjectPath [0x777F7BBE+286]\n\tRtlGetAppContainerNamedObjectPath [0x777F7B8E+238]\n",
     "output_type": "error",
     "traceback": [
      "\u001b[1;31m---------------------------------------------------------------------------\u001b[0m",
      "\u001b[1;31mNoSuchElementException\u001b[0m                    Traceback (most recent call last)",
      "Cell \u001b[1;32mIn [4], line 2\u001b[0m\n\u001b[0;32m      1\u001b[0m \u001b[39m# Dando click no botão adicionar uma atividade\u001b[39;00m\n\u001b[1;32m----> 2\u001b[0m elem \u001b[39m=\u001b[39m driver\u001b[39m.\u001b[39;49mfind_element(By\u001b[39m.\u001b[39;49mCSS_SELECTOR, \u001b[39m'\u001b[39;49m\u001b[39m.section-modchooser-text\u001b[39;49m\u001b[39m'\u001b[39;49m)\n\u001b[0;32m      3\u001b[0m elem\u001b[39m.\u001b[39mclick()\n",
      "File \u001b[1;32mc:\\Users\\Marketing\\AppData\\Local\\Programs\\Python\\Python310\\lib\\site-packages\\selenium\\webdriver\\remote\\webdriver.py:855\u001b[0m, in \u001b[0;36mWebDriver.find_element\u001b[1;34m(self, by, value)\u001b[0m\n\u001b[0;32m    852\u001b[0m     by \u001b[39m=\u001b[39m By\u001b[39m.\u001b[39mCSS_SELECTOR\n\u001b[0;32m    853\u001b[0m     value \u001b[39m=\u001b[39m \u001b[39m'\u001b[39m\u001b[39m[name=\u001b[39m\u001b[39m\"\u001b[39m\u001b[39m%s\u001b[39;00m\u001b[39m\"\u001b[39m\u001b[39m]\u001b[39m\u001b[39m'\u001b[39m \u001b[39m%\u001b[39m value\n\u001b[1;32m--> 855\u001b[0m \u001b[39mreturn\u001b[39;00m \u001b[39mself\u001b[39;49m\u001b[39m.\u001b[39;49mexecute(Command\u001b[39m.\u001b[39;49mFIND_ELEMENT, {\n\u001b[0;32m    856\u001b[0m     \u001b[39m'\u001b[39;49m\u001b[39musing\u001b[39;49m\u001b[39m'\u001b[39;49m: by,\n\u001b[0;32m    857\u001b[0m     \u001b[39m'\u001b[39;49m\u001b[39mvalue\u001b[39;49m\u001b[39m'\u001b[39;49m: value})[\u001b[39m'\u001b[39m\u001b[39mvalue\u001b[39m\u001b[39m'\u001b[39m]\n",
      "File \u001b[1;32mc:\\Users\\Marketing\\AppData\\Local\\Programs\\Python\\Python310\\lib\\site-packages\\selenium\\webdriver\\remote\\webdriver.py:428\u001b[0m, in \u001b[0;36mWebDriver.execute\u001b[1;34m(self, driver_command, params)\u001b[0m\n\u001b[0;32m    426\u001b[0m response \u001b[39m=\u001b[39m \u001b[39mself\u001b[39m\u001b[39m.\u001b[39mcommand_executor\u001b[39m.\u001b[39mexecute(driver_command, params)\n\u001b[0;32m    427\u001b[0m \u001b[39mif\u001b[39;00m response:\n\u001b[1;32m--> 428\u001b[0m     \u001b[39mself\u001b[39;49m\u001b[39m.\u001b[39;49merror_handler\u001b[39m.\u001b[39;49mcheck_response(response)\n\u001b[0;32m    429\u001b[0m     response[\u001b[39m'\u001b[39m\u001b[39mvalue\u001b[39m\u001b[39m'\u001b[39m] \u001b[39m=\u001b[39m \u001b[39mself\u001b[39m\u001b[39m.\u001b[39m_unwrap_value(\n\u001b[0;32m    430\u001b[0m         response\u001b[39m.\u001b[39mget(\u001b[39m'\u001b[39m\u001b[39mvalue\u001b[39m\u001b[39m'\u001b[39m, \u001b[39mNone\u001b[39;00m))\n\u001b[0;32m    431\u001b[0m     \u001b[39mreturn\u001b[39;00m response\n",
      "File \u001b[1;32mc:\\Users\\Marketing\\AppData\\Local\\Programs\\Python\\Python310\\lib\\site-packages\\selenium\\webdriver\\remote\\errorhandler.py:243\u001b[0m, in \u001b[0;36mErrorHandler.check_response\u001b[1;34m(self, response)\u001b[0m\n\u001b[0;32m    241\u001b[0m         alert_text \u001b[39m=\u001b[39m value[\u001b[39m'\u001b[39m\u001b[39malert\u001b[39m\u001b[39m'\u001b[39m]\u001b[39m.\u001b[39mget(\u001b[39m'\u001b[39m\u001b[39mtext\u001b[39m\u001b[39m'\u001b[39m)\n\u001b[0;32m    242\u001b[0m     \u001b[39mraise\u001b[39;00m exception_class(message, screen, stacktrace, alert_text)  \u001b[39m# type: ignore[call-arg]  # mypy is not smart enough here\u001b[39;00m\n\u001b[1;32m--> 243\u001b[0m \u001b[39mraise\u001b[39;00m exception_class(message, screen, stacktrace)\n",
      "\u001b[1;31mNoSuchElementException\u001b[0m: Message: no such element: Unable to locate element: {\"method\":\"css selector\",\"selector\":\".section-modchooser-text\"}\n  (Session info: chrome=106.0.5249.119)\nStacktrace:\nBacktrace:\n\tOrdinal0 [0x00C0DF13+2219795]\n\tOrdinal0 [0x00BA2841+1779777]\n\tOrdinal0 [0x00AB423D+803389]\n\tOrdinal0 [0x00AE3025+995365]\n\tOrdinal0 [0x00AE31EB+995819]\n\tOrdinal0 [0x00B10F52+1183570]\n\tOrdinal0 [0x00AFE844+1108036]\n\tOrdinal0 [0x00B0F192+1175954]\n\tOrdinal0 [0x00AFE616+1107478]\n\tOrdinal0 [0x00AD7F89+950153]\n\tOrdinal0 [0x00AD8F56+954198]\n\tGetHandleVerifier [0x00F02CB2+3040210]\n\tGetHandleVerifier [0x00EF2BB4+2974420]\n\tGetHandleVerifier [0x00CA6A0A+565546]\n\tGetHandleVerifier [0x00CA5680+560544]\n\tOrdinal0 [0x00BA9A5C+1808988]\n\tOrdinal0 [0x00BAE3A8+1827752]\n\tOrdinal0 [0x00BAE495+1827989]\n\tOrdinal0 [0x00BB80A4+1867940]\n\tBaseThreadInitThunk [0x7566FA29+25]\n\tRtlGetAppContainerNamedObjectPath [0x777F7BBE+286]\n\tRtlGetAppContainerNamedObjectPath [0x777F7B8E+238]\n"
     ]
    }
   ],
   "source": [
    "# Dando click no botão adicionar uma atividade\n",
    "elem = driver.find_element(By.CSS_SELECTOR, '.section-modchooser-text')\n",
    "elem.click()"
   ]
  },
  {
   "cell_type": "code",
   "execution_count": 25,
   "metadata": {},
   "outputs": [],
   "source": [
    "#Dando click na ferramenta externa\n",
    "\n",
    "elem = driver.find_element(By. LINK_TEXT, \"Ferramenta externa\")\n",
    "\n",
    "elem.click()"
   ]
  },
  {
   "cell_type": "code",
   "execution_count": 26,
   "metadata": {},
   "outputs": [],
   "source": [
    "#Escrevendo Biblioteca Virtual\n",
    "driver.find_element(By. ID, 'id_name').send_keys('Biblioteca A')\n",
    "\n",
    "#Colocando o link\n",
    "driver.find_element(By. ID, 'id_toolurl').send_keys('https://bibliotecaa.grupoa.com.br/lti/launch.php')\n",
    "\n"
   ]
  },
  {
   "cell_type": "code",
   "execution_count": 27,
   "metadata": {},
   "outputs": [],
   "source": [
    "driver.find_element(By. CSS_SELECTOR,'.btn.btn-primary').click()\n",
    "\n",
    "time.sleep(1)\n",
    "\n",
    "\n"
   ]
  },
  {
   "cell_type": "code",
   "execution_count": 28,
   "metadata": {},
   "outputs": [],
   "source": [
    "# Apagar a outra biblioteca\n",
    "\n",
    "driver.find_element(By. XPATH,'/html/body/div[6]/div[2]/div/div/section/div/div/div/div/ul/li[1]/div[3]/ul/li[6]/div/div/div[2]/div[2]/div/div/div[1]/a').click()\n",
    "\n",
    "driver.find_element(By. XPATH, '/html/body/div[6]/div[2]/div/div/section/div/div/div/div/ul/li[1]/div[3]/ul/li[6]/div/div/div[2]/div[2]/div/div/div[1]/div/a[7]').click()\n",
    "time.sleep(1)\n",
    "\n"
   ]
  },
  {
   "cell_type": "code",
   "execution_count": 29,
   "metadata": {},
   "outputs": [],
   "source": [
    "#Apertando sim\n",
    "driver.find_element(By. CSS_SELECTOR, '.modal-footer .btn.btn-primary').click()"
   ]
  },
  {
   "cell_type": "code",
   "execution_count": 38,
   "metadata": {},
   "outputs": [],
   "source": [
    "from webbrowser import get\n",
    "import pandas as pd\n",
    "\n",
    "tabela = pd.read_excel('Disciplinas 2022.2 - Bloco 2.xlsx')\n",
    "\n",
    "for i, link in enumerate(tabela['link']):\n",
    "\n",
    "  #dando click no botão ativar edição\n",
    "    driver.get(link)\n",
    "    time.sleep(1)\n",
    "\n",
    "    # Dando click no botão adicionar uma atividade\n",
    "    elem = driver.find_element(By.CSS_SELECTOR, '.section-modchooser-text')\n",
    "    elem.click()\n",
    "    time.sleep(2)\n",
    "\n",
    "   #Dando click na ferramenta externa\n",
    "    elem = driver.find_element(By. LINK_TEXT, \"Ferramenta externa\")\n",
    "    elem.click()\n",
    "\n",
    "    #Escrevendo Biblioteca Virtual\n",
    "    driver.find_element(By. ID, 'id_name').send_keys('Biblioteca A')\n",
    "\n",
    "    #Colocando o link\n",
    "    driver.find_element(By. ID, 'id_toolurl').send_keys('https://bibliotecaa.grupoa.com.br/lti/launch.php')\n",
    "\n",
    "    driver.find_element(By. CSS_SELECTOR,'.btn.btn-primary').click()\n",
    "\n",
    "    time.sleep(1)\n",
    "\n",
    "    # Apagar a outra biblioteca\n",
    "\n",
    "    driver.find_element(By. XPATH,'/html/body/div[6]/div[2]/div/div/section/div/div/div/div/ul/li[1]/div[3]/ul/li[6]/div/div/div[2]/div[2]/div/div/div[1]/a').click()\n",
    "\n",
    "    driver.find_element(By. XPATH, '/html/body/div[6]/div[2]/div/div/section/div/div/div/div/ul/li[1]/div[3]/ul/li[6]/div/div/div[2]/div[2]/div/div/div[1]/div/a[7]').click()\n",
    "    time.sleep(1)\n",
    "\n",
    "    #Apertando sim\n",
    "    driver.find_element(By. CSS_SELECTOR, '.modal-footer .btn.btn-primary').click()\n"
   ]
  }
 ],
 "metadata": {
  "kernelspec": {
   "display_name": "Python 3.10.6 64-bit",
   "language": "python",
   "name": "python3"
  },
  "language_info": {
   "codemirror_mode": {
    "name": "ipython",
    "version": 3
   },
   "file_extension": ".py",
   "mimetype": "text/x-python",
   "name": "python",
   "nbconvert_exporter": "python",
   "pygments_lexer": "ipython3",
   "version": "3.10.6"
  },
  "orig_nbformat": 4,
  "vscode": {
   "interpreter": {
    "hash": "e5812f60cce1511b9925b68cbaacd0423d0ef0159e8ddbee7c4080436544beb1"
   }
  }
 },
 "nbformat": 4,
 "nbformat_minor": 2
}
