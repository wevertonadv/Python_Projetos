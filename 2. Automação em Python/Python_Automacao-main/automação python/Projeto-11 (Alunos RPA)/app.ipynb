{
 "cells": [
  {
   "cell_type": "code",
   "execution_count": 108,
   "metadata": {},
   "outputs": [],
   "source": [
    "import time\n",
    "from selenium.common.exceptions import NoSuchElementException\n",
    "from lib2to3.pgen2.token import NAME\n",
    "from selenium import webdriver\n",
    "from selenium.webdriver.common.keys import Keys \n",
    "from selenium.webdriver.common.by import By\n",
    "\n",
    "driver = webdriver.Chrome()\n",
    "driver.get('https://ead.unigama.com/login/index.php')\n",
    "assert \"Unigama: Acesso ao site\" in driver.title\n"
   ]
  },
  {
   "cell_type": "code",
   "execution_count": 109,
   "metadata": {},
   "outputs": [],
   "source": [
    "elem = driver.find_element(By.NAME,'username')\n",
    "elem.clear()\n",
    "elem.send_keys('weverton_machado')\n",
    "#Preenchendo a senha\n",
    "elem = driver.find_element(By.NAME,'password')\n",
    "elem.clear()\n",
    "elem.send_keys('weverton123@')\n",
    "#Dando enter\n",
    "elem.send_keys(Keys.RETURN)"
   ]
  },
  {
   "cell_type": "code",
   "execution_count": 110,
   "metadata": {},
   "outputs": [],
   "source": [
    "#acessando a disciplina\n",
    "\n",
    "driver.get('https://ead.unigama.com/user/index.php?id=1068')\n"
   ]
  },
  {
   "cell_type": "code",
   "execution_count": 111,
   "metadata": {},
   "outputs": [],
   "source": [
    "#clicando no botão inscrever usuário\n",
    "driver.maximize_window()\n",
    "driver.find_element(By.XPATH,'//*[@id=\"enrolusersbutton-2\"]/div/input[1]').click()\n",
    "time.sleep(2)"
   ]
  },
  {
   "cell_type": "code",
   "execution_count": 112,
   "metadata": {},
   "outputs": [],
   "source": [
    "#clicando na busca e inserindo o nome\n",
    "elem = driver.find_element(By.CSS_SELECTOR,'.d-md-inline-block.mr-md-2.position-relative .form-control')\n",
    "elem.send_keys('teste.ava@gmail.com')\n",
    "time.sleep(5)\n",
    "elem.send_keys(Keys.RETURN)\n"
   ]
  },
  {
   "cell_type": "code",
   "execution_count": 113,
   "metadata": {},
   "outputs": [],
   "source": [
    "#dando click no botão inscrever usuários\n",
    "elem = driver.find_element(By.CSS_SELECTOR,'.modal-content .btn-primary').click()\n"
   ]
  },
  {
   "cell_type": "code",
   "execution_count": null,
   "metadata": {},
   "outputs": [],
   "source": []
  }
 ],
 "metadata": {
  "kernelspec": {
   "display_name": "Python 3.10.6 64-bit",
   "language": "python",
   "name": "python3"
  },
  "language_info": {
   "codemirror_mode": {
    "name": "ipython",
    "version": 3
   },
   "file_extension": ".py",
   "mimetype": "text/x-python",
   "name": "python",
   "nbconvert_exporter": "python",
   "pygments_lexer": "ipython3",
   "version": "3.10.6"
  },
  "orig_nbformat": 4,
  "vscode": {
   "interpreter": {
    "hash": "e5812f60cce1511b9925b68cbaacd0423d0ef0159e8ddbee7c4080436544beb1"
   }
  }
 },
 "nbformat": 4,
 "nbformat_minor": 2
}
