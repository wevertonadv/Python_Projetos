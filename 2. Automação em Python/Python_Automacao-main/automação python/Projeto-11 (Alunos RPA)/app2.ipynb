{
 "cells": [
  {
   "cell_type": "code",
   "execution_count": 1,
   "metadata": {},
   "outputs": [],
   "source": [
    "import time\n",
    "from selenium.common.exceptions import NoSuchElementException\n",
    "from lib2to3.pgen2.token import NAME\n",
    "from selenium import webdriver\n",
    "from selenium.webdriver.common.keys import Keys \n",
    "from selenium.webdriver.common.by import By\n",
    "import pandas as pd\n",
    "\n",
    "\n",
    "driver = webdriver.Chrome()\n",
    "driver.get('https://ead.unigama.com/login/index.php')\n",
    "assert \"Unigama: Acesso ao site\" in driver.title\n"
   ]
  },
  {
   "cell_type": "code",
   "execution_count": 2,
   "metadata": {},
   "outputs": [],
   "source": [
    "elem = driver.find_element(By.NAME,'username')\n",
    "elem.clear()\n",
    "elem.send_keys('weverton_machado')\n",
    "#Preenchendo a senha\n",
    "elem = driver.find_element(By.NAME,'password')\n",
    "elem.clear()\n",
    "elem.send_keys('weverton123@')\n",
    "#Dando enter\n",
    "elem.send_keys(Keys.RETURN)"
   ]
  },
  {
   "cell_type": "code",
   "execution_count": 3,
   "metadata": {},
   "outputs": [],
   "source": [
    "#acessando a disciplina\n",
    "driver.get('https://ead.unigama.com/user/index.php?id=981')\n"
   ]
  },
  {
   "cell_type": "code",
   "execution_count": 8,
   "metadata": {},
   "outputs": [],
   "source": [
    "import mailbox\n",
    "import pandas as pd\n",
    "tabela = pd.read_excel('AlunosADM.xlsx')\n",
    "\n",
    "for i, email in enumerate(tabela[\"email\"]):\n",
    "    #clicando no botão inscrever usuário\n",
    "    driver.maximize_window()\n",
    "    driver.find_element(By.XPATH,'//*[@id=\"enrolusersbutton-2\"]/div/input[1]').click()\n",
    "    time.sleep(1)\n",
    "\n",
    "    #clicando na busca e inserindo o nome\n",
    "    elem = driver.find_element(By.CSS_SELECTOR,'.d-md-inline-block.mr-md-2.position-relative .form-control')\n",
    "    elem.send_keys(email)\n",
    "    time.sleep(1)\n",
    "    elem.send_keys(Keys.RETURN)\n",
    "    #dando click no botão inscrever usuários\n",
    "    elem = driver.find_element(By.CSS_SELECTOR,'.modal-content .btn-primary').click()\n"
   ]
  }
 ],
 "metadata": {
  "kernelspec": {
   "display_name": "Python 3.10.6 64-bit",
   "language": "python",
   "name": "python3"
  },
  "language_info": {
   "codemirror_mode": {
    "name": "ipython",
    "version": 3
   },
   "file_extension": ".py",
   "mimetype": "text/x-python",
   "name": "python",
   "nbconvert_exporter": "python",
   "pygments_lexer": "ipython3",
   "version": "3.10.6"
  },
  "orig_nbformat": 4,
  "vscode": {
   "interpreter": {
    "hash": "e5812f60cce1511b9925b68cbaacd0423d0ef0159e8ddbee7c4080436544beb1"
   }
  }
 },
 "nbformat": 4,
 "nbformat_minor": 2
}
