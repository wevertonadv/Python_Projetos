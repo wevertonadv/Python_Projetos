{
 "cells": [
  {
   "cell_type": "code",
   "execution_count": 2,
   "metadata": {},
   "outputs": [],
   "source": [
    "import time\n",
    "from selenium.common.exceptions import NoSuchElementException\n",
    "from lib2to3.pgen2.token import NAME\n",
    "from selenium import webdriver\n",
    "from selenium.webdriver.common.keys import Keys \n",
    "from selenium.webdriver.common.by import By\n",
    "import pandas as pd\n",
    "\n",
    "\n",
    "driver = webdriver.Chrome()\n",
    "driver.get('https://ead.unigama.com/login/index.php')\n",
    "assert \"Unigama: Acesso ao site\" in driver.title\n"
   ]
  },
  {
   "cell_type": "code",
   "execution_count": 3,
   "metadata": {},
   "outputs": [],
   "source": [
    "elem = driver.find_element(By.NAME,'username')\n",
    "elem.clear()\n",
    "elem.send_keys('weverton_machado')\n",
    "#Preenchendo a senha\n",
    "elem = driver.find_element(By.NAME,'password')\n",
    "elem.clear()\n",
    "elem.send_keys('weverton123@')\n",
    "#Dando enter\n",
    "elem.send_keys(Keys.RETURN)"
   ]
  },
  {
   "cell_type": "code",
   "execution_count": 4,
   "metadata": {},
   "outputs": [],
   "source": [
    "#acessando a disciplina\n",
    "driver.get('https://ead.unigama.com/user/index.php?id=1068')\n"
   ]
  },
  {
   "cell_type": "code",
   "execution_count": 5,
   "metadata": {},
   "outputs": [
    {
     "ename": "StaleElementReferenceException",
     "evalue": "Message: stale element reference: element is not attached to the page document\n  (Session info: chrome=105.0.5195.128)\nStacktrace:\nBacktrace:\n\tOrdinal0 [0x0046DF13+2219795]\n\tOrdinal0 [0x00402841+1779777]\n\tOrdinal0 [0x0031423D+803389]\n\tOrdinal0 [0x00316D04+814340]\n\tOrdinal0 [0x00316BC2+814018]\n\tOrdinal0 [0x00316E50+814672]\n\tOrdinal0 [0x00343A4B+997963]\n\tOrdinal0 [0x00343B21+998177]\n\tOrdinal0 [0x0033C1D4+967124]\n\tOrdinal0 [0x0035E7FC+1107964]\n\tOrdinal0 [0x003394B4+955572]\n\tOrdinal0 [0x0035EA14+1108500]\n\tOrdinal0 [0x0036F192+1175954]\n\tOrdinal0 [0x0035E616+1107478]\n\tOrdinal0 [0x00337F89+950153]\n\tOrdinal0 [0x00338F56+954198]\n\tGetHandleVerifier [0x00762CB2+3040210]\n\tGetHandleVerifier [0x00752BB4+2974420]\n\tGetHandleVerifier [0x00506A0A+565546]\n\tGetHandleVerifier [0x00505680+560544]\n\tOrdinal0 [0x00409A5C+1808988]\n\tOrdinal0 [0x0040E3A8+1827752]\n\tOrdinal0 [0x0040E495+1827989]\n\tOrdinal0 [0x004180A4+1867940]\n\tBaseThreadInitThunk [0x754BFA29+25]\n\tRtlGetAppContainerNamedObjectPath [0x775D7B5E+286]\n\tRtlGetAppContainerNamedObjectPath [0x775D7B2E+238]\n",
     "output_type": "error",
     "traceback": [
      "\u001b[1;31m---------------------------------------------------------------------------\u001b[0m",
      "\u001b[1;31mStaleElementReferenceException\u001b[0m            Traceback (most recent call last)",
      "Cell \u001b[1;32mIn [5], line 14\u001b[0m\n\u001b[0;32m     12\u001b[0m elem\u001b[38;5;241m.\u001b[39msend_keys(email)\n\u001b[0;32m     13\u001b[0m time\u001b[38;5;241m.\u001b[39msleep(\u001b[38;5;241m5\u001b[39m)\n\u001b[1;32m---> 14\u001b[0m \u001b[43melem\u001b[49m\u001b[38;5;241;43m.\u001b[39;49m\u001b[43msend_keys\u001b[49m\u001b[43m(\u001b[49m\u001b[43mKeys\u001b[49m\u001b[38;5;241;43m.\u001b[39;49m\u001b[43mRETURN\u001b[49m\u001b[43m)\u001b[49m\n\u001b[0;32m     17\u001b[0m \u001b[38;5;66;03m#dando click no botão inscrever usuários\u001b[39;00m\n\u001b[0;32m     18\u001b[0m elem \u001b[38;5;241m=\u001b[39m driver\u001b[38;5;241m.\u001b[39mfind_element(By\u001b[38;5;241m.\u001b[39mCSS_SELECTOR,\u001b[38;5;124m'\u001b[39m\u001b[38;5;124m.modal-content .btn-primary\u001b[39m\u001b[38;5;124m'\u001b[39m)\u001b[38;5;241m.\u001b[39mclick()\n",
      "File \u001b[1;32mc:\\Users\\Marketing\\AppData\\Local\\Programs\\Python\\Python310\\lib\\site-packages\\selenium\\webdriver\\remote\\webelement.py:223\u001b[0m, in \u001b[0;36mWebElement.send_keys\u001b[1;34m(self, *value)\u001b[0m\n\u001b[0;32m    220\u001b[0m             remote_files\u001b[39m.\u001b[39mappend(\u001b[39mself\u001b[39m\u001b[39m.\u001b[39m_upload(file))\n\u001b[0;32m    221\u001b[0m         value \u001b[39m=\u001b[39m \u001b[39m'\u001b[39m\u001b[39m\\n\u001b[39;00m\u001b[39m'\u001b[39m\u001b[39m.\u001b[39mjoin(remote_files)\n\u001b[1;32m--> 223\u001b[0m \u001b[39mself\u001b[39;49m\u001b[39m.\u001b[39;49m_execute(Command\u001b[39m.\u001b[39;49mSEND_KEYS_TO_ELEMENT,\n\u001b[0;32m    224\u001b[0m               {\u001b[39m'\u001b[39;49m\u001b[39mtext\u001b[39;49m\u001b[39m'\u001b[39;49m: \u001b[39m\"\u001b[39;49m\u001b[39m\"\u001b[39;49m\u001b[39m.\u001b[39;49mjoin(keys_to_typing(value)),\n\u001b[0;32m    225\u001b[0m                \u001b[39m'\u001b[39;49m\u001b[39mvalue\u001b[39;49m\u001b[39m'\u001b[39;49m: keys_to_typing(value)})\n",
      "File \u001b[1;32mc:\\Users\\Marketing\\AppData\\Local\\Programs\\Python\\Python310\\lib\\site-packages\\selenium\\webdriver\\remote\\webelement.py:396\u001b[0m, in \u001b[0;36mWebElement._execute\u001b[1;34m(self, command, params)\u001b[0m\n\u001b[0;32m    394\u001b[0m     params \u001b[39m=\u001b[39m {}\n\u001b[0;32m    395\u001b[0m params[\u001b[39m'\u001b[39m\u001b[39mid\u001b[39m\u001b[39m'\u001b[39m] \u001b[39m=\u001b[39m \u001b[39mself\u001b[39m\u001b[39m.\u001b[39m_id\n\u001b[1;32m--> 396\u001b[0m \u001b[39mreturn\u001b[39;00m \u001b[39mself\u001b[39;49m\u001b[39m.\u001b[39;49m_parent\u001b[39m.\u001b[39;49mexecute(command, params)\n",
      "File \u001b[1;32mc:\\Users\\Marketing\\AppData\\Local\\Programs\\Python\\Python310\\lib\\site-packages\\selenium\\webdriver\\remote\\webdriver.py:428\u001b[0m, in \u001b[0;36mWebDriver.execute\u001b[1;34m(self, driver_command, params)\u001b[0m\n\u001b[0;32m    426\u001b[0m response \u001b[39m=\u001b[39m \u001b[39mself\u001b[39m\u001b[39m.\u001b[39mcommand_executor\u001b[39m.\u001b[39mexecute(driver_command, params)\n\u001b[0;32m    427\u001b[0m \u001b[39mif\u001b[39;00m response:\n\u001b[1;32m--> 428\u001b[0m     \u001b[39mself\u001b[39;49m\u001b[39m.\u001b[39;49merror_handler\u001b[39m.\u001b[39;49mcheck_response(response)\n\u001b[0;32m    429\u001b[0m     response[\u001b[39m'\u001b[39m\u001b[39mvalue\u001b[39m\u001b[39m'\u001b[39m] \u001b[39m=\u001b[39m \u001b[39mself\u001b[39m\u001b[39m.\u001b[39m_unwrap_value(\n\u001b[0;32m    430\u001b[0m         response\u001b[39m.\u001b[39mget(\u001b[39m'\u001b[39m\u001b[39mvalue\u001b[39m\u001b[39m'\u001b[39m, \u001b[39mNone\u001b[39;00m))\n\u001b[0;32m    431\u001b[0m     \u001b[39mreturn\u001b[39;00m response\n",
      "File \u001b[1;32mc:\\Users\\Marketing\\AppData\\Local\\Programs\\Python\\Python310\\lib\\site-packages\\selenium\\webdriver\\remote\\errorhandler.py:243\u001b[0m, in \u001b[0;36mErrorHandler.check_response\u001b[1;34m(self, response)\u001b[0m\n\u001b[0;32m    241\u001b[0m         alert_text \u001b[39m=\u001b[39m value[\u001b[39m'\u001b[39m\u001b[39malert\u001b[39m\u001b[39m'\u001b[39m]\u001b[39m.\u001b[39mget(\u001b[39m'\u001b[39m\u001b[39mtext\u001b[39m\u001b[39m'\u001b[39m)\n\u001b[0;32m    242\u001b[0m     \u001b[39mraise\u001b[39;00m exception_class(message, screen, stacktrace, alert_text)  \u001b[39m# type: ignore[call-arg]  # mypy is not smart enough here\u001b[39;00m\n\u001b[1;32m--> 243\u001b[0m \u001b[39mraise\u001b[39;00m exception_class(message, screen, stacktrace)\n",
      "\u001b[1;31mStaleElementReferenceException\u001b[0m: Message: stale element reference: element is not attached to the page document\n  (Session info: chrome=105.0.5195.128)\nStacktrace:\nBacktrace:\n\tOrdinal0 [0x0046DF13+2219795]\n\tOrdinal0 [0x00402841+1779777]\n\tOrdinal0 [0x0031423D+803389]\n\tOrdinal0 [0x00316D04+814340]\n\tOrdinal0 [0x00316BC2+814018]\n\tOrdinal0 [0x00316E50+814672]\n\tOrdinal0 [0x00343A4B+997963]\n\tOrdinal0 [0x00343B21+998177]\n\tOrdinal0 [0x0033C1D4+967124]\n\tOrdinal0 [0x0035E7FC+1107964]\n\tOrdinal0 [0x003394B4+955572]\n\tOrdinal0 [0x0035EA14+1108500]\n\tOrdinal0 [0x0036F192+1175954]\n\tOrdinal0 [0x0035E616+1107478]\n\tOrdinal0 [0x00337F89+950153]\n\tOrdinal0 [0x00338F56+954198]\n\tGetHandleVerifier [0x00762CB2+3040210]\n\tGetHandleVerifier [0x00752BB4+2974420]\n\tGetHandleVerifier [0x00506A0A+565546]\n\tGetHandleVerifier [0x00505680+560544]\n\tOrdinal0 [0x00409A5C+1808988]\n\tOrdinal0 [0x0040E3A8+1827752]\n\tOrdinal0 [0x0040E495+1827989]\n\tOrdinal0 [0x004180A4+1867940]\n\tBaseThreadInitThunk [0x754BFA29+25]\n\tRtlGetAppContainerNamedObjectPath [0x775D7B5E+286]\n\tRtlGetAppContainerNamedObjectPath [0x775D7B2E+238]\n"
     ]
    }
   ],
   "source": [
    "import mailbox\n",
    "import pandas as pd\n",
    "tabela = pd.read_excel('alunos.xlsx')\n",
    "\n",
    "for i, email in enumerate(tabela[\"E-mail\"]):\n",
    "    #clicando no botão inscrever usuário\n",
    "    driver.maximize_window()\n",
    "    driver.find_element(By.XPATH,'//*[@id=\"enrolusersbutton-2\"]/div/input[1]').click()\n",
    "    time.sleep(5)\n",
    "\n",
    "    #clicando na busca e inserindo o nome\n",
    "    elem = driver.find_element(By.CSS_SELECTOR,'.d-md-inline-block.mr-md-2.position-relative .form-control')\n",
    "    elem.send_keys(email)\n",
    "    time.sleep(5)\n",
    "    elem.send_keys(Keys.RETURN)\n",
    "    #dando click no botão inscrever usuários\n",
    "    elem = driver.find_element(By.CSS_SELECTOR,'.modal-content .btn-primary').click()\n"
   ]
  }
 ],
 "metadata": {
  "kernelspec": {
   "display_name": "Python 3.10.6 64-bit",
   "language": "python",
   "name": "python3"
  },
  "language_info": {
   "codemirror_mode": {
    "name": "ipython",
    "version": 3
   },
   "file_extension": ".py",
   "mimetype": "text/x-python",
   "name": "python",
   "nbconvert_exporter": "python",
   "pygments_lexer": "ipython3",
   "version": "3.10.6"
  },
  "orig_nbformat": 4,
  "vscode": {
   "interpreter": {
    "hash": "e5812f60cce1511b9925b68cbaacd0423d0ef0159e8ddbee7c4080436544beb1"
   }
  }
 },
 "nbformat": 4,
 "nbformat_minor": 2
}
