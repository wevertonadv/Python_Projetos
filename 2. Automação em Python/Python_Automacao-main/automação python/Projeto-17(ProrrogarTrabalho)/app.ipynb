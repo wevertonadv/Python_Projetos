{
 "cells": [
  {
   "cell_type": "code",
   "execution_count": 39,
   "metadata": {},
   "outputs": [],
   "source": [
    "import time\n",
    "#Import da web driver\n",
    "from selenium import webdriver\n",
    "# import do by\n",
    "from selenium.webdriver.common.by import By\n",
    "from selenium.webdriver.common.keys import Keys\n",
    "\n",
    "# Import por exemplo das teclas\n",
    "from selenium.webdriver.common.keys import Keys"
   ]
  },
  {
   "cell_type": "code",
   "execution_count": 40,
   "metadata": {},
   "outputs": [],
   "source": [
    "navegador =webdriver.Chrome()\n",
    "navegador.get('https://ead.unigama.com/course/modedit.php?update=11224')"
   ]
  },
  {
   "cell_type": "code",
   "execution_count": 41,
   "metadata": {},
   "outputs": [],
   "source": [
    "usuario = navegador.find_element(By. ID,'username').send_keys('weverton_machado')\n",
    "senha = navegador.find_element(By. ID,'password').send_keys('weverton123@')\n",
    "navegador.find_element(By. ID, 'loginbtn').click()\n",
    "\n",
    "navegador.maximize_window()"
   ]
  },
  {
   "cell_type": "code",
   "execution_count": 42,
   "metadata": {},
   "outputs": [],
   "source": [
    "disciplina = navegador.get('https://ead.unigama.com/course/modedit.php?update=11224')"
   ]
  },
  {
   "cell_type": "code",
   "execution_count": 43,
   "metadata": {},
   "outputs": [],
   "source": [
    "navegador.find_element(By.XPATH,'/html/body/div[3]/div[2]/div/div/section/div/div/div/form/fieldset[2]/legend/a').click()"
   ]
  },
  {
   "cell_type": "code",
   "execution_count": 44,
   "metadata": {},
   "outputs": [],
   "source": [
    "#Alterando o dia da prova da n2\n",
    "dia = 8\n",
    "dia = navegador.find_element(By.ID, 'id_timeclose_day').send_keys(dia)\n",
    "time.sleep(1)"
   ]
  },
  {
   "cell_type": "code",
   "execution_count": 45,
   "metadata": {},
   "outputs": [],
   "source": [
    "#Salvando\n",
    "navegador.find_element(By. XPATH, '/html/body/div[3]/div[2]/div/div/section/div/div/div/form/div[3]/div[2]/fieldset/div/div[1]/span/input').click()"
   ]
  },
  {
   "cell_type": "code",
   "execution_count": null,
   "metadata": {},
   "outputs": [],
   "source": []
  }
 ],
 "metadata": {
  "kernelspec": {
   "display_name": "Python 3.10.6 64-bit",
   "language": "python",
   "name": "python3"
  },
  "language_info": {
   "codemirror_mode": {
    "name": "ipython",
    "version": 3
   },
   "file_extension": ".py",
   "mimetype": "text/x-python",
   "name": "python",
   "nbconvert_exporter": "python",
   "pygments_lexer": "ipython3",
   "version": "3.10.6"
  },
  "orig_nbformat": 4,
  "vscode": {
   "interpreter": {
    "hash": "e5812f60cce1511b9925b68cbaacd0423d0ef0159e8ddbee7c4080436544beb1"
   }
  }
 },
 "nbformat": 4,
 "nbformat_minor": 2
}
