{
 "cells": [
  {
   "cell_type": "code",
   "execution_count": 34,
   "metadata": {},
   "outputs": [
    {
     "data": {
      "text/html": [
       "<div>\n",
       "<style scoped>\n",
       "    .dataframe tbody tr th:only-of-type {\n",
       "        vertical-align: middle;\n",
       "    }\n",
       "\n",
       "    .dataframe tbody tr th {\n",
       "        vertical-align: top;\n",
       "    }\n",
       "\n",
       "    .dataframe thead th {\n",
       "        text-align: right;\n",
       "    }\n",
       "</style>\n",
       "<table border=\"1\" class=\"dataframe\">\n",
       "  <thead>\n",
       "    <tr style=\"text-align: right;\">\n",
       "      <th></th>\n",
       "      <th>Pessoa</th>\n",
       "      <th>Número</th>\n",
       "      <th>Mensagem</th>\n",
       "    </tr>\n",
       "  </thead>\n",
       "  <tbody>\n",
       "    <tr>\n",
       "      <th>0</th>\n",
       "      <td>Mãe</td>\n",
       "      <td>5521992199172</td>\n",
       "      <td>Se eu te enviei essa mensagem é porque eu cons...</td>\n",
       "    </tr>\n",
       "    <tr>\n",
       "      <th>1</th>\n",
       "      <td>Lucas Silva</td>\n",
       "      <td>5521997865187</td>\n",
       "      <td>Se eu te enviei essa mensagem é porque eu cons...</td>\n",
       "    </tr>\n",
       "    <tr>\n",
       "      <th>2</th>\n",
       "      <td>João Uni 13/09</td>\n",
       "      <td>5521998893909</td>\n",
       "      <td>Se eu te enviei essa mensagem é porque eu cons...</td>\n",
       "    </tr>\n",
       "  </tbody>\n",
       "</table>\n",
       "</div>"
      ],
      "text/plain": [
       "           Pessoa         Número  \\\n",
       "0             Mãe  5521992199172   \n",
       "1     Lucas Silva  5521997865187   \n",
       "2  João Uni 13/09  5521998893909   \n",
       "\n",
       "                                            Mensagem  \n",
       "0  Se eu te enviei essa mensagem é porque eu cons...  \n",
       "1  Se eu te enviei essa mensagem é porque eu cons...  \n",
       "2  Se eu te enviei essa mensagem é porque eu cons...  "
      ]
     },
     "metadata": {},
     "output_type": "display_data"
    }
   ],
   "source": [
    "import keyword\n",
    "from selenium.common.exceptions import NoSuchElementException\n",
    "from IPython.display import display\n",
    "import pandas as pd\n",
    "\n",
    "contatos_df = pd.read_excel(\"Enviar.xlsx\")\n",
    "display(contatos_df)\n",
    "\n",
    "#Import da biblioteca selenium, time \n",
    "from selenium import webdriver\n",
    "from selenium.webdriver.common.keys import Keys\n",
    "import time\n",
    "import urllib\n",
    "from selenium.webdriver.common.by import By"
   ]
  },
  {
   "cell_type": "code",
   "execution_count": 35,
   "metadata": {},
   "outputs": [],
   "source": [
    "#PASSO 0: ABRIR O NAVEGADOR\n",
    "navegador = webdriver.Chrome()\n",
    "navegador.get('https://web.whatsapp.com/')"
   ]
  },
  {
   "cell_type": "code",
   "execution_count": 40,
   "metadata": {},
   "outputs": [
    {
     "ename": "UnexpectedAlertPresentException",
     "evalue": "Alert Text: {Alert text : \nMessage: unexpected alert open: {Alert text : }\n  (Session info: chrome=105.0.5195.127)\nStacktrace:\nBacktrace:\n\tOrdinal0 [0x0041DF13+2219795]\n\tOrdinal0 [0x003B2841+1779777]\n\tOrdinal0 [0x002C423D+803389]\n\tOrdinal0 [0x0031EFFE+1175550]\n\tOrdinal0 [0x0030E616+1107478]\n\tOrdinal0 [0x002E7F89+950153]\n\tOrdinal0 [0x002E8F56+954198]\n\tGetHandleVerifier [0x00712CB2+3040210]\n\tGetHandleVerifier [0x00702BB4+2974420]\n\tGetHandleVerifier [0x004B6A0A+565546]\n\tGetHandleVerifier [0x004B5680+560544]\n\tOrdinal0 [0x003B9A5C+1808988]\n\tOrdinal0 [0x003BE3A8+1827752]\n\tOrdinal0 [0x003BE495+1827989]\n\tOrdinal0 [0x003C80A4+1867940]\n\tBaseThreadInitThunk [0x7646FA29+25]\n\tRtlGetAppContainerNamedObjectPath [0x777D7B5E+286]\n\tRtlGetAppContainerNamedObjectPath [0x777D7B2E+238]\n",
     "output_type": "error",
     "traceback": [
      "\u001b[1;31m---------------------------------------------------------------------------\u001b[0m",
      "\u001b[1;31mUnexpectedAlertPresentException\u001b[0m           Traceback (most recent call last)",
      "Cell \u001b[1;32mIn [40], line 10\u001b[0m\n\u001b[0;32m      7\u001b[0m navegador\u001b[38;5;241m.\u001b[39mget(link)\n\u001b[0;32m      9\u001b[0m \u001b[38;5;66;03m#Esperando o wpp carregar\u001b[39;00m\n\u001b[1;32m---> 10\u001b[0m \u001b[38;5;28;01mwhile\u001b[39;00m \u001b[38;5;28mlen\u001b[39m (\u001b[43mnavegador\u001b[49m\u001b[38;5;241;43m.\u001b[39;49m\u001b[43mfind_element\u001b[49m\u001b[43m(\u001b[49m\u001b[38;5;124;43m'\u001b[39;49m\u001b[38;5;124;43mxpath\u001b[39;49m\u001b[38;5;124;43m'\u001b[39;49m\u001b[43m,\u001b[49m\u001b[43m \u001b[49m\u001b[38;5;124;43m'\u001b[39;49m\u001b[38;5;124;43m//*[@id=\u001b[39;49m\u001b[38;5;124;43m\"\u001b[39;49m\u001b[38;5;124;43mside\u001b[39;49m\u001b[38;5;124;43m\"\u001b[39;49m\u001b[38;5;124;43m]/div[1]/div/button/div/span\u001b[39;49m\u001b[38;5;124;43m'\u001b[39;49m\u001b[43m)\u001b[49m) \u001b[38;5;241m<\u001b[39m\u001b[38;5;241m1\u001b[39m:\n\u001b[0;32m     11\u001b[0m     time\u001b[38;5;241m.\u001b[39msleep(\u001b[38;5;241m1\u001b[39m)\n\u001b[0;32m     13\u001b[0m \u001b[38;5;66;03m#dando enter na mensagem    \u001b[39;00m\n",
      "File \u001b[1;32mc:\\Users\\Marketing\\AppData\\Local\\Programs\\Python\\Python310\\lib\\site-packages\\selenium\\webdriver\\remote\\webdriver.py:855\u001b[0m, in \u001b[0;36mWebDriver.find_element\u001b[1;34m(self, by, value)\u001b[0m\n\u001b[0;32m    852\u001b[0m     by \u001b[39m=\u001b[39m By\u001b[39m.\u001b[39mCSS_SELECTOR\n\u001b[0;32m    853\u001b[0m     value \u001b[39m=\u001b[39m \u001b[39m'\u001b[39m\u001b[39m[name=\u001b[39m\u001b[39m\"\u001b[39m\u001b[39m%s\u001b[39;00m\u001b[39m\"\u001b[39m\u001b[39m]\u001b[39m\u001b[39m'\u001b[39m \u001b[39m%\u001b[39m value\n\u001b[1;32m--> 855\u001b[0m \u001b[39mreturn\u001b[39;00m \u001b[39mself\u001b[39;49m\u001b[39m.\u001b[39;49mexecute(Command\u001b[39m.\u001b[39;49mFIND_ELEMENT, {\n\u001b[0;32m    856\u001b[0m     \u001b[39m'\u001b[39;49m\u001b[39musing\u001b[39;49m\u001b[39m'\u001b[39;49m: by,\n\u001b[0;32m    857\u001b[0m     \u001b[39m'\u001b[39;49m\u001b[39mvalue\u001b[39;49m\u001b[39m'\u001b[39;49m: value})[\u001b[39m'\u001b[39m\u001b[39mvalue\u001b[39m\u001b[39m'\u001b[39m]\n",
      "File \u001b[1;32mc:\\Users\\Marketing\\AppData\\Local\\Programs\\Python\\Python310\\lib\\site-packages\\selenium\\webdriver\\remote\\webdriver.py:428\u001b[0m, in \u001b[0;36mWebDriver.execute\u001b[1;34m(self, driver_command, params)\u001b[0m\n\u001b[0;32m    426\u001b[0m response \u001b[39m=\u001b[39m \u001b[39mself\u001b[39m\u001b[39m.\u001b[39mcommand_executor\u001b[39m.\u001b[39mexecute(driver_command, params)\n\u001b[0;32m    427\u001b[0m \u001b[39mif\u001b[39;00m response:\n\u001b[1;32m--> 428\u001b[0m     \u001b[39mself\u001b[39;49m\u001b[39m.\u001b[39;49merror_handler\u001b[39m.\u001b[39;49mcheck_response(response)\n\u001b[0;32m    429\u001b[0m     response[\u001b[39m'\u001b[39m\u001b[39mvalue\u001b[39m\u001b[39m'\u001b[39m] \u001b[39m=\u001b[39m \u001b[39mself\u001b[39m\u001b[39m.\u001b[39m_unwrap_value(\n\u001b[0;32m    430\u001b[0m         response\u001b[39m.\u001b[39mget(\u001b[39m'\u001b[39m\u001b[39mvalue\u001b[39m\u001b[39m'\u001b[39m, \u001b[39mNone\u001b[39;00m))\n\u001b[0;32m    431\u001b[0m     \u001b[39mreturn\u001b[39;00m response\n",
      "File \u001b[1;32mc:\\Users\\Marketing\\AppData\\Local\\Programs\\Python\\Python310\\lib\\site-packages\\selenium\\webdriver\\remote\\errorhandler.py:242\u001b[0m, in \u001b[0;36mErrorHandler.check_response\u001b[1;34m(self, response)\u001b[0m\n\u001b[0;32m    240\u001b[0m     \u001b[39melif\u001b[39;00m \u001b[39m'\u001b[39m\u001b[39malert\u001b[39m\u001b[39m'\u001b[39m \u001b[39min\u001b[39;00m value:\n\u001b[0;32m    241\u001b[0m         alert_text \u001b[39m=\u001b[39m value[\u001b[39m'\u001b[39m\u001b[39malert\u001b[39m\u001b[39m'\u001b[39m]\u001b[39m.\u001b[39mget(\u001b[39m'\u001b[39m\u001b[39mtext\u001b[39m\u001b[39m'\u001b[39m)\n\u001b[1;32m--> 242\u001b[0m     \u001b[39mraise\u001b[39;00m exception_class(message, screen, stacktrace, alert_text)  \u001b[39m# type: ignore[call-arg]  # mypy is not smart enough here\u001b[39;00m\n\u001b[0;32m    243\u001b[0m \u001b[39mraise\u001b[39;00m exception_class(message, screen, stacktrace)\n",
      "\u001b[1;31mUnexpectedAlertPresentException\u001b[0m: Alert Text: {Alert text : \nMessage: unexpected alert open: {Alert text : }\n  (Session info: chrome=105.0.5195.127)\nStacktrace:\nBacktrace:\n\tOrdinal0 [0x0041DF13+2219795]\n\tOrdinal0 [0x003B2841+1779777]\n\tOrdinal0 [0x002C423D+803389]\n\tOrdinal0 [0x0031EFFE+1175550]\n\tOrdinal0 [0x0030E616+1107478]\n\tOrdinal0 [0x002E7F89+950153]\n\tOrdinal0 [0x002E8F56+954198]\n\tGetHandleVerifier [0x00712CB2+3040210]\n\tGetHandleVerifier [0x00702BB4+2974420]\n\tGetHandleVerifier [0x004B6A0A+565546]\n\tGetHandleVerifier [0x004B5680+560544]\n\tOrdinal0 [0x003B9A5C+1808988]\n\tOrdinal0 [0x003BE3A8+1827752]\n\tOrdinal0 [0x003BE495+1827989]\n\tOrdinal0 [0x003C80A4+1867940]\n\tBaseThreadInitThunk [0x7646FA29+25]\n\tRtlGetAppContainerNamedObjectPath [0x777D7B5E+286]\n\tRtlGetAppContainerNamedObjectPath [0x777D7B2E+238]\n"
     ]
    }
   ],
   "source": [
    "#PASSO 2: loop para envio de mensagens para os contatos\n",
    "for i, mensagem in enumerate(contatos_df['Mensagem']):\n",
    "    pessoa = contatos_df.loc[i,'Pessoa']\n",
    "    numero = contatos_df.loc[i, 'Número']\n",
    "    texto = urllib.parse.quote( f\" Oi {pessoa}! {mensagem}\")\n",
    "    link = f\"https://web.whatsapp.com/send?phone={numero}&text={texto}\"\n",
    "    navegador.get(link)\n",
    "    \n",
    "    #Esperando o wpp carregar\n",
    "    while len (navegador.find_element('xpath', '//*[@id=\"side\"]/div[1]/div/button/div/span')) <1:\n",
    "        time.sleep(1)\n",
    "\n",
    "    #dando enter na mensagem    \n",
    "    navegador.find_element('xpath','//*[@id=\"main\"]/footer/div[1]/div/span[2]/div/div[2]/div[1]/div/div/p').send_keys(Keys.ENTER)\n",
    "    time.sleep(10)\n",
    "\n",
    "        \n"
   ]
  }
 ],
 "metadata": {
  "kernelspec": {
   "display_name": "Python 3.10.6 64-bit",
   "language": "python",
   "name": "python3"
  },
  "language_info": {
   "codemirror_mode": {
    "name": "ipython",
    "version": 3
   },
   "file_extension": ".py",
   "mimetype": "text/x-python",
   "name": "python",
   "nbconvert_exporter": "python",
   "pygments_lexer": "ipython3",
   "version": "3.10.6"
  },
  "orig_nbformat": 4,
  "vscode": {
   "interpreter": {
    "hash": "e5812f60cce1511b9925b68cbaacd0423d0ef0159e8ddbee7c4080436544beb1"
   }
  }
 },
 "nbformat": 4,
 "nbformat_minor": 2
}
