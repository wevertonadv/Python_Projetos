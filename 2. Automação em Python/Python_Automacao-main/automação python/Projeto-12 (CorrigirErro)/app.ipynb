{
 "cells": [
  {
   "cell_type": "code",
   "execution_count": 15,
   "metadata": {},
   "outputs": [],
   "source": [
    "import time\n",
    "#para esperar o elemento\n",
    "from selenium.webdriver.support.ui import WebDriverWait\n",
    "from selenium.webdriver.support import expected_conditions as EC\n",
    "\n",
    "from selenium.common.exceptions import TimeoutException \n",
    "from selenium.common.exceptions import NoSuchElementException\n",
    "\n",
    "\n",
    "\n",
    "from selenium import webdriver\n",
    "from selenium.webdriver.common.keys import Keys\n",
    "from selenium.webdriver.common.by import By\n",
    "\n",
    "driver = webdriver.Chrome()\n",
    "driver.get(\"https://ead.unigama.com/course/view.php?id=1073\")\n",
    "assert \"Unigama\" in driver.title\n",
    "\n"
   ]
  },
  {
   "cell_type": "code",
   "execution_count": 16,
   "metadata": {},
   "outputs": [],
   "source": [
    "#maximizando a tela do windows\n",
    "driver.maximize_window()"
   ]
  },
  {
   "cell_type": "code",
   "execution_count": 17,
   "metadata": {},
   "outputs": [],
   "source": [
    "#colocando usuario e senha\n",
    "elem = driver.find_element(By.NAME,'username')\n",
    "elem.clear()\n",
    "elem.send_keys(\"\")\n",
    "elem = driver.find_element(By.NAME,'password')\n",
    "elem.clear()\n",
    "elem.send_keys(\"\")\n",
    "elem.send_keys(Keys.RETURN)\n",
    "time.sleep(1)"
   ]
  },
  {
   "cell_type": "code",
   "execution_count": 18,
   "metadata": {},
   "outputs": [
    {
     "data": {
      "text/plain": [
       "\" \\nelementos = driver.find_elements(By.CSS_SELECTOR,'#section-1 ul.section.img-text a.aalink')[:-6]\\n\\nlinks = []\\n\\nfor elemento in elementos: \\n   links.append(elemento.get_attribute('href'))\\n\\n\\nerro = []\\nsucesso = []\\n\\nif len(links) > 0:\\n   for link in links:\\n      driver.get(link)\\n      time.sleep(8)\\n      try:\\n         driver.find_element(By.CLASS_NAME, 'v-btn__content').click()\\n         sucesso.append(link)\\n      except:\\n         erro.append(link)  \\n      else:\\n         print()\\n\\n\\nprint('Lista de erro \\n', erro)\\nprint('Lista de sucesso \\n', sucesso)\\n\""
      ]
     },
     "execution_count": 18,
     "metadata": {},
     "output_type": "execute_result"
    }
   ],
   "source": [
    "#acessando as unidades tentativa diferente\n",
    "''' \n",
    "elementos = driver.find_elements(By.CSS_SELECTOR,'#section-1 ul.section.img-text a.aalink')[:-6]\n",
    "\n",
    "links = []\n",
    "\n",
    "for elemento in elementos: \n",
    "   links.append(elemento.get_attribute('href'))\n",
    "\n",
    "\n",
    "erro = []\n",
    "sucesso = []\n",
    "\n",
    "if len(links) > 0:\n",
    "   for link in links:\n",
    "      driver.get(link)\n",
    "      time.sleep(8)\n",
    "      try:\n",
    "         driver.find_element(By.CLASS_NAME, 'v-btn__content').click()\n",
    "         sucesso.append(link)\n",
    "      except:\n",
    "         erro.append(link)  \n",
    "      else:\n",
    "         print()\n",
    "\n",
    "\n",
    "print('Lista de erro \\n', erro)\n",
    "print('Lista de sucesso \\n', sucesso)\n",
    "'''\n"
   ]
  },
  {
   "cell_type": "code",
   "execution_count": 33,
   "metadata": {},
   "outputs": [
    {
     "name": "stdout",
     "output_type": "stream",
     "text": [
      "Lista de erro \n",
      " []\n",
      "Lista de sucesso \n",
      " ['https://ead.unigama.com/mod/lti/view.php?id=17312', 'https://ead.unigama.com/mod/lti/view.php?id=17313', 'https://ead.unigama.com/mod/lti/view.php?id=17314', 'https://ead.unigama.com/mod/lti/view.php?id=17315']\n"
     ]
    }
   ],
   "source": [
    "#acessando as unidades principal\n",
    " \n",
    "elementos = driver.find_elements(By.CSS_SELECTOR,'#section-1 ul.section.img-text a.aalink')[:-2]\n",
    "\n",
    "links = []\n",
    "\n",
    "for elemento in elementos: \n",
    "   links.append(elemento.get_attribute('href'))\n",
    "\n",
    "\n",
    "erro = []\n",
    "sucesso = []\n",
    "\n",
    "for link in links:\n",
    "   driver.get(link)\n",
    "   try:\n",
    "      presente = EC.visibility_of_element_located((By.CLASS_NAME,'text-center'))\n",
    "      WebDriverWait(driver,5).until(presente)\n",
    "      sucesso.append(link)\n",
    "   except TimeoutException:\n",
    "      sucesso.append(link)\n",
    "   except Exception:\n",
    "      erro.append(link)\n",
    "\n",
    "\n",
    "print('Lista de erro \\n', erro)\n",
    "print('Lista de sucesso \\n', sucesso)\n"
   ]
  },
  {
   "cell_type": "code",
   "execution_count": 34,
   "metadata": {},
   "outputs": [],
   "source": [
    " #acessando todas as unidades\n",
    "elementos = driver.find_elements(By.CSS_SELECTOR,'#section-1 ul.section.img-text a.aalink')[:-2]\n",
    "\n",
    "\n",
    "for elemento in elementos: \n",
    "   elemento.click()\n"
   ]
  }
 ],
 "metadata": {
  "kernelspec": {
   "display_name": "Python 3.10.6 64-bit",
   "language": "python",
   "name": "python3"
  },
  "language_info": {
   "codemirror_mode": {
    "name": "ipython",
    "version": 3
   },
   "file_extension": ".py",
   "mimetype": "text/x-python",
   "name": "python",
   "nbconvert_exporter": "python",
   "pygments_lexer": "ipython3",
   "version": "3.10.6"
  },
  "orig_nbformat": 4,
  "vscode": {
   "interpreter": {
    "hash": "e5812f60cce1511b9925b68cbaacd0423d0ef0159e8ddbee7c4080436544beb1"
   }
  }
 },
 "nbformat": 4,
 "nbformat_minor": 2
}
