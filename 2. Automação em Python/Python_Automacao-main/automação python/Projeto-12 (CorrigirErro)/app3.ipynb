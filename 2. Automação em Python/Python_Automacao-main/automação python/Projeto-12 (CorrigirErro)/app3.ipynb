{
 "cells": [
  {
   "cell_type": "code",
   "execution_count": 1,
   "metadata": {},
   "outputs": [],
   "source": [
    "# para esperar o elemento\n",
    "import time\n",
    "from selenium.webdriver.support.ui import WebDriverWait\n",
    "from selenium.webdriver.support import expected_conditions as EC\n",
    "\n",
    "from selenium.common.exceptions import TimeoutException\n",
    "\n",
    "from selenium import webdriver\n",
    "from selenium.webdriver.common.keys import Keys\n",
    "from selenium.webdriver.common.by import By\n",
    "\n",
    "driver = webdriver.Chrome()\n",
    "driver.get(\"https://ead.unigama.com/course/view.php?id=1101\")\n",
    "assert \"Unigama\" in driver.title\n",
    "\n",
    "# maximizando a tela do windows\n",
    "driver.maximize_window()"
   ]
  },
  {
   "cell_type": "code",
   "execution_count": 2,
   "metadata": {},
   "outputs": [],
   "source": [
    "#colocando usuario e senha\n",
    "elem = driver.find_element(By.NAME,'username')\n",
    "elem.clear()\n",
    "elem.send_keys(\"\")\n",
    "elem = driver.find_element(By.NAME,'password')\n",
    "elem.clear()\n",
    "elem.send_keys(\"\")\n",
    "elem.send_keys(Keys.RETURN)\n",
    "time.sleep(1)\n",
    "\n"
   ]
  },
  {
   "cell_type": "code",
   "execution_count": 7,
   "metadata": {},
   "outputs": [],
   "source": [
    "driver.get(\"https://ead.unigama.com/course/view.php?id=1107\")\n"
   ]
  },
  {
   "cell_type": "code",
   "execution_count": 8,
   "metadata": {},
   "outputs": [
    {
     "ename": "NoSuchElementException",
     "evalue": "Message: no such element: Unable to locate element: {\"method\":\"css selector\",\"selector\":\".message-error-wrapper\"}\n  (Session info: chrome=106.0.5249.103)\nStacktrace:\nBacktrace:\n\tOrdinal0 [0x00CCDF13+2219795]\n\tOrdinal0 [0x00C62841+1779777]\n\tOrdinal0 [0x00B7423D+803389]\n\tOrdinal0 [0x00BA3025+995365]\n\tOrdinal0 [0x00BA31EB+995819]\n\tOrdinal0 [0x00BD0F52+1183570]\n\tOrdinal0 [0x00BBE844+1108036]\n\tOrdinal0 [0x00BCF192+1175954]\n\tOrdinal0 [0x00BBE616+1107478]\n\tOrdinal0 [0x00B97F89+950153]\n\tOrdinal0 [0x00B98F56+954198]\n\tGetHandleVerifier [0x00FC2CB2+3040210]\n\tGetHandleVerifier [0x00FB2BB4+2974420]\n\tGetHandleVerifier [0x00D66A0A+565546]\n\tGetHandleVerifier [0x00D65680+560544]\n\tOrdinal0 [0x00C69A5C+1808988]\n\tOrdinal0 [0x00C6E3A8+1827752]\n\tOrdinal0 [0x00C6E495+1827989]\n\tOrdinal0 [0x00C780A4+1867940]\n\tBaseThreadInitThunk [0x750AFA29+25]\n\tRtlGetAppContainerNamedObjectPath [0x76FB7B5E+286]\n\tRtlGetAppContainerNamedObjectPath [0x76FB7B2E+238]\n",
     "output_type": "error",
     "traceback": [
      "\u001b[1;31m---------------------------------------------------------------------------\u001b[0m",
      "\u001b[1;31mNoSuchElementException\u001b[0m                    Traceback (most recent call last)",
      "Cell \u001b[1;32mIn [8], line 16\u001b[0m\n\u001b[0;32m     14\u001b[0m driver\u001b[39m.\u001b[39mget(link)\n\u001b[0;32m     15\u001b[0m \u001b[39mtry\u001b[39;00m:\n\u001b[1;32m---> 16\u001b[0m    presente \u001b[39m=\u001b[39m driver\u001b[39m.\u001b[39;49mfind_element(By\u001b[39m.\u001b[39;49mCSS_SELECTOR,\u001b[39m'\u001b[39;49m\u001b[39m.message-error-wrapper\u001b[39;49m\u001b[39m'\u001b[39;49m)\n\u001b[0;32m     17\u001b[0m    WebDriverWait(driver,\u001b[39m5\u001b[39m)\u001b[39m.\u001b[39muntil(presente)\n\u001b[0;32m     18\u001b[0m    erro\u001b[39m.\u001b[39mappend(link)\n",
      "File \u001b[1;32mc:\\Users\\Marketing\\AppData\\Local\\Programs\\Python\\Python310\\lib\\site-packages\\selenium\\webdriver\\remote\\webdriver.py:855\u001b[0m, in \u001b[0;36mWebDriver.find_element\u001b[1;34m(self, by, value)\u001b[0m\n\u001b[0;32m    852\u001b[0m     by \u001b[39m=\u001b[39m By\u001b[39m.\u001b[39mCSS_SELECTOR\n\u001b[0;32m    853\u001b[0m     value \u001b[39m=\u001b[39m \u001b[39m'\u001b[39m\u001b[39m[name=\u001b[39m\u001b[39m\"\u001b[39m\u001b[39m%s\u001b[39;00m\u001b[39m\"\u001b[39m\u001b[39m]\u001b[39m\u001b[39m'\u001b[39m \u001b[39m%\u001b[39m value\n\u001b[1;32m--> 855\u001b[0m \u001b[39mreturn\u001b[39;00m \u001b[39mself\u001b[39;49m\u001b[39m.\u001b[39;49mexecute(Command\u001b[39m.\u001b[39;49mFIND_ELEMENT, {\n\u001b[0;32m    856\u001b[0m     \u001b[39m'\u001b[39;49m\u001b[39musing\u001b[39;49m\u001b[39m'\u001b[39;49m: by,\n\u001b[0;32m    857\u001b[0m     \u001b[39m'\u001b[39;49m\u001b[39mvalue\u001b[39;49m\u001b[39m'\u001b[39;49m: value})[\u001b[39m'\u001b[39m\u001b[39mvalue\u001b[39m\u001b[39m'\u001b[39m]\n",
      "File \u001b[1;32mc:\\Users\\Marketing\\AppData\\Local\\Programs\\Python\\Python310\\lib\\site-packages\\selenium\\webdriver\\remote\\webdriver.py:428\u001b[0m, in \u001b[0;36mWebDriver.execute\u001b[1;34m(self, driver_command, params)\u001b[0m\n\u001b[0;32m    426\u001b[0m response \u001b[39m=\u001b[39m \u001b[39mself\u001b[39m\u001b[39m.\u001b[39mcommand_executor\u001b[39m.\u001b[39mexecute(driver_command, params)\n\u001b[0;32m    427\u001b[0m \u001b[39mif\u001b[39;00m response:\n\u001b[1;32m--> 428\u001b[0m     \u001b[39mself\u001b[39;49m\u001b[39m.\u001b[39;49merror_handler\u001b[39m.\u001b[39;49mcheck_response(response)\n\u001b[0;32m    429\u001b[0m     response[\u001b[39m'\u001b[39m\u001b[39mvalue\u001b[39m\u001b[39m'\u001b[39m] \u001b[39m=\u001b[39m \u001b[39mself\u001b[39m\u001b[39m.\u001b[39m_unwrap_value(\n\u001b[0;32m    430\u001b[0m         response\u001b[39m.\u001b[39mget(\u001b[39m'\u001b[39m\u001b[39mvalue\u001b[39m\u001b[39m'\u001b[39m, \u001b[39mNone\u001b[39;00m))\n\u001b[0;32m    431\u001b[0m     \u001b[39mreturn\u001b[39;00m response\n",
      "File \u001b[1;32mc:\\Users\\Marketing\\AppData\\Local\\Programs\\Python\\Python310\\lib\\site-packages\\selenium\\webdriver\\remote\\errorhandler.py:243\u001b[0m, in \u001b[0;36mErrorHandler.check_response\u001b[1;34m(self, response)\u001b[0m\n\u001b[0;32m    241\u001b[0m         alert_text \u001b[39m=\u001b[39m value[\u001b[39m'\u001b[39m\u001b[39malert\u001b[39m\u001b[39m'\u001b[39m]\u001b[39m.\u001b[39mget(\u001b[39m'\u001b[39m\u001b[39mtext\u001b[39m\u001b[39m'\u001b[39m)\n\u001b[0;32m    242\u001b[0m     \u001b[39mraise\u001b[39;00m exception_class(message, screen, stacktrace, alert_text)  \u001b[39m# type: ignore[call-arg]  # mypy is not smart enough here\u001b[39;00m\n\u001b[1;32m--> 243\u001b[0m \u001b[39mraise\u001b[39;00m exception_class(message, screen, stacktrace)\n",
      "\u001b[1;31mNoSuchElementException\u001b[0m: Message: no such element: Unable to locate element: {\"method\":\"css selector\",\"selector\":\".message-error-wrapper\"}\n  (Session info: chrome=106.0.5249.103)\nStacktrace:\nBacktrace:\n\tOrdinal0 [0x00CCDF13+2219795]\n\tOrdinal0 [0x00C62841+1779777]\n\tOrdinal0 [0x00B7423D+803389]\n\tOrdinal0 [0x00BA3025+995365]\n\tOrdinal0 [0x00BA31EB+995819]\n\tOrdinal0 [0x00BD0F52+1183570]\n\tOrdinal0 [0x00BBE844+1108036]\n\tOrdinal0 [0x00BCF192+1175954]\n\tOrdinal0 [0x00BBE616+1107478]\n\tOrdinal0 [0x00B97F89+950153]\n\tOrdinal0 [0x00B98F56+954198]\n\tGetHandleVerifier [0x00FC2CB2+3040210]\n\tGetHandleVerifier [0x00FB2BB4+2974420]\n\tGetHandleVerifier [0x00D66A0A+565546]\n\tGetHandleVerifier [0x00D65680+560544]\n\tOrdinal0 [0x00C69A5C+1808988]\n\tOrdinal0 [0x00C6E3A8+1827752]\n\tOrdinal0 [0x00C6E495+1827989]\n\tOrdinal0 [0x00C780A4+1867940]\n\tBaseThreadInitThunk [0x750AFA29+25]\n\tRtlGetAppContainerNamedObjectPath [0x76FB7B5E+286]\n\tRtlGetAppContainerNamedObjectPath [0x76FB7B2E+238]\n"
     ]
    }
   ],
   "source": [
    "#acessando as unidades\n",
    "elementos = driver.find_elements(By.CSS_SELECTOR,'#section-1 ul.section.img-text a.aalink')[:-2]\n",
    "\n",
    "links = []\n",
    "\n",
    "for elemento in elementos: \n",
    "   links.append(elemento.get_attribute('href'))\n",
    "\n",
    "erro = []\n",
    "sucesso = []\n",
    "\n",
    "if len(links) > 0:\n",
    "   for link in links:\n",
    "      driver.get(link)\n",
    "      try:\n",
    "         presente = driver.find_element(By.CSS_SELECTOR,'.message-error-wrapper')\n",
    "         WebDriverWait(driver,5).until(presente)\n",
    "         erro.append(link)\n",
    "      except TimeoutException:\n",
    "         sucesso.append(link)\n",
    "\n",
    "print('Lista de sucesso \\n', sucesso)\n",
    "print('Lista de erro \\n', erro)\n"
   ]
  }
 ],
 "metadata": {
  "kernelspec": {
   "display_name": "Python 3.10.6 64-bit",
   "language": "python",
   "name": "python3"
  },
  "language_info": {
   "codemirror_mode": {
    "name": "ipython",
    "version": 3
   },
   "file_extension": ".py",
   "mimetype": "text/x-python",
   "name": "python",
   "nbconvert_exporter": "python",
   "pygments_lexer": "ipython3",
   "version": "3.10.6"
  },
  "orig_nbformat": 4,
  "vscode": {
   "interpreter": {
    "hash": "e5812f60cce1511b9925b68cbaacd0423d0ef0159e8ddbee7c4080436544beb1"
   }
  }
 },
 "nbformat": 4,
 "nbformat_minor": 2
}
