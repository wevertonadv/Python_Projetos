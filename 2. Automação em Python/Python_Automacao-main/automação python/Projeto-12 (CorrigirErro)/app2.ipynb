{
 "cells": [
  {
   "cell_type": "code",
   "execution_count": 3,
   "metadata": {},
   "outputs": [],
   "source": [
    "import time\n",
    "#para esperar o elemento\n",
    "from selenium.webdriver.support.ui import WebDriverWait\n",
    "from selenium.webdriver.support import expected_conditions as EC\n",
    "\n",
    "from selenium.common.exceptions import TimeoutException \n",
    "from selenium.common.exceptions import NoSuchElementException\n",
    "\n",
    "\n",
    "\n",
    "from selenium import webdriver\n",
    "from selenium.webdriver.common.keys import Keys\n",
    "from selenium.webdriver.common.by import By\n",
    "\n",
    "driver = webdriver.Chrome()\n",
    "driver.get(\"https://ead.unigama.com/course/view.php?id=1068\")\n",
    "assert \"Unigama\" in driver.title\n",
    "\n",
    "#maximizando a tela do windows\n",
    "driver.maximize_window()"
   ]
  },
  {
   "cell_type": "code",
   "execution_count": 16,
   "metadata": {},
   "outputs": [
    {
     "name": "stdout",
     "output_type": "stream",
     "text": [
      "lista de erro  []\n",
      "lista de sucesos [<selenium.webdriver.remote.webelement.WebElement (session=\"ae9b9f34e246f2b7e4a9b599476c0fc5\", element=\"42f52666-a203-4150-86c7-d3c10b6ecab0\")>]\n"
     ]
    }
   ],
   "source": [
    "elem = driver.find_element(By.XPATH,'//*[@id=\"module-17312\"]/div/div/div[2]/div[1]/a/span').click()\n",
    "\n",
    "erro = []\n",
    "sucesso = []\n",
    "try:\n",
    "    presente = driver.find_element(By.CLASS_NAME,'text-center')\n",
    "    time.sleep(3)\n",
    "    sucesso.append(presente)\n",
    "except TimeoutException:\n",
    "    erro.append(presente)\n",
    "\n",
    "print('lista de erro ',erro)\n",
    "print('lista de sucesos', sucesso)\n"
   ]
  }
 ],
 "metadata": {
  "kernelspec": {
   "display_name": "Python 3.10.6 64-bit",
   "language": "python",
   "name": "python3"
  },
  "language_info": {
   "codemirror_mode": {
    "name": "ipython",
    "version": 3
   },
   "file_extension": ".py",
   "mimetype": "text/x-python",
   "name": "python",
   "nbconvert_exporter": "python",
   "pygments_lexer": "ipython3",
   "version": "3.10.6"
  },
  "orig_nbformat": 4,
  "vscode": {
   "interpreter": {
    "hash": "e5812f60cce1511b9925b68cbaacd0423d0ef0159e8ddbee7c4080436544beb1"
   }
  }
 },
 "nbformat": 4,
 "nbformat_minor": 2
}
