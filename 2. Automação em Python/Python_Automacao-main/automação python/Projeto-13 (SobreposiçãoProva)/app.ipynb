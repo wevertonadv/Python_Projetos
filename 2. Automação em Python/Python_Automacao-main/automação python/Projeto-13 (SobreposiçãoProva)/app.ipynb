{
 "cells": [
  {
   "cell_type": "code",
   "execution_count": 1,
   "metadata": {},
   "outputs": [],
   "source": [
    "import time\n",
    "#Import da web driver\n",
    "from selenium import webdriver\n",
    "# import do by\n",
    "from selenium.webdriver.common.by import By\n",
    "from selenium.webdriver.common.keys import Keys\n",
    "\n",
    "# Import por exemplo das teclas\n",
    "from selenium.webdriver.common.keys import Keys\n",
    "\n",
    "navegador = webdriver.Chrome()\n",
    "navegador.get('https://ead.unigama.com/course/view.php?id=1068')\n",
    "\n",
    "\n",
    "usuario = navegador.find_element(By. ID,'username').send_keys('')\n",
    "senha = navegador.find_element(By. ID,'password').send_keys('')\n",
    "navegador.find_element(By. ID, 'loginbtn').click()"
   ]
  },
  {
   "cell_type": "code",
   "execution_count": 19,
   "metadata": {},
   "outputs": [],
   "source": [
    "## Nome da disciplina\n",
    "from time import sleep\n",
    "\n",
    "\n",
    "navegador.get('https://ead.unigama.com/course/view.php?id=852')\n",
    "time.sleep(1)\n",
    "\n",
    "navegador.maximize_window()"
   ]
  },
  {
   "cell_type": "code",
   "execution_count": 24,
   "metadata": {},
   "outputs": [],
   "source": [
    "# acessando a prova\n",
    "navegador.find_element(By. XPATH, '/html/body/div[3]/div[2]/div/div/section/div/div/div/div/ul/li[4]/div[3]/ul/li[4]/div/div/div[2]/div[1]').click()\n",
    "\n"
   ]
  },
  {
   "cell_type": "code",
   "execution_count": 25,
   "metadata": {},
   "outputs": [
    {
     "ename": "NoSuchElementException",
     "evalue": "Message: no such element: Unable to locate element: {\"method\":\"css selector\",\"selector\":\"[id=\"action-menu-toggle-3\"]\"}\n  (Session info: chrome=105.0.5195.128)\nStacktrace:\nBacktrace:\n\tOrdinal0 [0x00E3DF13+2219795]\n\tOrdinal0 [0x00DD2841+1779777]\n\tOrdinal0 [0x00CE423D+803389]\n\tOrdinal0 [0x00D13025+995365]\n\tOrdinal0 [0x00D131EB+995819]\n\tOrdinal0 [0x00D40F52+1183570]\n\tOrdinal0 [0x00D2E844+1108036]\n\tOrdinal0 [0x00D3F192+1175954]\n\tOrdinal0 [0x00D2E616+1107478]\n\tOrdinal0 [0x00D07F89+950153]\n\tOrdinal0 [0x00D08F56+954198]\n\tGetHandleVerifier [0x01132CB2+3040210]\n\tGetHandleVerifier [0x01122BB4+2974420]\n\tGetHandleVerifier [0x00ED6A0A+565546]\n\tGetHandleVerifier [0x00ED5680+560544]\n\tOrdinal0 [0x00DD9A5C+1808988]\n\tOrdinal0 [0x00DDE3A8+1827752]\n\tOrdinal0 [0x00DDE495+1827989]\n\tOrdinal0 [0x00DE80A4+1867940]\n\tBaseThreadInitThunk [0x754BFA29+25]\n\tRtlGetAppContainerNamedObjectPath [0x775D7B5E+286]\n\tRtlGetAppContainerNamedObjectPath [0x775D7B2E+238]\n",
     "output_type": "error",
     "traceback": [
      "\u001b[1;31m---------------------------------------------------------------------------\u001b[0m",
      "\u001b[1;31mNoSuchElementException\u001b[0m                    Traceback (most recent call last)",
      "Cell \u001b[1;32mIn [25], line 2\u001b[0m\n\u001b[0;32m      1\u001b[0m \u001b[38;5;66;03m#clicando na engrenagem\u001b[39;00m\n\u001b[1;32m----> 2\u001b[0m \u001b[43mnavegador\u001b[49m\u001b[38;5;241;43m.\u001b[39;49m\u001b[43mfind_element\u001b[49m\u001b[43m(\u001b[49m\u001b[43mBy\u001b[49m\u001b[38;5;241;43m.\u001b[39;49m\u001b[43m \u001b[49m\u001b[43mID\u001b[49m\u001b[43m,\u001b[49m\u001b[43m \u001b[49m\u001b[38;5;124;43m'\u001b[39;49m\u001b[38;5;124;43maction-menu-toggle-3\u001b[39;49m\u001b[38;5;124;43m'\u001b[39;49m\u001b[43m)\u001b[49m\u001b[38;5;241m.\u001b[39mclick()\n",
      "File \u001b[1;32mc:\\Users\\Marketing\\AppData\\Local\\Programs\\Python\\Python310\\lib\\site-packages\\selenium\\webdriver\\remote\\webdriver.py:855\u001b[0m, in \u001b[0;36mWebDriver.find_element\u001b[1;34m(self, by, value)\u001b[0m\n\u001b[0;32m    852\u001b[0m     by \u001b[39m=\u001b[39m By\u001b[39m.\u001b[39mCSS_SELECTOR\n\u001b[0;32m    853\u001b[0m     value \u001b[39m=\u001b[39m \u001b[39m'\u001b[39m\u001b[39m[name=\u001b[39m\u001b[39m\"\u001b[39m\u001b[39m%s\u001b[39;00m\u001b[39m\"\u001b[39m\u001b[39m]\u001b[39m\u001b[39m'\u001b[39m \u001b[39m%\u001b[39m value\n\u001b[1;32m--> 855\u001b[0m \u001b[39mreturn\u001b[39;00m \u001b[39mself\u001b[39;49m\u001b[39m.\u001b[39;49mexecute(Command\u001b[39m.\u001b[39;49mFIND_ELEMENT, {\n\u001b[0;32m    856\u001b[0m     \u001b[39m'\u001b[39;49m\u001b[39musing\u001b[39;49m\u001b[39m'\u001b[39;49m: by,\n\u001b[0;32m    857\u001b[0m     \u001b[39m'\u001b[39;49m\u001b[39mvalue\u001b[39;49m\u001b[39m'\u001b[39;49m: value})[\u001b[39m'\u001b[39m\u001b[39mvalue\u001b[39m\u001b[39m'\u001b[39m]\n",
      "File \u001b[1;32mc:\\Users\\Marketing\\AppData\\Local\\Programs\\Python\\Python310\\lib\\site-packages\\selenium\\webdriver\\remote\\webdriver.py:428\u001b[0m, in \u001b[0;36mWebDriver.execute\u001b[1;34m(self, driver_command, params)\u001b[0m\n\u001b[0;32m    426\u001b[0m response \u001b[39m=\u001b[39m \u001b[39mself\u001b[39m\u001b[39m.\u001b[39mcommand_executor\u001b[39m.\u001b[39mexecute(driver_command, params)\n\u001b[0;32m    427\u001b[0m \u001b[39mif\u001b[39;00m response:\n\u001b[1;32m--> 428\u001b[0m     \u001b[39mself\u001b[39;49m\u001b[39m.\u001b[39;49merror_handler\u001b[39m.\u001b[39;49mcheck_response(response)\n\u001b[0;32m    429\u001b[0m     response[\u001b[39m'\u001b[39m\u001b[39mvalue\u001b[39m\u001b[39m'\u001b[39m] \u001b[39m=\u001b[39m \u001b[39mself\u001b[39m\u001b[39m.\u001b[39m_unwrap_value(\n\u001b[0;32m    430\u001b[0m         response\u001b[39m.\u001b[39mget(\u001b[39m'\u001b[39m\u001b[39mvalue\u001b[39m\u001b[39m'\u001b[39m, \u001b[39mNone\u001b[39;00m))\n\u001b[0;32m    431\u001b[0m     \u001b[39mreturn\u001b[39;00m response\n",
      "File \u001b[1;32mc:\\Users\\Marketing\\AppData\\Local\\Programs\\Python\\Python310\\lib\\site-packages\\selenium\\webdriver\\remote\\errorhandler.py:243\u001b[0m, in \u001b[0;36mErrorHandler.check_response\u001b[1;34m(self, response)\u001b[0m\n\u001b[0;32m    241\u001b[0m         alert_text \u001b[39m=\u001b[39m value[\u001b[39m'\u001b[39m\u001b[39malert\u001b[39m\u001b[39m'\u001b[39m]\u001b[39m.\u001b[39mget(\u001b[39m'\u001b[39m\u001b[39mtext\u001b[39m\u001b[39m'\u001b[39m)\n\u001b[0;32m    242\u001b[0m     \u001b[39mraise\u001b[39;00m exception_class(message, screen, stacktrace, alert_text)  \u001b[39m# type: ignore[call-arg]  # mypy is not smart enough here\u001b[39;00m\n\u001b[1;32m--> 243\u001b[0m \u001b[39mraise\u001b[39;00m exception_class(message, screen, stacktrace)\n",
      "\u001b[1;31mNoSuchElementException\u001b[0m: Message: no such element: Unable to locate element: {\"method\":\"css selector\",\"selector\":\"[id=\"action-menu-toggle-3\"]\"}\n  (Session info: chrome=105.0.5195.128)\nStacktrace:\nBacktrace:\n\tOrdinal0 [0x00E3DF13+2219795]\n\tOrdinal0 [0x00DD2841+1779777]\n\tOrdinal0 [0x00CE423D+803389]\n\tOrdinal0 [0x00D13025+995365]\n\tOrdinal0 [0x00D131EB+995819]\n\tOrdinal0 [0x00D40F52+1183570]\n\tOrdinal0 [0x00D2E844+1108036]\n\tOrdinal0 [0x00D3F192+1175954]\n\tOrdinal0 [0x00D2E616+1107478]\n\tOrdinal0 [0x00D07F89+950153]\n\tOrdinal0 [0x00D08F56+954198]\n\tGetHandleVerifier [0x01132CB2+3040210]\n\tGetHandleVerifier [0x01122BB4+2974420]\n\tGetHandleVerifier [0x00ED6A0A+565546]\n\tGetHandleVerifier [0x00ED5680+560544]\n\tOrdinal0 [0x00DD9A5C+1808988]\n\tOrdinal0 [0x00DDE3A8+1827752]\n\tOrdinal0 [0x00DDE495+1827989]\n\tOrdinal0 [0x00DE80A4+1867940]\n\tBaseThreadInitThunk [0x754BFA29+25]\n\tRtlGetAppContainerNamedObjectPath [0x775D7B5E+286]\n\tRtlGetAppContainerNamedObjectPath [0x775D7B2E+238]\n"
     ]
    }
   ],
   "source": [
    "#clicando na engrenagem\n",
    "navegador.find_element(By. ID, 'action-menu-toggle-3').click()\n",
    "\n",
    "\n"
   ]
  },
  {
   "cell_type": "code",
   "execution_count": null,
   "metadata": {},
   "outputs": [],
   "source": [
    "#Clicando na opção sobreposições de usuário\n",
    "navegador.find_element(By. XPATH,'/html/body/div[2]/div[3]/div/div/div/div/div/div/div/div/div/div[3]/a').click()\n",
    "\n",
    "#clicando no botão cinza para adicionar o usuario\n",
    "navegador.find_element(By. CLASS_NAME, 'btn-secondary').click()\n",
    "time.sleep(1)\n",
    "\n"
   ]
  },
  {
   "cell_type": "code",
   "execution_count": null,
   "metadata": {},
   "outputs": [],
   "source": [
    "## Email do aluno\n",
    "\n",
    "email = navegador.find_element(By. CSS_SELECTOR, 'input.form-control').send_keys('leilapportela@yahoo.com.br')\n",
    "time.sleep(1)\n",
    "\n",
    "navegador.find_element(By. CSS_SELECTOR, 'input.form-control').send_keys(Keys.ENTER)"
   ]
  },
  {
   "cell_type": "code",
   "execution_count": null,
   "metadata": {},
   "outputs": [],
   "source": [
    " ## Dia de término da prova do aluno \n",
    "dia = 7\n",
    "dia = navegador.find_element(By. ID, 'id_timeclose_day').send_keys(dia)\n"
   ]
  },
  {
   "cell_type": "code",
   "execution_count": null,
   "metadata": {},
   "outputs": [],
   "source": [
    "## Mes do término da prova\n",
    "mes = navegador.find_element(By. ID, 'id_timeclose_month')\n",
    "mes.send_keys('outubro')\n"
   ]
  },
  {
   "cell_type": "code",
   "execution_count": null,
   "metadata": {},
   "outputs": [],
   "source": [
    "# Dando Enter\n",
    "navegador.find_element(By. ID, 'id_submitbutton').click()"
   ]
  }
 ],
 "metadata": {
  "kernelspec": {
   "display_name": "Python 3.10.6 64-bit",
   "language": "python",
   "name": "python3"
  },
  "language_info": {
   "codemirror_mode": {
    "name": "ipython",
    "version": 3
   },
   "file_extension": ".py",
   "mimetype": "text/x-python",
   "name": "python",
   "nbconvert_exporter": "python",
   "pygments_lexer": "ipython3",
   "version": "3.10.6"
  },
  "orig_nbformat": 4,
  "vscode": {
   "interpreter": {
    "hash": "e5812f60cce1511b9925b68cbaacd0423d0ef0159e8ddbee7c4080436544beb1"
   }
  }
 },
 "nbformat": 4,
 "nbformat_minor": 2
}
