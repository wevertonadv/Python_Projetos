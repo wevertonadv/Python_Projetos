{
 "cells": [
  {
   "cell_type": "code",
   "execution_count": 1,
   "id": "face0372",
   "metadata": {},
   "outputs": [],
   "source": [
    "import pandas as pd\n",
    "from tqdm.auto import tqdm\n",
    "tqdm.pandas()\n",
    "from modules.verify_names import combined_similarity, word_overlap_similarity, lexical_similarity\n",
    "import os\n",
    "import re\n",
    "import numpy as np\n",
    "from typing import List\n",
    "# Sem limite de colunas\n",
    "pd.set_option('display.max_columns', None)"
   ]
  },
  {
   "cell_type": "code",
   "execution_count": 2,
   "id": "86195aa0",
   "metadata": {},
   "outputs": [],
   "source": [
    "mapeamento = {\n",
    "    'Fabricante': 'fabricante',\n",
    "    'Marca': 'marca',\n",
    "    'SKU': 'sku',\n",
    "    'N° modelo': 'no_modelo',\n",
    "    'modelo': 'no_modelo',\n",
    "    'Nome comercial': 'nome_comercial',\n",
    "    'Capacidade': 'capacidade_armazenamento',\n",
    "    'capacidade': 'capacidade_armazenamento',\n",
    "    'Cor': 'cor',\n",
    "    'Produto': 'nome_produto',\n",
    "    'Empresa': 'empresa',\n",
    "    'Seller': 'vendedor',\n",
    "    'Frete mínimo': 'frete',\n",
    "    'frete_minimo': 'frete',\n",
    "    'Estoque': 'estoque',\n",
    "    'Link': 'url',\n",
    "    'Preço pix': 'preco_pix',\n",
    "    'Preço boleto': 'preco_boleto',\n",
    "    'Preço cartão 1x': 'preco_x1_cartao',\n",
    "    'Preço cartão ~x s/ juros': 'preco_prazo_sem_juros_cartao_normal',\n",
    "    'Quantidade parcelas s/ juros': 'qtd_parcelas_sem_juros_cartao_normal',\n",
    "    'Preço cartão ~x c/ juros': 'preco_prazo_com_juros_cartao_normal',\n",
    "    'Quantidade parcelas c/ juros': 'qtd_parcelas_com_juros_cartao_normal',\n",
    "    'Taxa de juros': 'taxa_juros_cartao_normal',\n",
    "    'Preço cartão próprio 1x': 'preco_x1_cartao_proprio',\n",
    "    'Preço cartão próprio ~x s/ juros': 'preco_prazo_sem_juros_cartao_proprio',\n",
    "    'Quantidade parcelas s/ juros cartão próprio': 'qtd_parcelas_sem_juros_cartao_proprio',\n",
    "    'Preço cartão próprio ~x c/ juros': 'preco_prazo_com_juros_cartao_proprio',\n",
    "    'Quantidade parcelas c/ juros cartão próprio': 'qtd_parcelas_com_juros_cartao_proprio',\n",
    "    'Taxa de juros cartão próprio': 'taxa_juros_cartao_proprio',\n",
    "    # Adicionamos 'ean', 'cep', 'data_extracao' que não estavam no mapeamento anterior\n",
    "    'ean': 'ean',\n",
    "    'cep': 'cep',\n",
    "    'Data da extração': 'data_extracao',\n",
    "    'data_extração': 'data_extracao'\n",
    "}\n",
    "\n",
    "# Função para adicionar colunas vazias necessárias ao dataframe\n",
    "def adicionar_colunas_vazias(df, colunas_necessarias):\n",
    "    for coluna in colunas_necessarias:\n",
    "        if coluna not in df.columns:\n",
    "            df[coluna] = pd.NA  # Cria a coluna com valores vazios\n",
    "    return df\n",
    "\n",
    "def extract_capacity(name):\n",
    "    matches = re.findall(r\"(\\d+)\\s*(gb|tb|ssd|hd|hdd)\", name, re.IGNORECASE)\n",
    "    max_capacity = 0\n",
    "    for match in matches:\n",
    "        capacity, unit = match\n",
    "        capacity = int(capacity)\n",
    "        if unit.lower() == \"tb\":\n",
    "            capacity *= 1024  # Convertendo TB para GB\n",
    "        max_capacity = max(max_capacity, capacity)\n",
    "\n",
    "    if max_capacity > 0:\n",
    "        if max_capacity < 1024:\n",
    "            return f\"{max_capacity}GB\"\n",
    "        else:\n",
    "            return f\"{int(max_capacity/1024)}TB\"\n",
    "    else:\n",
    "        return None"
   ]
  },
  {
   "cell_type": "code",
   "execution_count": 3,
   "id": "af618486",
   "metadata": {},
   "outputs": [
    {
     "data": {
      "text/html": [
       "<div>\n",
       "<style scoped>\n",
       "    .dataframe tbody tr th:only-of-type {\n",
       "        vertical-align: middle;\n",
       "    }\n",
       "\n",
       "    .dataframe tbody tr th {\n",
       "        vertical-align: top;\n",
       "    }\n",
       "\n",
       "    .dataframe thead th {\n",
       "        text-align: right;\n",
       "    }\n",
       "</style>\n",
       "<table border=\"1\" class=\"dataframe\">\n",
       "  <thead>\n",
       "    <tr style=\"text-align: right;\">\n",
       "      <th></th>\n",
       "      <th>CATEGORIA</th>\n",
       "      <th>VERTICAL</th>\n",
       "      <th>SUBCATEGORIA_GERENCIAL</th>\n",
       "      <th>NOME_COMERCIAL</th>\n",
       "      <th>Modelo</th>\n",
       "      <th>Modelo com cor</th>\n",
       "      <th>Cor</th>\n",
       "      <th>COD_SAP</th>\n",
       "      <th>ID_DPGC</th>\n",
       "    </tr>\n",
       "  </thead>\n",
       "  <tbody>\n",
       "    <tr>\n",
       "      <th>0</th>\n",
       "      <td>ESSENCIAIS</td>\n",
       "      <td>OVVI E ESSENCIAIS</td>\n",
       "      <td>CABOS</td>\n",
       "      <td>Adaptador Lightning Apple 3,5mm</td>\n",
       "      <td>ADAPTADOR LIGTHNING APPLE 3,5MM</td>\n",
       "      <td>Adaptador Lightning Apple 3,5mm Branco</td>\n",
       "      <td>Branco</td>\n",
       "      <td>22018331</td>\n",
       "      <td>APL06</td>\n",
       "    </tr>\n",
       "    <tr>\n",
       "      <th>1</th>\n",
       "      <td>ESSENCIAIS</td>\n",
       "      <td>OVVI E ESSENCIAIS</td>\n",
       "      <td>CABOS</td>\n",
       "      <td>Adaptador Usb-C Para Conector De Fones De Ouvi...</td>\n",
       "      <td>Samsung Adaptador USB-C para P2</td>\n",
       "      <td>Adaptador Usb-C Para Conector De Fones De Ouvi...</td>\n",
       "      <td>Preto</td>\n",
       "      <td>22019829</td>\n",
       "      <td>SAM472</td>\n",
       "    </tr>\n",
       "    <tr>\n",
       "      <th>2</th>\n",
       "      <td>ESSENCIAIS</td>\n",
       "      <td>OVVI E ESSENCIAIS</td>\n",
       "      <td>CABOS</td>\n",
       "      <td>Cabo De Usb-C Para Lightning (1 M)</td>\n",
       "      <td>Cabo USB-C Lightning Apple</td>\n",
       "      <td>Cabo De Usb-C Para Lightning (1 M) Branco</td>\n",
       "      <td>Branco</td>\n",
       "      <td>22020345</td>\n",
       "      <td>APP154</td>\n",
       "    </tr>\n",
       "    <tr>\n",
       "      <th>3</th>\n",
       "      <td>ESSENCIAIS</td>\n",
       "      <td>OVVI E ESSENCIAIS</td>\n",
       "      <td>CABOS</td>\n",
       "      <td>Cabo Lightning Apple 1m</td>\n",
       "      <td>CABO LIGTHNING APPLE 1M</td>\n",
       "      <td>Cabo Lightning Apple 1m Branco</td>\n",
       "      <td>Branco</td>\n",
       "      <td>22020007</td>\n",
       "      <td>APL01</td>\n",
       "    </tr>\n",
       "    <tr>\n",
       "      <th>4</th>\n",
       "      <td>ESSENCIAIS</td>\n",
       "      <td>OVVI E ESSENCIAIS</td>\n",
       "      <td>CABOS</td>\n",
       "      <td>Cabo Usb Para Lightning 1,2m</td>\n",
       "      <td>I2GO CABO USB PARA LIGHTNING 1,2M</td>\n",
       "      <td>Cabo Usb Para Lightning 1,2m Branco</td>\n",
       "      <td>Branco</td>\n",
       "      <td>22019883</td>\n",
       "      <td>SAM1</td>\n",
       "    </tr>\n",
       "    <tr>\n",
       "      <th>...</th>\n",
       "      <td>...</td>\n",
       "      <td>...</td>\n",
       "      <td>...</td>\n",
       "      <td>...</td>\n",
       "      <td>...</td>\n",
       "      <td>...</td>\n",
       "      <td>...</td>\n",
       "      <td>...</td>\n",
       "      <td>...</td>\n",
       "    </tr>\n",
       "    <tr>\n",
       "      <th>828</th>\n",
       "      <td>SMARTPHONE</td>\n",
       "      <td>SMARTPHONE</td>\n",
       "      <td>SMARTPHONE</td>\n",
       "      <td>Samsung Galaxy Z Fold 5 1tb</td>\n",
       "      <td>Samsung Galaxy F946B 1TB</td>\n",
       "      <td>Samsung Galaxy Z Fold 5 1tb Preto</td>\n",
       "      <td>Preto</td>\n",
       "      <td>TGSA49062000</td>\n",
       "      <td>SAM580</td>\n",
       "    </tr>\n",
       "    <tr>\n",
       "      <th>829</th>\n",
       "      <td>SMARTPHONE</td>\n",
       "      <td>SMARTPHONE</td>\n",
       "      <td>SMARTPHONE</td>\n",
       "      <td>Samsung Galaxy Z Fold 5 512gb</td>\n",
       "      <td>Samsung Galaxy F946B 512GB</td>\n",
       "      <td>Samsung Galaxy Z Fold 5 512gb Preto</td>\n",
       "      <td>Preto</td>\n",
       "      <td>TGSA48962000</td>\n",
       "      <td>SAM560</td>\n",
       "    </tr>\n",
       "    <tr>\n",
       "      <th>830</th>\n",
       "      <td>SMARTPHONE</td>\n",
       "      <td>SMARTPHONE</td>\n",
       "      <td>SMARTPHONE</td>\n",
       "      <td>Semp Tcl Go3c Plus</td>\n",
       "      <td>SEMP TCL GO3c Plus</td>\n",
       "      <td>Semp Tcl Go3c Plus Preto</td>\n",
       "      <td>Preto</td>\n",
       "      <td>TGTL00662000</td>\n",
       "      <td>ALC156</td>\n",
       "    </tr>\n",
       "    <tr>\n",
       "      <th>831</th>\n",
       "      <td>SMARTPHONE</td>\n",
       "      <td>SMARTPHONE</td>\n",
       "      <td>SMARTPHONE</td>\n",
       "      <td>Semp Tcl Go5c</td>\n",
       "      <td>Alcatel 5033E</td>\n",
       "      <td>Semp Tcl Go5c Preto</td>\n",
       "      <td>Preto</td>\n",
       "      <td>TGTL00362000</td>\n",
       "      <td>ALC147</td>\n",
       "    </tr>\n",
       "    <tr>\n",
       "      <th>832</th>\n",
       "      <td>SMARTPHONE</td>\n",
       "      <td>SMARTPHONE</td>\n",
       "      <td>SMARTPHONE</td>\n",
       "      <td>Tcl L5</td>\n",
       "      <td>SEMP TCL L5 5033E</td>\n",
       "      <td>Tcl L5 Preto</td>\n",
       "      <td>Preto</td>\n",
       "      <td>TGTL00762000</td>\n",
       "      <td>ALC163</td>\n",
       "    </tr>\n",
       "  </tbody>\n",
       "</table>\n",
       "<p>797 rows × 9 columns</p>\n",
       "</div>"
      ],
      "text/plain": [
       "      CATEGORIA           VERTICAL SUBCATEGORIA_GERENCIAL  \\\n",
       "0    ESSENCIAIS  OVVI E ESSENCIAIS                  CABOS   \n",
       "1    ESSENCIAIS  OVVI E ESSENCIAIS                  CABOS   \n",
       "2    ESSENCIAIS  OVVI E ESSENCIAIS                  CABOS   \n",
       "3    ESSENCIAIS  OVVI E ESSENCIAIS                  CABOS   \n",
       "4    ESSENCIAIS  OVVI E ESSENCIAIS                  CABOS   \n",
       "..          ...                ...                    ...   \n",
       "828  SMARTPHONE         SMARTPHONE             SMARTPHONE   \n",
       "829  SMARTPHONE         SMARTPHONE             SMARTPHONE   \n",
       "830  SMARTPHONE         SMARTPHONE             SMARTPHONE   \n",
       "831  SMARTPHONE         SMARTPHONE             SMARTPHONE   \n",
       "832  SMARTPHONE         SMARTPHONE             SMARTPHONE   \n",
       "\n",
       "                                        NOME_COMERCIAL  \\\n",
       "0                      Adaptador Lightning Apple 3,5mm   \n",
       "1    Adaptador Usb-C Para Conector De Fones De Ouvi...   \n",
       "2                   Cabo De Usb-C Para Lightning (1 M)   \n",
       "3                              Cabo Lightning Apple 1m   \n",
       "4                         Cabo Usb Para Lightning 1,2m   \n",
       "..                                                 ...   \n",
       "828                        Samsung Galaxy Z Fold 5 1tb   \n",
       "829                      Samsung Galaxy Z Fold 5 512gb   \n",
       "830                                 Semp Tcl Go3c Plus   \n",
       "831                                      Semp Tcl Go5c   \n",
       "832                                             Tcl L5   \n",
       "\n",
       "                                Modelo  \\\n",
       "0      ADAPTADOR LIGTHNING APPLE 3,5MM   \n",
       "1      Samsung Adaptador USB-C para P2   \n",
       "2           Cabo USB-C Lightning Apple   \n",
       "3              CABO LIGTHNING APPLE 1M   \n",
       "4    I2GO CABO USB PARA LIGHTNING 1,2M   \n",
       "..                                 ...   \n",
       "828           Samsung Galaxy F946B 1TB   \n",
       "829         Samsung Galaxy F946B 512GB   \n",
       "830                 SEMP TCL GO3c Plus   \n",
       "831                      Alcatel 5033E   \n",
       "832                  SEMP TCL L5 5033E   \n",
       "\n",
       "                                        Modelo com cor     Cor       COD_SAP  \\\n",
       "0               Adaptador Lightning Apple 3,5mm Branco  Branco      22018331   \n",
       "1    Adaptador Usb-C Para Conector De Fones De Ouvi...   Preto      22019829   \n",
       "2            Cabo De Usb-C Para Lightning (1 M) Branco  Branco      22020345   \n",
       "3                       Cabo Lightning Apple 1m Branco  Branco      22020007   \n",
       "4                  Cabo Usb Para Lightning 1,2m Branco  Branco      22019883   \n",
       "..                                                 ...     ...           ...   \n",
       "828                  Samsung Galaxy Z Fold 5 1tb Preto   Preto  TGSA49062000   \n",
       "829                Samsung Galaxy Z Fold 5 512gb Preto   Preto  TGSA48962000   \n",
       "830                           Semp Tcl Go3c Plus Preto   Preto  TGTL00662000   \n",
       "831                                Semp Tcl Go5c Preto   Preto  TGTL00362000   \n",
       "832                                       Tcl L5 Preto   Preto  TGTL00762000   \n",
       "\n",
       "    ID_DPGC  \n",
       "0     APL06  \n",
       "1    SAM472  \n",
       "2    APP154  \n",
       "3     APL01  \n",
       "4      SAM1  \n",
       "..      ...  \n",
       "828  SAM580  \n",
       "829  SAM560  \n",
       "830  ALC156  \n",
       "831  ALC147  \n",
       "832  ALC163  \n",
       "\n",
       "[797 rows x 9 columns]"
      ]
     },
     "execution_count": 3,
     "metadata": {},
     "output_type": "execute_result"
    }
   ],
   "source": [
    "# Leitura da lista de devices\n",
    "path_devices = r'C:\\Users\\MattioliMichael(Bip)\\BUSINESS INTEGRATION PARTNERS SPA\\Pricing Vivo - General\\4.0 Conteudos de projeto\\Requisitos\\lista devices.xlsx'\n",
    "\n",
    "# Captura a aba 'devices'\n",
    "devices = pd.read_excel(path_devices, sheet_name='devices')\n",
    "devices = devices.drop_duplicates()\n",
    "devices"
   ]
  },
  {
   "cell_type": "code",
   "execution_count": 4,
   "metadata": {},
   "outputs": [
    {
     "data": {
      "application/vnd.jupyter.widget-view+json": {
       "model_id": "595a93c1033048ac82fe7ef70e6acc8c",
       "version_major": 2,
       "version_minor": 0
      },
      "text/plain": [
       "  0%|          | 0/15 [00:00<?, ?it/s]"
      ]
     },
     "metadata": {},
     "output_type": "display_data"
    },
    {
     "name": "stdout",
     "output_type": "stream",
     "text": [
      "Extrações Amazon.xlsx\n"
     ]
    },
    {
     "data": {
      "text/plain": [
       "Index(['fabricante', 'marca', 'sku', 'no_modelo', 'nome_comercial',\n",
       "       'capacidade_armazenamento', 'cor', 'nome_produto', 'empresa',\n",
       "       'vendedor', 'preco_pix', 'preco_boleto', 'preco_x1_cartao',\n",
       "       'preco_prazo_sem_juros_cartao_normal',\n",
       "       'qtd_parcelas_sem_juros_cartao_normal',\n",
       "       'preco_prazo_com_juros_cartao_normal',\n",
       "       'qtd_parcelas_com_juros_cartao_normal', 'taxa_juros_cartao_normal',\n",
       "       'preco_x1_cartao_proprio', 'preco_prazo_sem_juros_cartao_proprio',\n",
       "       'qtd_parcelas_sem_juros_cartao_proprio',\n",
       "       'preco_prazo_com_juros_cartao_proprio',\n",
       "       'qtd_parcelas_com_juros_cartao_proprio', 'taxa_juros_cartao_proprio',\n",
       "       'frete', 'estoque', 'url'],\n",
       "      dtype='object')"
      ]
     },
     "metadata": {},
     "output_type": "display_data"
    },
    {
     "name": "stdout",
     "output_type": "stream",
     "text": [
      "Extrações Americanas.xlsx\n"
     ]
    },
    {
     "data": {
      "text/plain": [
       "Index(['sku', 'vendedor', 'product_name', 'preco_pix', 'preco_boleto',\n",
       "       'preco_x1_cartao', 'preco_prazo_sem_juros_cartao_normal',\n",
       "       'qtd_parcelas_sem_juros_cartao_normal',\n",
       "       'preco_prazo_com_juros_cartao_normal',\n",
       "       'qtd_parcelas_com_juros_cartao_normal', 'taxa_juros_cartao_normal',\n",
       "       'preco_x1_cartao_proprio', 'preco_prazo_sem_juros_cartao_proprio',\n",
       "       'qtd_parcelas_sem_juros_cartao_proprio',\n",
       "       'preco_prazo_com_juros_cartao_proprio',\n",
       "       'qtd_parcelas_com_juros_cartao_proprio', 'taxa_juros_cartao_proprio',\n",
       "       'frete', 'cep', 'estoque', 'url', 'data_extracao', 'marca',\n",
       "       'fabricante', 'cor', 'ean', 'no_modelo', 'capacidade_armazenamento'],\n",
       "      dtype='object')"
      ]
     },
     "metadata": {},
     "output_type": "display_data"
    },
    {
     "name": "stdout",
     "output_type": "stream",
     "text": [
      "Extrações Casas Bahia.xlsx\n"
     ]
    },
    {
     "data": {
      "text/plain": [
       "Index(['fabricante', 'marca', 'ean', 'sku', 'no_modelo', 'nome_comercial',\n",
       "       'capacidade_armazenamento', 'cor', 'nome_produto', 'empresa',\n",
       "       'vendedor', 'preco_pix', 'preco_boleto', 'preco_x1_cartao',\n",
       "       'preco_prazo_sem_juros_cartao_normal',\n",
       "       'qtd_parcelas_sem_juros_cartao_normal',\n",
       "       'preco_prazo_com_juros_cartao_normal',\n",
       "       'qtd_parcelas_com_juros_cartao_normal', 'taxa_juros_cartao_normal',\n",
       "       'preco_x1_cartao_proprio', 'preco_prazo_sem_juros_cartao_proprio',\n",
       "       'qtd_parcelas_sem_juros_cartao_proprio',\n",
       "       'preco_prazo_com_juros_cartao_proprio',\n",
       "       'qtd_parcelas_com_juros_cartao_proprio', 'taxa_juros_cartao_proprio',\n",
       "       'frete', 'estoque', 'url', 'data_extracao'],\n",
       "      dtype='object')"
      ]
     },
     "metadata": {},
     "output_type": "display_data"
    },
    {
     "name": "stdout",
     "output_type": "stream",
     "text": [
      "Extrações Claro.xlsx\n"
     ]
    },
    {
     "data": {
      "text/plain": [
       "Index(['fabricante', 'marca', 'ean', 'sku', 'no_modelo', 'nome_comercial',\n",
       "       'capacidade_armazenamento', 'cor', 'nome_produto', 'empresa',\n",
       "       'vendedor', 'preco_pix', 'preco_boleto', 'preco_x1_cartao',\n",
       "       'preco_prazo_sem_juros_cartao_normal',\n",
       "       'qtd_parcelas_sem_juros_cartao_normal',\n",
       "       'preco_prazo_com_juros_cartao_normal',\n",
       "       'qtd_parcelas_com_juros_cartao_normal', 'taxa_juros_cartao_normal',\n",
       "       'preco_x1_cartao_proprio', 'preco_prazo_sem_juros_cartao_proprio',\n",
       "       'qtd_parcelas_sem_juros_cartao_proprio',\n",
       "       'preco_prazo_com_juros_cartao_proprio',\n",
       "       'qtd_parcelas_com_juros_cartao_proprio', 'taxa_juros_cartao_proprio',\n",
       "       'frete', 'cep', 'estoque', 'url', 'data_extracao'],\n",
       "      dtype='object')"
      ]
     },
     "metadata": {},
     "output_type": "display_data"
    },
    {
     "name": "stdout",
     "output_type": "stream",
     "text": [
      "Extrações Fast Shop.xlsx\n"
     ]
    },
    {
     "data": {
      "text/plain": [
       "Index(['fabricante', 'marca', 'sku', 'no_modelo', 'nome_comercial',\n",
       "       'capacidade_armazenamento', 'cor', 'nome_produto', 'empresa',\n",
       "       'vendedor', 'frete', 'estoque', 'url', 'preco_pix', 'preco_boleto',\n",
       "       'preco_x1_cartao', 'preco_prazo_sem_juros_cartao_normal',\n",
       "       'qtd_parcelas_sem_juros_cartao_normal',\n",
       "       'preco_prazo_com_juros_cartao_normal',\n",
       "       'qtd_parcelas_com_juros_cartao_normal', 'taxa_juros_cartao_normal',\n",
       "       'preco_x1_cartao_proprio', 'preco_prazo_sem_juros_cartao_proprio',\n",
       "       'qtd_parcelas_sem_juros_cartao_proprio',\n",
       "       'preco_prazo_com_juros_cartao_proprio',\n",
       "       'qtd_parcelas_com_juros_cartao_proprio', 'taxa_juros_cartao_proprio',\n",
       "       'data_extracao'],\n",
       "      dtype='object')"
      ]
     },
     "metadata": {},
     "output_type": "display_data"
    },
    {
     "name": "stdout",
     "output_type": "stream",
     "text": [
      "Extrações Girafa.xlsx\n"
     ]
    },
    {
     "data": {
      "text/plain": [
       "Index(['fabricante', 'marca', 'ean', 'sku', 'no_modelo', 'nome_comercial',\n",
       "       'capacidade_armazenamento', 'cor', 'nome_produto', 'empresa',\n",
       "       'vendedor', 'preco_pix', 'preco_boleto', 'preco_x1_cartao',\n",
       "       'preco_prazo_sem_juros_cartao_normal',\n",
       "       'qtd_parcelas_sem_juros_cartao_normal',\n",
       "       'preco_prazo_com_juros_cartao_normal',\n",
       "       'qtd_parcelas_com_juros_cartao_normal', 'taxa_juros_cartao_normal',\n",
       "       'preco_x1_cartao_proprio', 'preco_prazo_sem_juros_cartao_proprio',\n",
       "       'qtd_parcelas_sem_juros_cartao_proprio',\n",
       "       'preco_prazo_com_juros_cartao_proprio',\n",
       "       'qtd_parcelas_com_juros_cartao_proprio', 'taxa_juros_cartao_proprio',\n",
       "       'frete', 'estoque', 'url', 'data_extracao'],\n",
       "      dtype='object')"
      ]
     },
     "metadata": {},
     "output_type": "display_data"
    },
    {
     "name": "stdout",
     "output_type": "stream",
     "text": [
      "Extrações iPlace.xlsx\n"
     ]
    },
    {
     "data": {
      "text/plain": [
       "Index(['fabricante', 'marca', 'ean', 'sku', 'no_modelo', 'nome_comercial',\n",
       "       'capacidade_armazenamento', 'cor', 'nome_produto', 'empresa',\n",
       "       'vendedor', 'preco_pix', 'preco_boleto', 'preco_credito_1x',\n",
       "       'preco_prazo_sem_juros_cartao_normal',\n",
       "       'qtd_parcelas_sem_juros_cartao_normal',\n",
       "       'preco_prazo_com_juros_cartao_normal',\n",
       "       'qtd_parcelas_com_juros_cartao_normal', 'taxa_juros_cartao_normal',\n",
       "       'preco_x1_cartao_proprio', 'preco_prazo_sem_juros_cartao_proprio',\n",
       "       'qtd_parcelas_sem_juros_cartao_proprio',\n",
       "       'preco_prazo_com_juros_cartao_proprio',\n",
       "       'qtd_parcelas_com_juros_cartao_proprio', 'taxa_juros_cartao_proprio',\n",
       "       'estoque', 'url', 'data_extracao'],\n",
       "      dtype='object')"
      ]
     },
     "metadata": {},
     "output_type": "display_data"
    },
    {
     "name": "stdout",
     "output_type": "stream",
     "text": [
      "Extrações Kabum.xlsx\n"
     ]
    },
    {
     "data": {
      "text/plain": [
       "Index(['fabricante', 'marca', 'ean', 'sku', 'no_modelo', 'nome_comercial',\n",
       "       'capacidade_armazenamento', 'cor', 'nome_produto', 'empresa',\n",
       "       'vendedor', 'preco_pix', 'preco_boleto', 'preco_credito_1x',\n",
       "       'preco_prazo_sem_juros_cartao_normal',\n",
       "       'qtd_parcelas_sem_juros_cartao_normal',\n",
       "       'preco_prazo_com_juros_cartao_normal',\n",
       "       'qtd_parcelas_com_juros_cartao_normal', 'taxa_juros_cartao_normal',\n",
       "       'preco_x1_cartao_proprio', 'preco_prazo_sem_juros_cartao_proprio',\n",
       "       'qtd_parcelas_sem_juros_cartao_proprio',\n",
       "       'preco_prazo_com_juros_cartao_proprio',\n",
       "       'qtd_parcelas_com_juros_cartao_proprio', 'taxa_juros_cartao_proprio',\n",
       "       'estoque', 'url', 'data_extracao'],\n",
       "      dtype='object')"
      ]
     },
     "metadata": {},
     "output_type": "display_data"
    },
    {
     "name": "stdout",
     "output_type": "stream",
     "text": [
      "Extrações Magalu.xlsx\n"
     ]
    },
    {
     "data": {
      "text/plain": [
       "Index(['fabricante', 'marca', 'ean', 'sku', 'no_modelo', 'nome_comercial',\n",
       "       'capacidade_armazenamento', 'cor', 'nome_produto', 'empresa',\n",
       "       'vendedor', 'preco_pix', 'preco_boleto', 'preco_credito_1x',\n",
       "       'preco_prazo_sem_juros_cartao_normal',\n",
       "       'qtd_parcelas_sem_juros_cartao_normal',\n",
       "       'preco_prazo_com_juros_cartao_normal',\n",
       "       'qtd_parcelas_com_juros_cartao_normal', 'taxa_juros_cartao_normal',\n",
       "       'preco_x1_cartao_proprio', 'preco_prazo_sem_juros_cartao_proprio',\n",
       "       'qtd_parcelas_sem_juros_cartao_proprio',\n",
       "       'preco_prazo_com_juros_cartao_proprio',\n",
       "       'qtd_parcelas_com_juros_cartao_proprio', 'taxa_juros_cartao_proprio',\n",
       "       'estoque', 'url', 'data_extracao'],\n",
       "      dtype='object')"
      ]
     },
     "metadata": {},
     "output_type": "display_data"
    },
    {
     "name": "stdout",
     "output_type": "stream",
     "text": [
      "Extrações Mercado Livre.xlsx\n"
     ]
    },
    {
     "data": {
      "text/plain": [
       "Index(['fabricante', 'marca', 'ean', 'sku', 'no_modelo', 'nome_comercial',\n",
       "       'capacidade_armazenamento', 'cor', 'nome_produto', 'empresa',\n",
       "       'vendedor', 'preco_pix', 'preco_boleto', 'preco_x1_cartao',\n",
       "       'preco_prazo_sem_juros_cartao_normal',\n",
       "       'qtd_parcelas_sem_juros_cartao_normal',\n",
       "       'preco_prazo_com_juros_cartao_normal',\n",
       "       'qtd_parcelas_com_juros_cartao_normal', 'taxa_juros_cartao_normal',\n",
       "       'preco_x1_cartao_proprio', 'preco_prazo_sem_juros_cartao_proprio',\n",
       "       'qtd_parcelas_sem_juros_cartao_proprio',\n",
       "       'preco_prazo_com_juros_cartao_proprio',\n",
       "       'qtd_parcelas_com_juros_cartao_proprio', 'taxa_juros_cartao_proprio',\n",
       "       'estoque', 'url', 'data_extracao'],\n",
       "      dtype='object')"
      ]
     },
     "metadata": {},
     "output_type": "display_data"
    },
    {
     "name": "stdout",
     "output_type": "stream",
     "text": [
      "Extrações Ponto Frio.xlsx\n"
     ]
    },
    {
     "data": {
      "text/plain": [
       "Index(['fabricante', 'marca', 'sku', 'no_modelo', 'nome_comercial',\n",
       "       'capacidade_armazenamento', 'cor', 'nome_produto', 'empresa',\n",
       "       'vendedor', 'frete', 'estoque', 'url', 'preco_pix', 'preco_boleto',\n",
       "       'preco_x1_cartao', 'preco_prazo_sem_juros_cartao_normal',\n",
       "       'qtd_parcelas_sem_juros_cartao_normal',\n",
       "       'preco_prazo_com_juros_cartao_normal',\n",
       "       'qtd_parcelas_com_juros_cartao_normal', 'taxa_juros_cartao_normal',\n",
       "       'preco_x1_cartao_proprio', 'preco_prazo_sem_juros_cartao_proprio',\n",
       "       'qtd_parcelas_sem_juros_cartao_proprio',\n",
       "       'preco_prazo_com_juros_cartao_proprio',\n",
       "       'qtd_parcelas_com_juros_cartao_proprio', 'taxa_juros_cartao_proprio'],\n",
       "      dtype='object')"
      ]
     },
     "metadata": {},
     "output_type": "display_data"
    },
    {
     "name": "stdout",
     "output_type": "stream",
     "text": [
      "Extrações Samsung.xlsx\n"
     ]
    },
    {
     "data": {
      "text/plain": [
       "Index(['fabricante', 'marca', 'ean', 'sku', 'no_modelo', 'nome_comercial',\n",
       "       'capacidade_armazenamento', 'cor', 'nome_produto', 'empresa',\n",
       "       'vendedor', 'preco_pix', 'preco_boleto', 'preco_x1_cartao',\n",
       "       'preco_prazo_sem_juros_cartao_normal',\n",
       "       'qtd_parcelas_sem_juros_cartao_normal',\n",
       "       'preco_prazo_com_juros_cartao_normal',\n",
       "       'qtd_parcelas_com_juros_cartao_normal', 'taxa_juros_cartao_normal',\n",
       "       'preco_x1_cartao_proprio', 'preco_prazo_sem_juros_cartao_proprio',\n",
       "       'qtd_parcelas_sem_juros_cartao_proprio',\n",
       "       'preco_prazo_com_juros_cartao_proprio',\n",
       "       'qtd_parcelas_com_juros_cartao_proprio', 'taxa_juros_cartao_proprio',\n",
       "       'frete', 'estoque', 'url', 'data_extracao'],\n",
       "      dtype='object')"
      ]
     },
     "metadata": {},
     "output_type": "display_data"
    },
    {
     "name": "stdout",
     "output_type": "stream",
     "text": [
      "Extrações Shopee.xlsx\n"
     ]
    },
    {
     "data": {
      "text/plain": [
       "Index(['fabricante', 'marca', 'ean', 'sku', 'no_modelo', 'nome_comercial',\n",
       "       'capacidade_armazenamento', 'cor', 'nome_produto', 'empresa',\n",
       "       'vendedor', 'preco_pix', 'preco_boleto', 'preco_x1_cartao',\n",
       "       'preco_prazo_sem_juros_cartao_normal',\n",
       "       'qtd_parcelas_sem_juros_cartao_normal',\n",
       "       'preco_prazo_com_juros_cartao_normal',\n",
       "       'qtd_parcelas_com_juros_cartao_normal', 'taxa_juros_cartao_normal',\n",
       "       'preco_x1_cartao_proprio', 'preco_prazo_sem_juros_cartao_proprio',\n",
       "       'qtd_parcelas_sem_juros_cartao_proprio',\n",
       "       'preco_prazo_com_juros_cartao_proprio',\n",
       "       'qtd_parcelas_com_juros_cartao_proprio', 'taxa_juros_cartao_proprio',\n",
       "       'frete', 'cep', 'estoque', 'url', 'data_extracao', 'link'],\n",
       "      dtype='object')"
      ]
     },
     "metadata": {},
     "output_type": "display_data"
    },
    {
     "name": "stdout",
     "output_type": "stream",
     "text": [
      "Extrações Tim.xlsx\n"
     ]
    },
    {
     "data": {
      "text/plain": [
       "Index(['fabricante', 'marca', 'ean', 'sku', 'no_modelo', 'nome_comercial',\n",
       "       'capacidade_armazenamento', 'cor', 'empresa', 'nome_produto',\n",
       "       'empresa.1', 'vendedor', 'preco_pix', 'preco_boleto',\n",
       "       'preco_credito_1x', 'preco_prazo_sem_juros_cartao_normal',\n",
       "       'qtd_parcelas_sem_juros_cartao_normal',\n",
       "       'preco_prazo_com_juros_cartao_normal',\n",
       "       'qtd_parcelas_com_juros_cartao_normal', 'taxa_juros_cartao_normal',\n",
       "       'preco_x1_cartao_proprio', 'preco_prazo_sem_juros_cartao_proprio',\n",
       "       'qtd_parcelas_sem_juros_cartao_proprio',\n",
       "       'preco_prazo_com_juros_cartao_proprio',\n",
       "       'qtd_parcelas_com_juros_cartao_proprio', 'taxa_juros_cartao_proprio',\n",
       "       'estoque', 'url', 'data_extracao'],\n",
       "      dtype='object')"
      ]
     },
     "metadata": {},
     "output_type": "display_data"
    },
    {
     "name": "stdout",
     "output_type": "stream",
     "text": [
      "Extrações Vivo.xlsx\n"
     ]
    },
    {
     "data": {
      "text/plain": [
       "Index(['fabricante', 'marca', 'ean', 'sku', 'no_modelo', 'nome_comercial',\n",
       "       'capacidade_armazenamento', 'cor', 'nome_produto', 'empresa',\n",
       "       'vendedor', 'preco_pix', 'preco_boleto', 'preco_credito_1x',\n",
       "       'preco_prazo_sem_juros_cartao_normal',\n",
       "       'qtd_parcelas_sem_juros_cartao_normal',\n",
       "       'preco_prazo_com_juros_cartao_normal',\n",
       "       'qtd_parcelas_com_juros_cartao_normal', 'taxa_juros_cartao_normal',\n",
       "       'preco_x1_cartao_proprio', 'preco_prazo_sem_juros_cartao_proprio',\n",
       "       'qtd_parcelas_sem_juros_cartao_proprio',\n",
       "       'preco_prazo_com_juros_cartao_proprio',\n",
       "       'qtd_parcelas_com_juros_cartao_proprio', 'taxa_juros_cartao_proprio',\n",
       "       'estoque', 'url', 'data_extracao'],\n",
       "      dtype='object')"
      ]
     },
     "metadata": {},
     "output_type": "display_data"
    }
   ],
   "source": [
    "# Leitura das planilhas exceis para juntar as bases\n",
    "path_data = r'C:\\Users\\MattioliMichael(Bip)\\BUSINESS INTEGRATION PARTNERS SPA\\Pricing Vivo - General\\4.0 Conteudos de projeto\\Extrações'\n",
    "\n",
    "# Leitura de cada excel do path_data e concatenação em um único dataframe\n",
    "# Utilize as bibliotecas os e sys para leitura do diretorio\n",
    "\n",
    "# Lista de colunas necessárias\n",
    "colunas_necessarias = [\n",
    "    'fabricante', 'marca', 'ean', 'sku', 'no_modelo', 'nome_comercial',\n",
    "    'capacidade_armazenamento', 'cor', 'nome_produto', 'empresa',\n",
    "    'vendedor', 'preco_pix', 'preco_boleto', 'preco_x1_cartao',\n",
    "    'preco_prazo_sem_juros_cartao_normal', 'qtd_parcelas_sem_juros_cartao_normal',\n",
    "    'preco_prazo_com_juros_cartao_normal', 'qtd_parcelas_com_juros_cartao_normal',\n",
    "    'taxa_juros_cartao_normal', 'preco_x1_cartao_proprio',\n",
    "    'preco_prazo_sem_juros_cartao_proprio', 'qtd_parcelas_sem_juros_cartao_proprio',\n",
    "    'preco_prazo_com_juros_cartao_proprio', 'qtd_parcelas_com_juros_cartao_proprio',\n",
    "    'taxa_juros_cartao_proprio', 'frete', 'cep', 'estoque', 'url', 'data_extracao'\n",
    "]\n",
    "\n",
    "# Lista de arquivos no diretório\n",
    "lista_arquivos = os.listdir(path_data)\n",
    "\n",
    "# Lista de arquivos excel\n",
    "lista_arquivos_excel = [arquivo for arquivo in lista_arquivos if arquivo.endswith('.xlsx')]\n",
    "\n",
    "# Lista de dataframes\n",
    "lista_df = []\n",
    "for arquivo in tqdm(lista_arquivos_excel):\n",
    "    print(arquivo)\n",
    "    df = pd.read_excel(os.path.join(path_data, arquivo))\n",
    "    df = df.rename(columns=mapeamento)\n",
    "    display(df.columns)\n",
    "    df = adicionar_colunas_vazias(df, colunas_necessarias)\n",
    "    \n",
    "    lista_df.append(df[colunas_necessarias])"
   ],
   "id": "51817af4c9e584ff"
  },
  {
   "cell_type": "code",
   "execution_count": 5,
   "id": "ed41d2e3",
   "metadata": {},
   "outputs": [
    {
     "data": {
      "text/html": [
       "<div>\n",
       "<style scoped>\n",
       "    .dataframe tbody tr th:only-of-type {\n",
       "        vertical-align: middle;\n",
       "    }\n",
       "\n",
       "    .dataframe tbody tr th {\n",
       "        vertical-align: top;\n",
       "    }\n",
       "\n",
       "    .dataframe thead th {\n",
       "        text-align: right;\n",
       "    }\n",
       "</style>\n",
       "<table border=\"1\" class=\"dataframe\">\n",
       "  <thead>\n",
       "    <tr style=\"text-align: right;\">\n",
       "      <th></th>\n",
       "      <th>fabricante</th>\n",
       "      <th>marca</th>\n",
       "      <th>ean</th>\n",
       "      <th>sku</th>\n",
       "      <th>no_modelo</th>\n",
       "      <th>nome_comercial</th>\n",
       "      <th>capacidade_armazenamento</th>\n",
       "      <th>cor</th>\n",
       "      <th>nome_produto</th>\n",
       "      <th>empresa</th>\n",
       "      <th>vendedor</th>\n",
       "      <th>preco_pix</th>\n",
       "      <th>preco_boleto</th>\n",
       "      <th>preco_x1_cartao</th>\n",
       "      <th>preco_prazo_sem_juros_cartao_normal</th>\n",
       "      <th>qtd_parcelas_sem_juros_cartao_normal</th>\n",
       "      <th>preco_prazo_com_juros_cartao_normal</th>\n",
       "      <th>qtd_parcelas_com_juros_cartao_normal</th>\n",
       "      <th>taxa_juros_cartao_normal</th>\n",
       "      <th>preco_x1_cartao_proprio</th>\n",
       "      <th>preco_prazo_sem_juros_cartao_proprio</th>\n",
       "      <th>qtd_parcelas_sem_juros_cartao_proprio</th>\n",
       "      <th>preco_prazo_com_juros_cartao_proprio</th>\n",
       "      <th>qtd_parcelas_com_juros_cartao_proprio</th>\n",
       "      <th>taxa_juros_cartao_proprio</th>\n",
       "      <th>frete</th>\n",
       "      <th>cep</th>\n",
       "      <th>estoque</th>\n",
       "      <th>url</th>\n",
       "      <th>data_extracao</th>\n",
       "    </tr>\n",
       "  </thead>\n",
       "  <tbody>\n",
       "    <tr>\n",
       "      <th>0</th>\n",
       "      <td>NaN</td>\n",
       "      <td>NaN</td>\n",
       "      <td>NaN</td>\n",
       "      <td>NaN</td>\n",
       "      <td>NaN</td>\n",
       "      <td>NaN</td>\n",
       "      <td>1TB</td>\n",
       "      <td>NaN</td>\n",
       "      <td>Apple iPhone 15 Pro Max (1 TB) — Titânio natural</td>\n",
       "      <td>Amazon</td>\n",
       "      <td>Loja iPlace</td>\n",
       "      <td>NaN</td>\n",
       "      <td>NaN</td>\n",
       "      <td>13999.00</td>\n",
       "      <td>13999.00</td>\n",
       "      <td>10.0</td>\n",
       "      <td>NaN</td>\n",
       "      <td>NaN</td>\n",
       "      <td>NaN</td>\n",
       "      <td>NaN</td>\n",
       "      <td>NaN</td>\n",
       "      <td>NaN</td>\n",
       "      <td>NaN</td>\n",
       "      <td>NaN</td>\n",
       "      <td>NaN</td>\n",
       "      <td>NaN</td>\n",
       "      <td>NaN</td>\n",
       "      <td>True</td>\n",
       "      <td>https://www.amazon.com.br/dp/B0CHXB4S3F</td>\n",
       "      <td>NaN</td>\n",
       "    </tr>\n",
       "    <tr>\n",
       "      <th>1</th>\n",
       "      <td>NaN</td>\n",
       "      <td>samsung</td>\n",
       "      <td>NaN</td>\n",
       "      <td>sm-a145mzsgzto</td>\n",
       "      <td>NaN</td>\n",
       "      <td>NaN</td>\n",
       "      <td>128GB</td>\n",
       "      <td>prata</td>\n",
       "      <td>Samsung Galaxy A14 4G , Prata , 128GB</td>\n",
       "      <td>Amazon</td>\n",
       "      <td>Amazon.com.br</td>\n",
       "      <td>849.0</td>\n",
       "      <td>849.0</td>\n",
       "      <td>893.68</td>\n",
       "      <td>893.68</td>\n",
       "      <td>10.0</td>\n",
       "      <td>NaN</td>\n",
       "      <td>NaN</td>\n",
       "      <td>NaN</td>\n",
       "      <td>NaN</td>\n",
       "      <td>NaN</td>\n",
       "      <td>NaN</td>\n",
       "      <td>NaN</td>\n",
       "      <td>NaN</td>\n",
       "      <td>NaN</td>\n",
       "      <td>NaN</td>\n",
       "      <td>NaN</td>\n",
       "      <td>True</td>\n",
       "      <td>https://www.amazon.com.br/dp/B0BVMXPN7Q</td>\n",
       "      <td>NaN</td>\n",
       "    </tr>\n",
       "    <tr>\n",
       "      <th>2</th>\n",
       "      <td>NaN</td>\n",
       "      <td>samsung</td>\n",
       "      <td>NaN</td>\n",
       "      <td>m54 5g</td>\n",
       "      <td>NaN</td>\n",
       "      <td>NaN</td>\n",
       "      <td>256GB</td>\n",
       "      <td>azul marinho</td>\n",
       "      <td>Smartphone Samsung Galaxy M54 5G 256GB Azul</td>\n",
       "      <td>Amazon</td>\n",
       "      <td>Samsung Loja Oficial</td>\n",
       "      <td>NaN</td>\n",
       "      <td>1999.0</td>\n",
       "      <td>1999.00</td>\n",
       "      <td>1999.00</td>\n",
       "      <td>10.0</td>\n",
       "      <td>NaN</td>\n",
       "      <td>NaN</td>\n",
       "      <td>NaN</td>\n",
       "      <td>NaN</td>\n",
       "      <td>NaN</td>\n",
       "      <td>NaN</td>\n",
       "      <td>NaN</td>\n",
       "      <td>NaN</td>\n",
       "      <td>NaN</td>\n",
       "      <td>NaN</td>\n",
       "      <td>NaN</td>\n",
       "      <td>True</td>\n",
       "      <td>https://www.amazon.com.br/dp/B0C55S8287</td>\n",
       "      <td>NaN</td>\n",
       "    </tr>\n",
       "    <tr>\n",
       "      <th>3</th>\n",
       "      <td>NaN</td>\n",
       "      <td>nvidia</td>\n",
       "      <td>NaN</td>\n",
       "      <td>82cgs00200</td>\n",
       "      <td>NaN</td>\n",
       "      <td>NaN</td>\n",
       "      <td>512GB</td>\n",
       "      <td>blue</td>\n",
       "      <td>Notebook Lenovo ideapad Gaming 3i i7-10750H 8G...</td>\n",
       "      <td>Amazon</td>\n",
       "      <td>MOBCOMSTORE</td>\n",
       "      <td>NaN</td>\n",
       "      <td>4999.0</td>\n",
       "      <td>4999.00</td>\n",
       "      <td>4999.00</td>\n",
       "      <td>10.0</td>\n",
       "      <td>NaN</td>\n",
       "      <td>NaN</td>\n",
       "      <td>NaN</td>\n",
       "      <td>NaN</td>\n",
       "      <td>NaN</td>\n",
       "      <td>NaN</td>\n",
       "      <td>NaN</td>\n",
       "      <td>NaN</td>\n",
       "      <td>NaN</td>\n",
       "      <td>NaN</td>\n",
       "      <td>NaN</td>\n",
       "      <td>True</td>\n",
       "      <td>https://www.amazon.com.br/dp/B0945KCDZX</td>\n",
       "      <td>NaN</td>\n",
       "    </tr>\n",
       "    <tr>\n",
       "      <th>4</th>\n",
       "      <td>NaN</td>\n",
       "      <td>NaN</td>\n",
       "      <td>NaN</td>\n",
       "      <td>NaN</td>\n",
       "      <td>NaN</td>\n",
       "      <td>NaN</td>\n",
       "      <td>1TB</td>\n",
       "      <td>NaN</td>\n",
       "      <td>Apple iPhone 15 Pro Max (1 TB) — Titânio natural</td>\n",
       "      <td>Amazon</td>\n",
       "      <td>Loja iPlace</td>\n",
       "      <td>NaN</td>\n",
       "      <td>NaN</td>\n",
       "      <td>13999.00</td>\n",
       "      <td>13999.00</td>\n",
       "      <td>10.0</td>\n",
       "      <td>NaN</td>\n",
       "      <td>NaN</td>\n",
       "      <td>NaN</td>\n",
       "      <td>NaN</td>\n",
       "      <td>NaN</td>\n",
       "      <td>NaN</td>\n",
       "      <td>NaN</td>\n",
       "      <td>NaN</td>\n",
       "      <td>NaN</td>\n",
       "      <td>NaN</td>\n",
       "      <td>NaN</td>\n",
       "      <td>True</td>\n",
       "      <td>https://www.amazon.com.br/dp/B0CHXB4S3F</td>\n",
       "      <td>NaN</td>\n",
       "    </tr>\n",
       "  </tbody>\n",
       "</table>\n",
       "</div>"
      ],
      "text/plain": [
       "  fabricante    marca  ean             sku no_modelo nome_comercial  \\\n",
       "0        NaN      NaN  NaN             NaN       NaN            NaN   \n",
       "1        NaN  samsung  NaN  sm-a145mzsgzto       NaN            NaN   \n",
       "2        NaN  samsung  NaN          m54 5g       NaN            NaN   \n",
       "3        NaN   nvidia  NaN      82cgs00200       NaN            NaN   \n",
       "4        NaN      NaN  NaN             NaN       NaN            NaN   \n",
       "\n",
       "  capacidade_armazenamento           cor  \\\n",
       "0                      1TB           NaN   \n",
       "1                    128GB         prata   \n",
       "2                    256GB  azul marinho   \n",
       "3                    512GB          blue   \n",
       "4                      1TB           NaN   \n",
       "\n",
       "                                        nome_produto empresa  \\\n",
       "0   Apple iPhone 15 Pro Max (1 TB) — Titânio natural  Amazon   \n",
       "1              Samsung Galaxy A14 4G , Prata , 128GB  Amazon   \n",
       "2        Smartphone Samsung Galaxy M54 5G 256GB Azul  Amazon   \n",
       "3  Notebook Lenovo ideapad Gaming 3i i7-10750H 8G...  Amazon   \n",
       "4   Apple iPhone 15 Pro Max (1 TB) — Titânio natural  Amazon   \n",
       "\n",
       "               vendedor  preco_pix  preco_boleto  preco_x1_cartao  \\\n",
       "0           Loja iPlace        NaN           NaN         13999.00   \n",
       "1         Amazon.com.br      849.0         849.0           893.68   \n",
       "2  Samsung Loja Oficial        NaN        1999.0          1999.00   \n",
       "3           MOBCOMSTORE        NaN        4999.0          4999.00   \n",
       "4           Loja iPlace        NaN           NaN         13999.00   \n",
       "\n",
       "   preco_prazo_sem_juros_cartao_normal  qtd_parcelas_sem_juros_cartao_normal  \\\n",
       "0                             13999.00                                  10.0   \n",
       "1                               893.68                                  10.0   \n",
       "2                              1999.00                                  10.0   \n",
       "3                              4999.00                                  10.0   \n",
       "4                             13999.00                                  10.0   \n",
       "\n",
       "   preco_prazo_com_juros_cartao_normal  qtd_parcelas_com_juros_cartao_normal  \\\n",
       "0                                  NaN                                   NaN   \n",
       "1                                  NaN                                   NaN   \n",
       "2                                  NaN                                   NaN   \n",
       "3                                  NaN                                   NaN   \n",
       "4                                  NaN                                   NaN   \n",
       "\n",
       "   taxa_juros_cartao_normal  preco_x1_cartao_proprio  \\\n",
       "0                       NaN                      NaN   \n",
       "1                       NaN                      NaN   \n",
       "2                       NaN                      NaN   \n",
       "3                       NaN                      NaN   \n",
       "4                       NaN                      NaN   \n",
       "\n",
       "   preco_prazo_sem_juros_cartao_proprio  \\\n",
       "0                                   NaN   \n",
       "1                                   NaN   \n",
       "2                                   NaN   \n",
       "3                                   NaN   \n",
       "4                                   NaN   \n",
       "\n",
       "   qtd_parcelas_sem_juros_cartao_proprio  \\\n",
       "0                                    NaN   \n",
       "1                                    NaN   \n",
       "2                                    NaN   \n",
       "3                                    NaN   \n",
       "4                                    NaN   \n",
       "\n",
       "   preco_prazo_com_juros_cartao_proprio  \\\n",
       "0                                   NaN   \n",
       "1                                   NaN   \n",
       "2                                   NaN   \n",
       "3                                   NaN   \n",
       "4                                   NaN   \n",
       "\n",
       "   qtd_parcelas_com_juros_cartao_proprio  taxa_juros_cartao_proprio  frete  \\\n",
       "0                                    NaN                        NaN    NaN   \n",
       "1                                    NaN                        NaN    NaN   \n",
       "2                                    NaN                        NaN    NaN   \n",
       "3                                    NaN                        NaN    NaN   \n",
       "4                                    NaN                        NaN    NaN   \n",
       "\n",
       "   cep estoque                                      url data_extracao  \n",
       "0  NaN    True  https://www.amazon.com.br/dp/B0CHXB4S3F           NaN  \n",
       "1  NaN    True  https://www.amazon.com.br/dp/B0BVMXPN7Q           NaN  \n",
       "2  NaN    True  https://www.amazon.com.br/dp/B0C55S8287           NaN  \n",
       "3  NaN    True  https://www.amazon.com.br/dp/B0945KCDZX           NaN  \n",
       "4  NaN    True  https://www.amazon.com.br/dp/B0CHXB4S3F           NaN  "
      ]
     },
     "execution_count": 5,
     "metadata": {},
     "output_type": "execute_result"
    }
   ],
   "source": [
    "df_consolidado = pd.concat(lista_df)\n",
    "df_consolidado.loc[df_consolidado['capacidade_armazenamento'].isnull(), 'capacidade_armazenamento'] = df_consolidado.loc[df_consolidado['capacidade_armazenamento'].isnull(), 'nome_produto'].astype(str).apply(extract_capacity)\n",
    "df_consolidado['capacidade_armazenamento'] = df_consolidado['capacidade_armazenamento'].astype(str).apply(extract_capacity)\n",
    "df_consolidado.head()"
   ]
  },
  {
   "cell_type": "code",
   "execution_count": 6,
   "id": "cd9b3a1a",
   "metadata": {},
   "outputs": [
    {
     "data": {
      "text/html": [
       "<div>\n",
       "<style scoped>\n",
       "    .dataframe tbody tr th:only-of-type {\n",
       "        vertical-align: middle;\n",
       "    }\n",
       "\n",
       "    .dataframe tbody tr th {\n",
       "        vertical-align: top;\n",
       "    }\n",
       "\n",
       "    .dataframe thead th {\n",
       "        text-align: right;\n",
       "    }\n",
       "</style>\n",
       "<table border=\"1\" class=\"dataframe\">\n",
       "  <thead>\n",
       "    <tr style=\"text-align: right;\">\n",
       "      <th></th>\n",
       "      <th>CATEGORIA</th>\n",
       "      <th>VERTICAL</th>\n",
       "      <th>SUBCATEGORIA_GERENCIAL</th>\n",
       "      <th>COD_SAP</th>\n",
       "      <th>ID_DPGC</th>\n",
       "      <th>NOME_COMERCIAL</th>\n",
       "      <th>Cor</th>\n",
       "      <th>capacidade_armazenamento</th>\n",
       "    </tr>\n",
       "  </thead>\n",
       "  <tbody>\n",
       "    <tr>\n",
       "      <th>0</th>\n",
       "      <td>ESSENCIAIS</td>\n",
       "      <td>OVVI E ESSENCIAIS</td>\n",
       "      <td>CABOS</td>\n",
       "      <td>22018331</td>\n",
       "      <td>APL06</td>\n",
       "      <td>Adaptador Lightning Apple 3,5mm</td>\n",
       "      <td>Branco</td>\n",
       "      <td>None</td>\n",
       "    </tr>\n",
       "    <tr>\n",
       "      <th>1</th>\n",
       "      <td>ESSENCIAIS</td>\n",
       "      <td>OVVI E ESSENCIAIS</td>\n",
       "      <td>CABOS</td>\n",
       "      <td>22019829</td>\n",
       "      <td>SAM472</td>\n",
       "      <td>Adaptador Usb-C Para Conector De Fones De Ouvi...</td>\n",
       "      <td>Preto</td>\n",
       "      <td>None</td>\n",
       "    </tr>\n",
       "    <tr>\n",
       "      <th>2</th>\n",
       "      <td>ESSENCIAIS</td>\n",
       "      <td>OVVI E ESSENCIAIS</td>\n",
       "      <td>CABOS</td>\n",
       "      <td>22020345</td>\n",
       "      <td>APP154</td>\n",
       "      <td>Cabo De Usb-C Para Lightning (1 M)</td>\n",
       "      <td>Branco</td>\n",
       "      <td>None</td>\n",
       "    </tr>\n",
       "    <tr>\n",
       "      <th>3</th>\n",
       "      <td>ESSENCIAIS</td>\n",
       "      <td>OVVI E ESSENCIAIS</td>\n",
       "      <td>CABOS</td>\n",
       "      <td>22020007</td>\n",
       "      <td>APL01</td>\n",
       "      <td>Cabo Lightning Apple 1m</td>\n",
       "      <td>Branco</td>\n",
       "      <td>None</td>\n",
       "    </tr>\n",
       "    <tr>\n",
       "      <th>4</th>\n",
       "      <td>ESSENCIAIS</td>\n",
       "      <td>OVVI E ESSENCIAIS</td>\n",
       "      <td>CABOS</td>\n",
       "      <td>22019883</td>\n",
       "      <td>SAM1</td>\n",
       "      <td>Cabo Usb Para Lightning 1,2m</td>\n",
       "      <td>Branco</td>\n",
       "      <td>None</td>\n",
       "    </tr>\n",
       "    <tr>\n",
       "      <th>...</th>\n",
       "      <td>...</td>\n",
       "      <td>...</td>\n",
       "      <td>...</td>\n",
       "      <td>...</td>\n",
       "      <td>...</td>\n",
       "      <td>...</td>\n",
       "      <td>...</td>\n",
       "      <td>...</td>\n",
       "    </tr>\n",
       "    <tr>\n",
       "      <th>792</th>\n",
       "      <td>SMARTPHONE</td>\n",
       "      <td>SMARTPHONE</td>\n",
       "      <td>SMARTPHONE</td>\n",
       "      <td>TGSA49062000</td>\n",
       "      <td>SAM580</td>\n",
       "      <td>Samsung Galaxy Z Fold 5 1tb</td>\n",
       "      <td>Preto</td>\n",
       "      <td>1TB</td>\n",
       "    </tr>\n",
       "    <tr>\n",
       "      <th>793</th>\n",
       "      <td>SMARTPHONE</td>\n",
       "      <td>SMARTPHONE</td>\n",
       "      <td>SMARTPHONE</td>\n",
       "      <td>TGSA48962000</td>\n",
       "      <td>SAM560</td>\n",
       "      <td>Samsung Galaxy Z Fold 5 512gb</td>\n",
       "      <td>Preto</td>\n",
       "      <td>512GB</td>\n",
       "    </tr>\n",
       "    <tr>\n",
       "      <th>794</th>\n",
       "      <td>SMARTPHONE</td>\n",
       "      <td>SMARTPHONE</td>\n",
       "      <td>SMARTPHONE</td>\n",
       "      <td>TGTL00662000</td>\n",
       "      <td>ALC156</td>\n",
       "      <td>Semp Tcl Go3c Plus</td>\n",
       "      <td>Preto</td>\n",
       "      <td>None</td>\n",
       "    </tr>\n",
       "    <tr>\n",
       "      <th>795</th>\n",
       "      <td>SMARTPHONE</td>\n",
       "      <td>SMARTPHONE</td>\n",
       "      <td>SMARTPHONE</td>\n",
       "      <td>TGTL00362000</td>\n",
       "      <td>ALC147</td>\n",
       "      <td>Semp Tcl Go5c</td>\n",
       "      <td>Preto</td>\n",
       "      <td>None</td>\n",
       "    </tr>\n",
       "    <tr>\n",
       "      <th>796</th>\n",
       "      <td>SMARTPHONE</td>\n",
       "      <td>SMARTPHONE</td>\n",
       "      <td>SMARTPHONE</td>\n",
       "      <td>TGTL00762000</td>\n",
       "      <td>ALC163</td>\n",
       "      <td>Tcl L5</td>\n",
       "      <td>Preto</td>\n",
       "      <td>None</td>\n",
       "    </tr>\n",
       "  </tbody>\n",
       "</table>\n",
       "<p>797 rows × 8 columns</p>\n",
       "</div>"
      ],
      "text/plain": [
       "      CATEGORIA           VERTICAL SUBCATEGORIA_GERENCIAL       COD_SAP  \\\n",
       "0    ESSENCIAIS  OVVI E ESSENCIAIS                  CABOS      22018331   \n",
       "1    ESSENCIAIS  OVVI E ESSENCIAIS                  CABOS      22019829   \n",
       "2    ESSENCIAIS  OVVI E ESSENCIAIS                  CABOS      22020345   \n",
       "3    ESSENCIAIS  OVVI E ESSENCIAIS                  CABOS      22020007   \n",
       "4    ESSENCIAIS  OVVI E ESSENCIAIS                  CABOS      22019883   \n",
       "..          ...                ...                    ...           ...   \n",
       "792  SMARTPHONE         SMARTPHONE             SMARTPHONE  TGSA49062000   \n",
       "793  SMARTPHONE         SMARTPHONE             SMARTPHONE  TGSA48962000   \n",
       "794  SMARTPHONE         SMARTPHONE             SMARTPHONE  TGTL00662000   \n",
       "795  SMARTPHONE         SMARTPHONE             SMARTPHONE  TGTL00362000   \n",
       "796  SMARTPHONE         SMARTPHONE             SMARTPHONE  TGTL00762000   \n",
       "\n",
       "    ID_DPGC                                     NOME_COMERCIAL     Cor  \\\n",
       "0     APL06                    Adaptador Lightning Apple 3,5mm  Branco   \n",
       "1    SAM472  Adaptador Usb-C Para Conector De Fones De Ouvi...   Preto   \n",
       "2    APP154                 Cabo De Usb-C Para Lightning (1 M)  Branco   \n",
       "3     APL01                            Cabo Lightning Apple 1m  Branco   \n",
       "4      SAM1                       Cabo Usb Para Lightning 1,2m  Branco   \n",
       "..      ...                                                ...     ...   \n",
       "792  SAM580                        Samsung Galaxy Z Fold 5 1tb   Preto   \n",
       "793  SAM560                      Samsung Galaxy Z Fold 5 512gb   Preto   \n",
       "794  ALC156                                 Semp Tcl Go3c Plus   Preto   \n",
       "795  ALC147                                      Semp Tcl Go5c   Preto   \n",
       "796  ALC163                                             Tcl L5   Preto   \n",
       "\n",
       "    capacidade_armazenamento  \n",
       "0                       None  \n",
       "1                       None  \n",
       "2                       None  \n",
       "3                       None  \n",
       "4                       None  \n",
       "..                       ...  \n",
       "792                      1TB  \n",
       "793                    512GB  \n",
       "794                     None  \n",
       "795                     None  \n",
       "796                     None  \n",
       "\n",
       "[797 rows x 8 columns]"
      ]
     },
     "execution_count": 6,
     "metadata": {},
     "output_type": "execute_result"
    }
   ],
   "source": [
    "df_devices_vivo = devices[['CATEGORIA', 'VERTICAL', 'SUBCATEGORIA_GERENCIAL', 'COD_SAP','ID_DPGC','NOME_COMERCIAL','Cor']].drop_duplicates().reset_index(drop=True)\n",
    "df_devices_vivo['capacidade_armazenamento'] = df_devices_vivo['NOME_COMERCIAL'].apply(extract_capacity)\n",
    "df_devices_vivo"
   ]
  },
  {
   "cell_type": "code",
   "execution_count": 29,
   "id": "9dd49f7a",
   "metadata": {},
   "outputs": [
    {
     "data": {
      "application/vnd.jupyter.widget-view+json": {
       "model_id": "b474aa12eb3e498b832b42cdf3494171",
       "version_major": 2,
       "version_minor": 0
      },
      "text/plain": [
       "  0%|          | 0/797 [00:00<?, ?it/s]"
      ]
     },
     "metadata": {},
     "output_type": "display_data"
    },
    {
     "data": {
      "application/vnd.jupyter.widget-view+json": {
       "model_id": "ba1e8bb5aba64beca0dce0848a5e0db0",
       "version_major": 2,
       "version_minor": 0
      },
      "text/plain": [
       "  0%|          | 0/4 [00:00<?, ?it/s]"
      ]
     },
     "metadata": {},
     "output_type": "display_data"
    },
    {
     "data": {
      "application/vnd.jupyter.widget-view+json": {
       "model_id": "dd5f20299617480baf4eb9d3d6d6a0a6",
       "version_major": 2,
       "version_minor": 0
      },
      "text/plain": [
       "  0%|          | 0/26 [00:00<?, ?it/s]"
      ]
     },
     "metadata": {},
     "output_type": "display_data"
    },
    {
     "data": {
      "application/vnd.jupyter.widget-view+json": {
       "model_id": "fc6b853c44484802974df33f51e8ebe5",
       "version_major": 2,
       "version_minor": 0
      },
      "text/plain": [
       "  0%|          | 0/77 [00:00<?, ?it/s]"
      ]
     },
     "metadata": {},
     "output_type": "display_data"
    },
    {
     "data": {
      "application/vnd.jupyter.widget-view+json": {
       "model_id": "cf75f015417448e3ae307037175d2768",
       "version_major": 2,
       "version_minor": 0
      },
      "text/plain": [
       "  0%|          | 0/27 [00:00<?, ?it/s]"
      ]
     },
     "metadata": {},
     "output_type": "display_data"
    },
    {
     "data": {
      "application/vnd.jupyter.widget-view+json": {
       "model_id": "707fc5ca61554d51a6f7fb43abb001fd",
       "version_major": 2,
       "version_minor": 0
      },
      "text/plain": [
       "  0%|          | 0/57 [00:00<?, ?it/s]"
      ]
     },
     "metadata": {},
     "output_type": "display_data"
    },
    {
     "data": {
      "application/vnd.jupyter.widget-view+json": {
       "model_id": "e55aec8810384a179f8a2d90170050d8",
       "version_major": 2,
       "version_minor": 0
      },
      "text/plain": [
       "  0%|          | 0/16 [00:00<?, ?it/s]"
      ]
     },
     "metadata": {},
     "output_type": "display_data"
    },
    {
     "data": {
      "application/vnd.jupyter.widget-view+json": {
       "model_id": "418bbe6d317a43a297bdc9b92ad858e3",
       "version_major": 2,
       "version_minor": 0
      },
      "text/plain": [
       "  0%|          | 0/20 [00:00<?, ?it/s]"
      ]
     },
     "metadata": {},
     "output_type": "display_data"
    },
    {
     "data": {
      "application/vnd.jupyter.widget-view+json": {
       "model_id": "079c606ff2aa4a6a96bb9db09ff43aaa",
       "version_major": 2,
       "version_minor": 0
      },
      "text/plain": [
       "  0%|          | 0/50 [00:00<?, ?it/s]"
      ]
     },
     "metadata": {},
     "output_type": "display_data"
    },
    {
     "data": {
      "application/vnd.jupyter.widget-view+json": {
       "model_id": "b2c1c96e69f64e7abc22648cc6c2a634",
       "version_major": 2,
       "version_minor": 0
      },
      "text/plain": [
       "  0%|          | 0/2 [00:00<?, ?it/s]"
      ]
     },
     "metadata": {},
     "output_type": "display_data"
    },
    {
     "data": {
      "application/vnd.jupyter.widget-view+json": {
       "model_id": "0b26757b37af4c14862dfd4ce2bd1c8c",
       "version_major": 2,
       "version_minor": 0
      },
      "text/plain": [
       "  0%|          | 0/46 [00:00<?, ?it/s]"
      ]
     },
     "metadata": {},
     "output_type": "display_data"
    },
    {
     "data": {
      "application/vnd.jupyter.widget-view+json": {
       "model_id": "c0b69424d9744197b58f13c1bbd575f5",
       "version_major": 2,
       "version_minor": 0
      },
      "text/plain": [
       "  0%|          | 0/25 [00:00<?, ?it/s]"
      ]
     },
     "metadata": {},
     "output_type": "display_data"
    },
    {
     "data": {
      "application/vnd.jupyter.widget-view+json": {
       "model_id": "d99279b7ffbc42dc8997158d2afea376",
       "version_major": 2,
       "version_minor": 0
      },
      "text/plain": [
       "  0%|          | 0/25 [00:00<?, ?it/s]"
      ]
     },
     "metadata": {},
     "output_type": "display_data"
    },
    {
     "data": {
      "application/vnd.jupyter.widget-view+json": {
       "model_id": "55d3939e60d74ea284ba4eea97810086",
       "version_major": 2,
       "version_minor": 0
      },
      "text/plain": [
       "  0%|          | 0/44 [00:00<?, ?it/s]"
      ]
     },
     "metadata": {},
     "output_type": "display_data"
    },
    {
     "data": {
      "application/vnd.jupyter.widget-view+json": {
       "model_id": "54a0487c74c043de994d0b4384b4a48c",
       "version_major": 2,
       "version_minor": 0
      },
      "text/plain": [
       "  0%|          | 0/4 [00:00<?, ?it/s]"
      ]
     },
     "metadata": {},
     "output_type": "display_data"
    },
    {
     "data": {
      "application/vnd.jupyter.widget-view+json": {
       "model_id": "37a2e1706b6a447dbceeea26474aadd5",
       "version_major": 2,
       "version_minor": 0
      },
      "text/plain": [
       "  0%|          | 0/9 [00:00<?, ?it/s]"
      ]
     },
     "metadata": {},
     "output_type": "display_data"
    },
    {
     "data": {
      "application/vnd.jupyter.widget-view+json": {
       "model_id": "7a9d381f200247d89146a509f0ac3697",
       "version_major": 2,
       "version_minor": 0
      },
      "text/plain": [
       "  0%|          | 0/152 [00:00<?, ?it/s]"
      ]
     },
     "metadata": {},
     "output_type": "display_data"
    },
    {
     "data": {
      "application/vnd.jupyter.widget-view+json": {
       "model_id": "17dff668e90b4e60834a2b5ae14ad5e7",
       "version_major": 2,
       "version_minor": 0
      },
      "text/plain": [
       "  0%|          | 0/192 [00:00<?, ?it/s]"
      ]
     },
     "metadata": {},
     "output_type": "display_data"
    },
    {
     "data": {
      "application/vnd.jupyter.widget-view+json": {
       "model_id": "b3acbb2e1c5741cda54f12a12cc2be41",
       "version_major": 2,
       "version_minor": 0
      },
      "text/plain": [
       "  0%|          | 0/147 [00:00<?, ?it/s]"
      ]
     },
     "metadata": {},
     "output_type": "display_data"
    },
    {
     "data": {
      "application/vnd.jupyter.widget-view+json": {
       "model_id": "a976e637c84740cb9f67b226b6f545e1",
       "version_major": 2,
       "version_minor": 0
      },
      "text/plain": [
       "  0%|          | 0/148 [00:00<?, ?it/s]"
      ]
     },
     "metadata": {},
     "output_type": "display_data"
    },
    {
     "data": {
      "application/vnd.jupyter.widget-view+json": {
       "model_id": "974ee1a949ed446b9cfac1be431771a2",
       "version_major": 2,
       "version_minor": 0
      },
      "text/plain": [
       "  0%|          | 0/163 [00:00<?, ?it/s]"
      ]
     },
     "metadata": {},
     "output_type": "display_data"
    },
    {
     "data": {
      "application/vnd.jupyter.widget-view+json": {
       "model_id": "241a39b810eb40348e9bfe724376ec5c",
       "version_major": 2,
       "version_minor": 0
      },
      "text/plain": [
       "  0%|          | 0/166 [00:00<?, ?it/s]"
      ]
     },
     "metadata": {},
     "output_type": "display_data"
    },
    {
     "data": {
      "application/vnd.jupyter.widget-view+json": {
       "model_id": "53e5168c56104cacb9923c2a013e04f9",
       "version_major": 2,
       "version_minor": 0
      },
      "text/plain": [
       "  0%|          | 0/167 [00:00<?, ?it/s]"
      ]
     },
     "metadata": {},
     "output_type": "display_data"
    },
    {
     "data": {
      "application/vnd.jupyter.widget-view+json": {
       "model_id": "a564a95356aa445b8553d81c67811be1",
       "version_major": 2,
       "version_minor": 0
      },
      "text/plain": [
       "  0%|          | 0/160 [00:00<?, ?it/s]"
      ]
     },
     "metadata": {},
     "output_type": "display_data"
    },
    {
     "data": {
      "application/vnd.jupyter.widget-view+json": {
       "model_id": "f6ce82b585ca451f9a111555f8e84482",
       "version_major": 2,
       "version_minor": 0
      },
      "text/plain": [
       "  0%|          | 0/164 [00:00<?, ?it/s]"
      ]
     },
     "metadata": {},
     "output_type": "display_data"
    },
    {
     "data": {
      "application/vnd.jupyter.widget-view+json": {
       "model_id": "91c2d60e1c12471692f126c7a3fc2a64",
       "version_major": 2,
       "version_minor": 0
      },
      "text/plain": [
       "  0%|          | 0/162 [00:00<?, ?it/s]"
      ]
     },
     "metadata": {},
     "output_type": "display_data"
    },
    {
     "data": {
      "application/vnd.jupyter.widget-view+json": {
       "model_id": "0ed7dab891064f18af2e422ae1417662",
       "version_major": 2,
       "version_minor": 0
      },
      "text/plain": [
       "  0%|          | 0/159 [00:00<?, ?it/s]"
      ]
     },
     "metadata": {},
     "output_type": "display_data"
    },
    {
     "data": {
      "application/vnd.jupyter.widget-view+json": {
       "model_id": "72f08352e3914e56ae0b5cb51b626a50",
       "version_major": 2,
       "version_minor": 0
      },
      "text/plain": [
       "  0%|          | 0/81 [00:00<?, ?it/s]"
      ]
     },
     "metadata": {},
     "output_type": "display_data"
    },
    {
     "data": {
      "application/vnd.jupyter.widget-view+json": {
       "model_id": "932e0769c2ef49e79c1473904737c44c",
       "version_major": 2,
       "version_minor": 0
      },
      "text/plain": [
       "  0%|          | 0/42 [00:00<?, ?it/s]"
      ]
     },
     "metadata": {},
     "output_type": "display_data"
    },
    {
     "data": {
      "application/vnd.jupyter.widget-view+json": {
       "model_id": "3725adc783aa4c20a2df3a2e028dadd3",
       "version_major": 2,
       "version_minor": 0
      },
      "text/plain": [
       "  0%|          | 0/143 [00:00<?, ?it/s]"
      ]
     },
     "metadata": {},
     "output_type": "display_data"
    },
    {
     "data": {
      "application/vnd.jupyter.widget-view+json": {
       "model_id": "a998a3f619364f9596c1e5dd13cae251",
       "version_major": 2,
       "version_minor": 0
      },
      "text/plain": [
       "  0%|          | 0/47 [00:00<?, ?it/s]"
      ]
     },
     "metadata": {},
     "output_type": "display_data"
    },
    {
     "data": {
      "application/vnd.jupyter.widget-view+json": {
       "model_id": "7866ee97686f49fab391381e67389377",
       "version_major": 2,
       "version_minor": 0
      },
      "text/plain": [
       "  0%|          | 0/240 [00:00<?, ?it/s]"
      ]
     },
     "metadata": {},
     "output_type": "display_data"
    },
    {
     "data": {
      "application/vnd.jupyter.widget-view+json": {
       "model_id": "6b2ca38beec247fbb4d7187f41a233c8",
       "version_major": 2,
       "version_minor": 0
      },
      "text/plain": [
       "  0%|          | 0/64 [00:00<?, ?it/s]"
      ]
     },
     "metadata": {},
     "output_type": "display_data"
    },
    {
     "data": {
      "application/vnd.jupyter.widget-view+json": {
       "model_id": "178862ee50b74df0a91155fbf39ebf30",
       "version_major": 2,
       "version_minor": 0
      },
      "text/plain": [
       "  0%|          | 0/64 [00:00<?, ?it/s]"
      ]
     },
     "metadata": {},
     "output_type": "display_data"
    },
    {
     "data": {
      "application/vnd.jupyter.widget-view+json": {
       "model_id": "e056da9a92434029b8988a8960b0f687",
       "version_major": 2,
       "version_minor": 0
      },
      "text/plain": [
       "  0%|          | 0/109 [00:00<?, ?it/s]"
      ]
     },
     "metadata": {},
     "output_type": "display_data"
    },
    {
     "data": {
      "application/vnd.jupyter.widget-view+json": {
       "model_id": "f43c50e76ce4417eb1e68b1888555a42",
       "version_major": 2,
       "version_minor": 0
      },
      "text/plain": [
       "  0%|          | 0/81 [00:00<?, ?it/s]"
      ]
     },
     "metadata": {},
     "output_type": "display_data"
    },
    {
     "data": {
      "application/vnd.jupyter.widget-view+json": {
       "model_id": "1b63563329154cca9fb65ac085bc4816",
       "version_major": 2,
       "version_minor": 0
      },
      "text/plain": [
       "  0%|          | 0/55 [00:00<?, ?it/s]"
      ]
     },
     "metadata": {},
     "output_type": "display_data"
    },
    {
     "data": {
      "application/vnd.jupyter.widget-view+json": {
       "model_id": "d307b297de06456d8edf5d0bbd0c8c8c",
       "version_major": 2,
       "version_minor": 0
      },
      "text/plain": [
       "  0%|          | 0/55 [00:00<?, ?it/s]"
      ]
     },
     "metadata": {},
     "output_type": "display_data"
    },
    {
     "data": {
      "application/vnd.jupyter.widget-view+json": {
       "model_id": "317cc7133988461aa67a61ba7da210eb",
       "version_major": 2,
       "version_minor": 0
      },
      "text/plain": [
       "  0%|          | 0/63 [00:00<?, ?it/s]"
      ]
     },
     "metadata": {},
     "output_type": "display_data"
    },
    {
     "data": {
      "application/vnd.jupyter.widget-view+json": {
       "model_id": "ac5a59aa4236432fad9a6ede837adbc5",
       "version_major": 2,
       "version_minor": 0
      },
      "text/plain": [
       "  0%|          | 0/63 [00:00<?, ?it/s]"
      ]
     },
     "metadata": {},
     "output_type": "display_data"
    },
    {
     "ename": "KeyboardInterrupt",
     "evalue": "",
     "output_type": "error",
     "traceback": [
      "\u001B[1;31m---------------------------------------------------------------------------\u001B[0m",
      "\u001B[1;31mKeyboardInterrupt\u001B[0m                         Traceback (most recent call last)",
      "Cell \u001B[1;32mIn[29], line 27\u001B[0m\n\u001B[0;32m     24\u001B[0m df_consolidado[\u001B[38;5;124m'\u001B[39m\u001B[38;5;124mmean_overlap_lexical_similarity\u001B[39m\u001B[38;5;124m'\u001B[39m] \u001B[38;5;241m=\u001B[39m df_consolidado[[\u001B[38;5;124m'\u001B[39m\u001B[38;5;124mname_similarity_overlap\u001B[39m\u001B[38;5;124m'\u001B[39m, \u001B[38;5;124m'\u001B[39m\u001B[38;5;124mname_similarity_lexical\u001B[39m\u001B[38;5;124m'\u001B[39m]]\u001B[38;5;241m.\u001B[39mmean(axis\u001B[38;5;241m=\u001B[39m\u001B[38;5;241m1\u001B[39m)\n\u001B[0;32m     26\u001B[0m df_consolidado_filtrado \u001B[38;5;241m=\u001B[39m df_consolidado[df_consolidado[\u001B[38;5;124m'\u001B[39m\u001B[38;5;124mmean_overlap_lexical_similarity\u001B[39m\u001B[38;5;124m'\u001B[39m] \u001B[38;5;241m>\u001B[39m \u001B[38;5;241m0.35\u001B[39m]\u001B[38;5;241m.\u001B[39mreset_index(drop\u001B[38;5;241m=\u001B[39m\u001B[38;5;28;01mTrue\u001B[39;00m)\u001B[38;5;241m.\u001B[39mcopy()\n\u001B[1;32m---> 27\u001B[0m df_consolidado_filtrado[\u001B[38;5;124m'\u001B[39m\u001B[38;5;124msimilarity\u001B[39m\u001B[38;5;124m'\u001B[39m] \u001B[38;5;241m=\u001B[39m \u001B[43mdf_consolidado_filtrado\u001B[49m\u001B[43m[\u001B[49m\u001B[38;5;124;43m'\u001B[39;49m\u001B[38;5;124;43mnome_produto\u001B[39;49m\u001B[38;5;124;43m'\u001B[39;49m\u001B[43m]\u001B[49m\u001B[38;5;241;43m.\u001B[39;49m\u001B[43mastype\u001B[49m\u001B[43m(\u001B[49m\u001B[38;5;28;43mstr\u001B[39;49m\u001B[43m)\u001B[49m\u001B[38;5;241;43m.\u001B[39;49m\u001B[43mprogress_apply\u001B[49m\u001B[43m(\u001B[49m\u001B[38;5;28;43;01mlambda\u001B[39;49;00m\u001B[43m \u001B[49m\u001B[43mx\u001B[49m\u001B[43m:\u001B[49m\u001B[43m \u001B[49m\u001B[43mcombined_similarity\u001B[49m\u001B[43m(\u001B[49m\u001B[43mx\u001B[49m\u001B[43m,\u001B[49m\u001B[43m \u001B[49m\u001B[43mnome_comercial\u001B[49m\u001B[43m,\u001B[49m\u001B[43m \u001B[49m\u001B[38;5;241;43m0.7\u001B[39;49m\u001B[43m,\u001B[49m\u001B[43m \u001B[49m\u001B[38;5;241;43m0.3\u001B[39;49m\u001B[43m)\u001B[49m\u001B[43m)\u001B[49m\n\u001B[0;32m     29\u001B[0m df_consolidado_filtrado \u001B[38;5;241m=\u001B[39m df_consolidado_filtrado[df_consolidado_filtrado[\u001B[38;5;124m'\u001B[39m\u001B[38;5;124msimilarity\u001B[39m\u001B[38;5;124m'\u001B[39m] \u001B[38;5;241m>\u001B[39m \u001B[38;5;241m0.6\u001B[39m]\u001B[38;5;241m.\u001B[39mreset_index(drop\u001B[38;5;241m=\u001B[39m\u001B[38;5;28;01mTrue\u001B[39;00m)\n\u001B[0;32m     30\u001B[0m df_consolidado_filtrado[\u001B[38;5;124m'\u001B[39m\u001B[38;5;124mCATEGORIA\u001B[39m\u001B[38;5;124m'\u001B[39m] \u001B[38;5;241m=\u001B[39m categoria\n",
      "File \u001B[1;32mc:\\Users\\MattioliMichael(Bip)\\AppData\\Local\\Programs\\Python\\Python311\\Lib\\site-packages\\tqdm\\std.py:920\u001B[0m, in \u001B[0;36mtqdm.pandas.<locals>.inner_generator.<locals>.inner\u001B[1;34m(df, func, *args, **kwargs)\u001B[0m\n\u001B[0;32m    917\u001B[0m \u001B[38;5;66;03m# Apply the provided function (in **kwargs)\u001B[39;00m\n\u001B[0;32m    918\u001B[0m \u001B[38;5;66;03m# on the df using our wrapper (which provides bar updating)\u001B[39;00m\n\u001B[0;32m    919\u001B[0m \u001B[38;5;28;01mtry\u001B[39;00m:\n\u001B[1;32m--> 920\u001B[0m     \u001B[38;5;28;01mreturn\u001B[39;00m \u001B[38;5;28;43mgetattr\u001B[39;49m\u001B[43m(\u001B[49m\u001B[43mdf\u001B[49m\u001B[43m,\u001B[49m\u001B[43m \u001B[49m\u001B[43mdf_function\u001B[49m\u001B[43m)\u001B[49m\u001B[43m(\u001B[49m\u001B[43mwrapper\u001B[49m\u001B[43m,\u001B[49m\u001B[43m \u001B[49m\u001B[38;5;241;43m*\u001B[39;49m\u001B[38;5;241;43m*\u001B[39;49m\u001B[43mkwargs\u001B[49m\u001B[43m)\u001B[49m\n\u001B[0;32m    921\u001B[0m \u001B[38;5;28;01mfinally\u001B[39;00m:\n\u001B[0;32m    922\u001B[0m     t\u001B[38;5;241m.\u001B[39mclose()\n",
      "File \u001B[1;32mc:\\Users\\MattioliMichael(Bip)\\AppData\\Local\\Programs\\Python\\Python311\\Lib\\site-packages\\pandas\\core\\series.py:4630\u001B[0m, in \u001B[0;36mSeries.apply\u001B[1;34m(self, func, convert_dtype, args, **kwargs)\u001B[0m\n\u001B[0;32m   4520\u001B[0m \u001B[38;5;28;01mdef\u001B[39;00m \u001B[38;5;21mapply\u001B[39m(\n\u001B[0;32m   4521\u001B[0m     \u001B[38;5;28mself\u001B[39m,\n\u001B[0;32m   4522\u001B[0m     func: AggFuncType,\n\u001B[1;32m   (...)\u001B[0m\n\u001B[0;32m   4525\u001B[0m     \u001B[38;5;241m*\u001B[39m\u001B[38;5;241m*\u001B[39mkwargs,\n\u001B[0;32m   4526\u001B[0m ) \u001B[38;5;241m-\u001B[39m\u001B[38;5;241m>\u001B[39m DataFrame \u001B[38;5;241m|\u001B[39m Series:\n\u001B[0;32m   4527\u001B[0m \u001B[38;5;250m    \u001B[39m\u001B[38;5;124;03m\"\"\"\u001B[39;00m\n\u001B[0;32m   4528\u001B[0m \u001B[38;5;124;03m    Invoke function on values of Series.\u001B[39;00m\n\u001B[0;32m   4529\u001B[0m \n\u001B[1;32m   (...)\u001B[0m\n\u001B[0;32m   4628\u001B[0m \u001B[38;5;124;03m    dtype: float64\u001B[39;00m\n\u001B[0;32m   4629\u001B[0m \u001B[38;5;124;03m    \"\"\"\u001B[39;00m\n\u001B[1;32m-> 4630\u001B[0m     \u001B[38;5;28;01mreturn\u001B[39;00m \u001B[43mSeriesApply\u001B[49m\u001B[43m(\u001B[49m\u001B[38;5;28;43mself\u001B[39;49m\u001B[43m,\u001B[49m\u001B[43m \u001B[49m\u001B[43mfunc\u001B[49m\u001B[43m,\u001B[49m\u001B[43m \u001B[49m\u001B[43mconvert_dtype\u001B[49m\u001B[43m,\u001B[49m\u001B[43m \u001B[49m\u001B[43margs\u001B[49m\u001B[43m,\u001B[49m\u001B[43m \u001B[49m\u001B[43mkwargs\u001B[49m\u001B[43m)\u001B[49m\u001B[38;5;241;43m.\u001B[39;49m\u001B[43mapply\u001B[49m\u001B[43m(\u001B[49m\u001B[43m)\u001B[49m\n",
      "File \u001B[1;32mc:\\Users\\MattioliMichael(Bip)\\AppData\\Local\\Programs\\Python\\Python311\\Lib\\site-packages\\pandas\\core\\apply.py:1025\u001B[0m, in \u001B[0;36mSeriesApply.apply\u001B[1;34m(self)\u001B[0m\n\u001B[0;32m   1022\u001B[0m     \u001B[38;5;28;01mreturn\u001B[39;00m \u001B[38;5;28mself\u001B[39m\u001B[38;5;241m.\u001B[39mapply_str()\n\u001B[0;32m   1024\u001B[0m \u001B[38;5;66;03m# self.f is Callable\u001B[39;00m\n\u001B[1;32m-> 1025\u001B[0m \u001B[38;5;28;01mreturn\u001B[39;00m \u001B[38;5;28;43mself\u001B[39;49m\u001B[38;5;241;43m.\u001B[39;49m\u001B[43mapply_standard\u001B[49m\u001B[43m(\u001B[49m\u001B[43m)\u001B[49m\n",
      "File \u001B[1;32mc:\\Users\\MattioliMichael(Bip)\\AppData\\Local\\Programs\\Python\\Python311\\Lib\\site-packages\\pandas\\core\\apply.py:1076\u001B[0m, in \u001B[0;36mSeriesApply.apply_standard\u001B[1;34m(self)\u001B[0m\n\u001B[0;32m   1074\u001B[0m     \u001B[38;5;28;01melse\u001B[39;00m:\n\u001B[0;32m   1075\u001B[0m         values \u001B[38;5;241m=\u001B[39m obj\u001B[38;5;241m.\u001B[39mastype(\u001B[38;5;28mobject\u001B[39m)\u001B[38;5;241m.\u001B[39m_values\n\u001B[1;32m-> 1076\u001B[0m         mapped \u001B[38;5;241m=\u001B[39m \u001B[43mlib\u001B[49m\u001B[38;5;241;43m.\u001B[39;49m\u001B[43mmap_infer\u001B[49m\u001B[43m(\u001B[49m\n\u001B[0;32m   1077\u001B[0m \u001B[43m            \u001B[49m\u001B[43mvalues\u001B[49m\u001B[43m,\u001B[49m\n\u001B[0;32m   1078\u001B[0m \u001B[43m            \u001B[49m\u001B[43mf\u001B[49m\u001B[43m,\u001B[49m\n\u001B[0;32m   1079\u001B[0m \u001B[43m            \u001B[49m\u001B[43mconvert\u001B[49m\u001B[38;5;241;43m=\u001B[39;49m\u001B[38;5;28;43mself\u001B[39;49m\u001B[38;5;241;43m.\u001B[39;49m\u001B[43mconvert_dtype\u001B[49m\u001B[43m,\u001B[49m\n\u001B[0;32m   1080\u001B[0m \u001B[43m        \u001B[49m\u001B[43m)\u001B[49m\n\u001B[0;32m   1082\u001B[0m \u001B[38;5;28;01mif\u001B[39;00m \u001B[38;5;28mlen\u001B[39m(mapped) \u001B[38;5;129;01mand\u001B[39;00m \u001B[38;5;28misinstance\u001B[39m(mapped[\u001B[38;5;241m0\u001B[39m], ABCSeries):\n\u001B[0;32m   1083\u001B[0m     \u001B[38;5;66;03m# GH#43986 Need to do list(mapped) in order to get treated as nested\u001B[39;00m\n\u001B[0;32m   1084\u001B[0m     \u001B[38;5;66;03m#  See also GH#25959 regarding EA support\u001B[39;00m\n\u001B[0;32m   1085\u001B[0m     \u001B[38;5;28;01mreturn\u001B[39;00m obj\u001B[38;5;241m.\u001B[39m_constructor_expanddim(\u001B[38;5;28mlist\u001B[39m(mapped), index\u001B[38;5;241m=\u001B[39mobj\u001B[38;5;241m.\u001B[39mindex)\n",
      "File \u001B[1;32mc:\\Users\\MattioliMichael(Bip)\\AppData\\Local\\Programs\\Python\\Python311\\Lib\\site-packages\\pandas\\_libs\\lib.pyx:2834\u001B[0m, in \u001B[0;36mpandas._libs.lib.map_infer\u001B[1;34m()\u001B[0m\n",
      "File \u001B[1;32mc:\\Users\\MattioliMichael(Bip)\\AppData\\Local\\Programs\\Python\\Python311\\Lib\\site-packages\\tqdm\\std.py:915\u001B[0m, in \u001B[0;36mtqdm.pandas.<locals>.inner_generator.<locals>.inner.<locals>.wrapper\u001B[1;34m(*args, **kwargs)\u001B[0m\n\u001B[0;32m    909\u001B[0m \u001B[38;5;28;01mdef\u001B[39;00m \u001B[38;5;21mwrapper\u001B[39m(\u001B[38;5;241m*\u001B[39margs, \u001B[38;5;241m*\u001B[39m\u001B[38;5;241m*\u001B[39mkwargs):\n\u001B[0;32m    910\u001B[0m     \u001B[38;5;66;03m# update tbar correctly\u001B[39;00m\n\u001B[0;32m    911\u001B[0m     \u001B[38;5;66;03m# it seems `pandas apply` calls `func` twice\u001B[39;00m\n\u001B[0;32m    912\u001B[0m     \u001B[38;5;66;03m# on the first column/row to decide whether it can\u001B[39;00m\n\u001B[0;32m    913\u001B[0m     \u001B[38;5;66;03m# take a fast or slow code path; so stop when t.total==t.n\u001B[39;00m\n\u001B[0;32m    914\u001B[0m     t\u001B[38;5;241m.\u001B[39mupdate(n\u001B[38;5;241m=\u001B[39m\u001B[38;5;241m1\u001B[39m \u001B[38;5;28;01mif\u001B[39;00m \u001B[38;5;129;01mnot\u001B[39;00m t\u001B[38;5;241m.\u001B[39mtotal \u001B[38;5;129;01mor\u001B[39;00m t\u001B[38;5;241m.\u001B[39mn \u001B[38;5;241m<\u001B[39m t\u001B[38;5;241m.\u001B[39mtotal \u001B[38;5;28;01melse\u001B[39;00m \u001B[38;5;241m0\u001B[39m)\n\u001B[1;32m--> 915\u001B[0m     \u001B[38;5;28;01mreturn\u001B[39;00m \u001B[43mfunc\u001B[49m\u001B[43m(\u001B[49m\u001B[38;5;241;43m*\u001B[39;49m\u001B[43margs\u001B[49m\u001B[43m,\u001B[49m\u001B[43m \u001B[49m\u001B[38;5;241;43m*\u001B[39;49m\u001B[38;5;241;43m*\u001B[39;49m\u001B[43mkwargs\u001B[49m\u001B[43m)\u001B[49m\n",
      "Cell \u001B[1;32mIn[29], line 27\u001B[0m, in \u001B[0;36m<lambda>\u001B[1;34m(x)\u001B[0m\n\u001B[0;32m     24\u001B[0m df_consolidado[\u001B[38;5;124m'\u001B[39m\u001B[38;5;124mmean_overlap_lexical_similarity\u001B[39m\u001B[38;5;124m'\u001B[39m] \u001B[38;5;241m=\u001B[39m df_consolidado[[\u001B[38;5;124m'\u001B[39m\u001B[38;5;124mname_similarity_overlap\u001B[39m\u001B[38;5;124m'\u001B[39m, \u001B[38;5;124m'\u001B[39m\u001B[38;5;124mname_similarity_lexical\u001B[39m\u001B[38;5;124m'\u001B[39m]]\u001B[38;5;241m.\u001B[39mmean(axis\u001B[38;5;241m=\u001B[39m\u001B[38;5;241m1\u001B[39m)\n\u001B[0;32m     26\u001B[0m df_consolidado_filtrado \u001B[38;5;241m=\u001B[39m df_consolidado[df_consolidado[\u001B[38;5;124m'\u001B[39m\u001B[38;5;124mmean_overlap_lexical_similarity\u001B[39m\u001B[38;5;124m'\u001B[39m] \u001B[38;5;241m>\u001B[39m \u001B[38;5;241m0.35\u001B[39m]\u001B[38;5;241m.\u001B[39mreset_index(drop\u001B[38;5;241m=\u001B[39m\u001B[38;5;28;01mTrue\u001B[39;00m)\u001B[38;5;241m.\u001B[39mcopy()\n\u001B[1;32m---> 27\u001B[0m df_consolidado_filtrado[\u001B[38;5;124m'\u001B[39m\u001B[38;5;124msimilarity\u001B[39m\u001B[38;5;124m'\u001B[39m] \u001B[38;5;241m=\u001B[39m df_consolidado_filtrado[\u001B[38;5;124m'\u001B[39m\u001B[38;5;124mnome_produto\u001B[39m\u001B[38;5;124m'\u001B[39m]\u001B[38;5;241m.\u001B[39mastype(\u001B[38;5;28mstr\u001B[39m)\u001B[38;5;241m.\u001B[39mprogress_apply(\u001B[38;5;28;01mlambda\u001B[39;00m x: \u001B[43mcombined_similarity\u001B[49m\u001B[43m(\u001B[49m\u001B[43mx\u001B[49m\u001B[43m,\u001B[49m\u001B[43m \u001B[49m\u001B[43mnome_comercial\u001B[49m\u001B[43m,\u001B[49m\u001B[43m \u001B[49m\u001B[38;5;241;43m0.7\u001B[39;49m\u001B[43m,\u001B[49m\u001B[43m \u001B[49m\u001B[38;5;241;43m0.3\u001B[39;49m\u001B[43m)\u001B[49m)\n\u001B[0;32m     29\u001B[0m df_consolidado_filtrado \u001B[38;5;241m=\u001B[39m df_consolidado_filtrado[df_consolidado_filtrado[\u001B[38;5;124m'\u001B[39m\u001B[38;5;124msimilarity\u001B[39m\u001B[38;5;124m'\u001B[39m] \u001B[38;5;241m>\u001B[39m \u001B[38;5;241m0.6\u001B[39m]\u001B[38;5;241m.\u001B[39mreset_index(drop\u001B[38;5;241m=\u001B[39m\u001B[38;5;28;01mTrue\u001B[39;00m)\n\u001B[0;32m     30\u001B[0m df_consolidado_filtrado[\u001B[38;5;124m'\u001B[39m\u001B[38;5;124mCATEGORIA\u001B[39m\u001B[38;5;124m'\u001B[39m] \u001B[38;5;241m=\u001B[39m categoria\n",
      "File \u001B[1;32mc:\\Projetos\\pricing_vivo\\src\\modules\\verify_names.py:69\u001B[0m, in \u001B[0;36mcombined_similarity\u001B[1;34m(text1, text2, semantic_weight, lexical_weight)\u001B[0m\n\u001B[0;32m     64\u001B[0m \u001B[38;5;28;01mdef\u001B[39;00m \u001B[38;5;21mcombined_similarity\u001B[39m(text1: \u001B[38;5;28mstr\u001B[39m, text2: \u001B[38;5;28mstr\u001B[39m, semantic_weight: \u001B[38;5;28mfloat\u001B[39m \u001B[38;5;241m=\u001B[39m \u001B[38;5;241m0.33\u001B[39m, lexical_weight: \u001B[38;5;28mfloat\u001B[39m \u001B[38;5;241m=\u001B[39m \u001B[38;5;241m0.33\u001B[39m) \u001B[38;5;241m-\u001B[39m\u001B[38;5;241m>\u001B[39m \u001B[38;5;28mfloat\u001B[39m:\n\u001B[0;32m     65\u001B[0m \u001B[38;5;250m    \u001B[39m\u001B[38;5;124;03m\"\"\"\u001B[39;00m\n\u001B[0;32m     66\u001B[0m \u001B[38;5;124;03m    Calculate a combined similarity score based on semantic, lexical, and word overlap analysis.\u001B[39;00m\n\u001B[0;32m     67\u001B[0m \u001B[38;5;124;03m    :return: Percentage from 0.0 to 1.0\u001B[39;00m\n\u001B[0;32m     68\u001B[0m \u001B[38;5;124;03m    \"\"\"\u001B[39;00m\n\u001B[1;32m---> 69\u001B[0m     sem_similarity \u001B[38;5;241m=\u001B[39m \u001B[43mcalculate_similarity\u001B[49m\u001B[43m(\u001B[49m\u001B[43mtext1\u001B[49m\u001B[43m,\u001B[49m\u001B[43m \u001B[49m\u001B[43mtext2\u001B[49m\u001B[43m)\u001B[49m\n\u001B[0;32m     70\u001B[0m     lex_similarity \u001B[38;5;241m=\u001B[39m lexical_similarity(text1, text2)\n\u001B[0;32m     71\u001B[0m     overlap_similarity \u001B[38;5;241m=\u001B[39m word_overlap_similarity(text1, text2)\n",
      "File \u001B[1;32mc:\\Projetos\\pricing_vivo\\src\\modules\\verify_names.py:34\u001B[0m, in \u001B[0;36mcalculate_similarity\u001B[1;34m(text1, text2)\u001B[0m\n\u001B[0;32m     30\u001B[0m \u001B[38;5;28;01mdef\u001B[39;00m \u001B[38;5;21mcalculate_similarity\u001B[39m(text1: \u001B[38;5;28mstr\u001B[39m, text2: \u001B[38;5;28mstr\u001B[39m) \u001B[38;5;241m-\u001B[39m\u001B[38;5;241m>\u001B[39m \u001B[38;5;28mfloat\u001B[39m:\n\u001B[0;32m     31\u001B[0m \u001B[38;5;250m    \u001B[39m\u001B[38;5;124;03m\"\"\"\u001B[39;00m\n\u001B[0;32m     32\u001B[0m \u001B[38;5;124;03m    Calculate cosine similarity between the embeddings of two texts.\u001B[39;00m\n\u001B[0;32m     33\u001B[0m \u001B[38;5;124;03m    \"\"\"\u001B[39;00m\n\u001B[1;32m---> 34\u001B[0m     embedding1 \u001B[38;5;241m=\u001B[39m \u001B[43mget_embedding\u001B[49m\u001B[43m(\u001B[49m\u001B[43mtext1\u001B[49m\u001B[43m)\u001B[49m\n\u001B[0;32m     35\u001B[0m     embedding2 \u001B[38;5;241m=\u001B[39m get_embedding(text2)\n\u001B[0;32m     36\u001B[0m     embedding1 \u001B[38;5;241m=\u001B[39m embedding1\u001B[38;5;241m.\u001B[39msqueeze()\n",
      "File \u001B[1;32mc:\\Projetos\\pricing_vivo\\src\\modules\\verify_names.py:25\u001B[0m, in \u001B[0;36mget_embedding\u001B[1;34m(text)\u001B[0m\n\u001B[0;32m     23\u001B[0m text \u001B[38;5;241m=\u001B[39m normalize_text(text)  \u001B[38;5;66;03m# Normalize o texto antes de obter o embedding\u001B[39;00m\n\u001B[0;32m     24\u001B[0m inputs \u001B[38;5;241m=\u001B[39m tokenizer(text, return_tensors\u001B[38;5;241m=\u001B[39m\u001B[38;5;124m'\u001B[39m\u001B[38;5;124mpt\u001B[39m\u001B[38;5;124m'\u001B[39m, padding\u001B[38;5;241m=\u001B[39m\u001B[38;5;28;01mTrue\u001B[39;00m, truncation\u001B[38;5;241m=\u001B[39m\u001B[38;5;28;01mTrue\u001B[39;00m, max_length\u001B[38;5;241m=\u001B[39m\u001B[38;5;241m512\u001B[39m)\n\u001B[1;32m---> 25\u001B[0m outputs \u001B[38;5;241m=\u001B[39m \u001B[43mmodel\u001B[49m\u001B[43m(\u001B[49m\u001B[38;5;241;43m*\u001B[39;49m\u001B[38;5;241;43m*\u001B[39;49m\u001B[43minputs\u001B[49m\u001B[43m)\u001B[49m\n\u001B[0;32m     26\u001B[0m \u001B[38;5;66;03m# Use a pooling strategy (mean pooling here) for sentence-level representations\u001B[39;00m\n\u001B[0;32m     27\u001B[0m \u001B[38;5;28;01mreturn\u001B[39;00m outputs\u001B[38;5;241m.\u001B[39mlast_hidden_state\u001B[38;5;241m.\u001B[39mmean(dim\u001B[38;5;241m=\u001B[39m\u001B[38;5;241m1\u001B[39m)\n",
      "File \u001B[1;32mc:\\Users\\MattioliMichael(Bip)\\AppData\\Local\\Programs\\Python\\Python311\\Lib\\site-packages\\torch\\nn\\modules\\module.py:1518\u001B[0m, in \u001B[0;36mModule._wrapped_call_impl\u001B[1;34m(self, *args, **kwargs)\u001B[0m\n\u001B[0;32m   1516\u001B[0m     \u001B[38;5;28;01mreturn\u001B[39;00m \u001B[38;5;28mself\u001B[39m\u001B[38;5;241m.\u001B[39m_compiled_call_impl(\u001B[38;5;241m*\u001B[39margs, \u001B[38;5;241m*\u001B[39m\u001B[38;5;241m*\u001B[39mkwargs)  \u001B[38;5;66;03m# type: ignore[misc]\u001B[39;00m\n\u001B[0;32m   1517\u001B[0m \u001B[38;5;28;01melse\u001B[39;00m:\n\u001B[1;32m-> 1518\u001B[0m     \u001B[38;5;28;01mreturn\u001B[39;00m \u001B[38;5;28;43mself\u001B[39;49m\u001B[38;5;241;43m.\u001B[39;49m\u001B[43m_call_impl\u001B[49m\u001B[43m(\u001B[49m\u001B[38;5;241;43m*\u001B[39;49m\u001B[43margs\u001B[49m\u001B[43m,\u001B[49m\u001B[43m \u001B[49m\u001B[38;5;241;43m*\u001B[39;49m\u001B[38;5;241;43m*\u001B[39;49m\u001B[43mkwargs\u001B[49m\u001B[43m)\u001B[49m\n",
      "File \u001B[1;32mc:\\Users\\MattioliMichael(Bip)\\AppData\\Local\\Programs\\Python\\Python311\\Lib\\site-packages\\torch\\nn\\modules\\module.py:1527\u001B[0m, in \u001B[0;36mModule._call_impl\u001B[1;34m(self, *args, **kwargs)\u001B[0m\n\u001B[0;32m   1522\u001B[0m \u001B[38;5;66;03m# If we don't have any hooks, we want to skip the rest of the logic in\u001B[39;00m\n\u001B[0;32m   1523\u001B[0m \u001B[38;5;66;03m# this function, and just call forward.\u001B[39;00m\n\u001B[0;32m   1524\u001B[0m \u001B[38;5;28;01mif\u001B[39;00m \u001B[38;5;129;01mnot\u001B[39;00m (\u001B[38;5;28mself\u001B[39m\u001B[38;5;241m.\u001B[39m_backward_hooks \u001B[38;5;129;01mor\u001B[39;00m \u001B[38;5;28mself\u001B[39m\u001B[38;5;241m.\u001B[39m_backward_pre_hooks \u001B[38;5;129;01mor\u001B[39;00m \u001B[38;5;28mself\u001B[39m\u001B[38;5;241m.\u001B[39m_forward_hooks \u001B[38;5;129;01mor\u001B[39;00m \u001B[38;5;28mself\u001B[39m\u001B[38;5;241m.\u001B[39m_forward_pre_hooks\n\u001B[0;32m   1525\u001B[0m         \u001B[38;5;129;01mor\u001B[39;00m _global_backward_pre_hooks \u001B[38;5;129;01mor\u001B[39;00m _global_backward_hooks\n\u001B[0;32m   1526\u001B[0m         \u001B[38;5;129;01mor\u001B[39;00m _global_forward_hooks \u001B[38;5;129;01mor\u001B[39;00m _global_forward_pre_hooks):\n\u001B[1;32m-> 1527\u001B[0m     \u001B[38;5;28;01mreturn\u001B[39;00m \u001B[43mforward_call\u001B[49m\u001B[43m(\u001B[49m\u001B[38;5;241;43m*\u001B[39;49m\u001B[43margs\u001B[49m\u001B[43m,\u001B[49m\u001B[43m \u001B[49m\u001B[38;5;241;43m*\u001B[39;49m\u001B[38;5;241;43m*\u001B[39;49m\u001B[43mkwargs\u001B[49m\u001B[43m)\u001B[49m\n\u001B[0;32m   1529\u001B[0m \u001B[38;5;28;01mtry\u001B[39;00m:\n\u001B[0;32m   1530\u001B[0m     result \u001B[38;5;241m=\u001B[39m \u001B[38;5;28;01mNone\u001B[39;00m\n",
      "File \u001B[1;32mc:\\Users\\MattioliMichael(Bip)\\AppData\\Local\\Programs\\Python\\Python311\\Lib\\site-packages\\transformers\\models\\bert\\modeling_bert.py:1013\u001B[0m, in \u001B[0;36mBertModel.forward\u001B[1;34m(self, input_ids, attention_mask, token_type_ids, position_ids, head_mask, inputs_embeds, encoder_hidden_states, encoder_attention_mask, past_key_values, use_cache, output_attentions, output_hidden_states, return_dict)\u001B[0m\n\u001B[0;32m   1004\u001B[0m head_mask \u001B[38;5;241m=\u001B[39m \u001B[38;5;28mself\u001B[39m\u001B[38;5;241m.\u001B[39mget_head_mask(head_mask, \u001B[38;5;28mself\u001B[39m\u001B[38;5;241m.\u001B[39mconfig\u001B[38;5;241m.\u001B[39mnum_hidden_layers)\n\u001B[0;32m   1006\u001B[0m embedding_output \u001B[38;5;241m=\u001B[39m \u001B[38;5;28mself\u001B[39m\u001B[38;5;241m.\u001B[39membeddings(\n\u001B[0;32m   1007\u001B[0m     input_ids\u001B[38;5;241m=\u001B[39minput_ids,\n\u001B[0;32m   1008\u001B[0m     position_ids\u001B[38;5;241m=\u001B[39mposition_ids,\n\u001B[1;32m   (...)\u001B[0m\n\u001B[0;32m   1011\u001B[0m     past_key_values_length\u001B[38;5;241m=\u001B[39mpast_key_values_length,\n\u001B[0;32m   1012\u001B[0m )\n\u001B[1;32m-> 1013\u001B[0m encoder_outputs \u001B[38;5;241m=\u001B[39m \u001B[38;5;28;43mself\u001B[39;49m\u001B[38;5;241;43m.\u001B[39;49m\u001B[43mencoder\u001B[49m\u001B[43m(\u001B[49m\n\u001B[0;32m   1014\u001B[0m \u001B[43m    \u001B[49m\u001B[43membedding_output\u001B[49m\u001B[43m,\u001B[49m\n\u001B[0;32m   1015\u001B[0m \u001B[43m    \u001B[49m\u001B[43mattention_mask\u001B[49m\u001B[38;5;241;43m=\u001B[39;49m\u001B[43mextended_attention_mask\u001B[49m\u001B[43m,\u001B[49m\n\u001B[0;32m   1016\u001B[0m \u001B[43m    \u001B[49m\u001B[43mhead_mask\u001B[49m\u001B[38;5;241;43m=\u001B[39;49m\u001B[43mhead_mask\u001B[49m\u001B[43m,\u001B[49m\n\u001B[0;32m   1017\u001B[0m \u001B[43m    \u001B[49m\u001B[43mencoder_hidden_states\u001B[49m\u001B[38;5;241;43m=\u001B[39;49m\u001B[43mencoder_hidden_states\u001B[49m\u001B[43m,\u001B[49m\n\u001B[0;32m   1018\u001B[0m \u001B[43m    \u001B[49m\u001B[43mencoder_attention_mask\u001B[49m\u001B[38;5;241;43m=\u001B[39;49m\u001B[43mencoder_extended_attention_mask\u001B[49m\u001B[43m,\u001B[49m\n\u001B[0;32m   1019\u001B[0m \u001B[43m    \u001B[49m\u001B[43mpast_key_values\u001B[49m\u001B[38;5;241;43m=\u001B[39;49m\u001B[43mpast_key_values\u001B[49m\u001B[43m,\u001B[49m\n\u001B[0;32m   1020\u001B[0m \u001B[43m    \u001B[49m\u001B[43muse_cache\u001B[49m\u001B[38;5;241;43m=\u001B[39;49m\u001B[43muse_cache\u001B[49m\u001B[43m,\u001B[49m\n\u001B[0;32m   1021\u001B[0m \u001B[43m    \u001B[49m\u001B[43moutput_attentions\u001B[49m\u001B[38;5;241;43m=\u001B[39;49m\u001B[43moutput_attentions\u001B[49m\u001B[43m,\u001B[49m\n\u001B[0;32m   1022\u001B[0m \u001B[43m    \u001B[49m\u001B[43moutput_hidden_states\u001B[49m\u001B[38;5;241;43m=\u001B[39;49m\u001B[43moutput_hidden_states\u001B[49m\u001B[43m,\u001B[49m\n\u001B[0;32m   1023\u001B[0m \u001B[43m    \u001B[49m\u001B[43mreturn_dict\u001B[49m\u001B[38;5;241;43m=\u001B[39;49m\u001B[43mreturn_dict\u001B[49m\u001B[43m,\u001B[49m\n\u001B[0;32m   1024\u001B[0m \u001B[43m\u001B[49m\u001B[43m)\u001B[49m\n\u001B[0;32m   1025\u001B[0m sequence_output \u001B[38;5;241m=\u001B[39m encoder_outputs[\u001B[38;5;241m0\u001B[39m]\n\u001B[0;32m   1026\u001B[0m pooled_output \u001B[38;5;241m=\u001B[39m \u001B[38;5;28mself\u001B[39m\u001B[38;5;241m.\u001B[39mpooler(sequence_output) \u001B[38;5;28;01mif\u001B[39;00m \u001B[38;5;28mself\u001B[39m\u001B[38;5;241m.\u001B[39mpooler \u001B[38;5;129;01mis\u001B[39;00m \u001B[38;5;129;01mnot\u001B[39;00m \u001B[38;5;28;01mNone\u001B[39;00m \u001B[38;5;28;01melse\u001B[39;00m \u001B[38;5;28;01mNone\u001B[39;00m\n",
      "File \u001B[1;32mc:\\Users\\MattioliMichael(Bip)\\AppData\\Local\\Programs\\Python\\Python311\\Lib\\site-packages\\torch\\nn\\modules\\module.py:1518\u001B[0m, in \u001B[0;36mModule._wrapped_call_impl\u001B[1;34m(self, *args, **kwargs)\u001B[0m\n\u001B[0;32m   1516\u001B[0m     \u001B[38;5;28;01mreturn\u001B[39;00m \u001B[38;5;28mself\u001B[39m\u001B[38;5;241m.\u001B[39m_compiled_call_impl(\u001B[38;5;241m*\u001B[39margs, \u001B[38;5;241m*\u001B[39m\u001B[38;5;241m*\u001B[39mkwargs)  \u001B[38;5;66;03m# type: ignore[misc]\u001B[39;00m\n\u001B[0;32m   1517\u001B[0m \u001B[38;5;28;01melse\u001B[39;00m:\n\u001B[1;32m-> 1518\u001B[0m     \u001B[38;5;28;01mreturn\u001B[39;00m \u001B[38;5;28;43mself\u001B[39;49m\u001B[38;5;241;43m.\u001B[39;49m\u001B[43m_call_impl\u001B[49m\u001B[43m(\u001B[49m\u001B[38;5;241;43m*\u001B[39;49m\u001B[43margs\u001B[49m\u001B[43m,\u001B[49m\u001B[43m \u001B[49m\u001B[38;5;241;43m*\u001B[39;49m\u001B[38;5;241;43m*\u001B[39;49m\u001B[43mkwargs\u001B[49m\u001B[43m)\u001B[49m\n",
      "File \u001B[1;32mc:\\Users\\MattioliMichael(Bip)\\AppData\\Local\\Programs\\Python\\Python311\\Lib\\site-packages\\torch\\nn\\modules\\module.py:1527\u001B[0m, in \u001B[0;36mModule._call_impl\u001B[1;34m(self, *args, **kwargs)\u001B[0m\n\u001B[0;32m   1522\u001B[0m \u001B[38;5;66;03m# If we don't have any hooks, we want to skip the rest of the logic in\u001B[39;00m\n\u001B[0;32m   1523\u001B[0m \u001B[38;5;66;03m# this function, and just call forward.\u001B[39;00m\n\u001B[0;32m   1524\u001B[0m \u001B[38;5;28;01mif\u001B[39;00m \u001B[38;5;129;01mnot\u001B[39;00m (\u001B[38;5;28mself\u001B[39m\u001B[38;5;241m.\u001B[39m_backward_hooks \u001B[38;5;129;01mor\u001B[39;00m \u001B[38;5;28mself\u001B[39m\u001B[38;5;241m.\u001B[39m_backward_pre_hooks \u001B[38;5;129;01mor\u001B[39;00m \u001B[38;5;28mself\u001B[39m\u001B[38;5;241m.\u001B[39m_forward_hooks \u001B[38;5;129;01mor\u001B[39;00m \u001B[38;5;28mself\u001B[39m\u001B[38;5;241m.\u001B[39m_forward_pre_hooks\n\u001B[0;32m   1525\u001B[0m         \u001B[38;5;129;01mor\u001B[39;00m _global_backward_pre_hooks \u001B[38;5;129;01mor\u001B[39;00m _global_backward_hooks\n\u001B[0;32m   1526\u001B[0m         \u001B[38;5;129;01mor\u001B[39;00m _global_forward_hooks \u001B[38;5;129;01mor\u001B[39;00m _global_forward_pre_hooks):\n\u001B[1;32m-> 1527\u001B[0m     \u001B[38;5;28;01mreturn\u001B[39;00m \u001B[43mforward_call\u001B[49m\u001B[43m(\u001B[49m\u001B[38;5;241;43m*\u001B[39;49m\u001B[43margs\u001B[49m\u001B[43m,\u001B[49m\u001B[43m \u001B[49m\u001B[38;5;241;43m*\u001B[39;49m\u001B[38;5;241;43m*\u001B[39;49m\u001B[43mkwargs\u001B[49m\u001B[43m)\u001B[49m\n\u001B[0;32m   1529\u001B[0m \u001B[38;5;28;01mtry\u001B[39;00m:\n\u001B[0;32m   1530\u001B[0m     result \u001B[38;5;241m=\u001B[39m \u001B[38;5;28;01mNone\u001B[39;00m\n",
      "File \u001B[1;32mc:\\Users\\MattioliMichael(Bip)\\AppData\\Local\\Programs\\Python\\Python311\\Lib\\site-packages\\transformers\\models\\bert\\modeling_bert.py:607\u001B[0m, in \u001B[0;36mBertEncoder.forward\u001B[1;34m(self, hidden_states, attention_mask, head_mask, encoder_hidden_states, encoder_attention_mask, past_key_values, use_cache, output_attentions, output_hidden_states, return_dict)\u001B[0m\n\u001B[0;32m    596\u001B[0m     layer_outputs \u001B[38;5;241m=\u001B[39m \u001B[38;5;28mself\u001B[39m\u001B[38;5;241m.\u001B[39m_gradient_checkpointing_func(\n\u001B[0;32m    597\u001B[0m         layer_module\u001B[38;5;241m.\u001B[39m\u001B[38;5;21m__call__\u001B[39m,\n\u001B[0;32m    598\u001B[0m         hidden_states,\n\u001B[1;32m   (...)\u001B[0m\n\u001B[0;32m    604\u001B[0m         output_attentions,\n\u001B[0;32m    605\u001B[0m     )\n\u001B[0;32m    606\u001B[0m \u001B[38;5;28;01melse\u001B[39;00m:\n\u001B[1;32m--> 607\u001B[0m     layer_outputs \u001B[38;5;241m=\u001B[39m \u001B[43mlayer_module\u001B[49m\u001B[43m(\u001B[49m\n\u001B[0;32m    608\u001B[0m \u001B[43m        \u001B[49m\u001B[43mhidden_states\u001B[49m\u001B[43m,\u001B[49m\n\u001B[0;32m    609\u001B[0m \u001B[43m        \u001B[49m\u001B[43mattention_mask\u001B[49m\u001B[43m,\u001B[49m\n\u001B[0;32m    610\u001B[0m \u001B[43m        \u001B[49m\u001B[43mlayer_head_mask\u001B[49m\u001B[43m,\u001B[49m\n\u001B[0;32m    611\u001B[0m \u001B[43m        \u001B[49m\u001B[43mencoder_hidden_states\u001B[49m\u001B[43m,\u001B[49m\n\u001B[0;32m    612\u001B[0m \u001B[43m        \u001B[49m\u001B[43mencoder_attention_mask\u001B[49m\u001B[43m,\u001B[49m\n\u001B[0;32m    613\u001B[0m \u001B[43m        \u001B[49m\u001B[43mpast_key_value\u001B[49m\u001B[43m,\u001B[49m\n\u001B[0;32m    614\u001B[0m \u001B[43m        \u001B[49m\u001B[43moutput_attentions\u001B[49m\u001B[43m,\u001B[49m\n\u001B[0;32m    615\u001B[0m \u001B[43m    \u001B[49m\u001B[43m)\u001B[49m\n\u001B[0;32m    617\u001B[0m hidden_states \u001B[38;5;241m=\u001B[39m layer_outputs[\u001B[38;5;241m0\u001B[39m]\n\u001B[0;32m    618\u001B[0m \u001B[38;5;28;01mif\u001B[39;00m use_cache:\n",
      "File \u001B[1;32mc:\\Users\\MattioliMichael(Bip)\\AppData\\Local\\Programs\\Python\\Python311\\Lib\\site-packages\\torch\\nn\\modules\\module.py:1518\u001B[0m, in \u001B[0;36mModule._wrapped_call_impl\u001B[1;34m(self, *args, **kwargs)\u001B[0m\n\u001B[0;32m   1516\u001B[0m     \u001B[38;5;28;01mreturn\u001B[39;00m \u001B[38;5;28mself\u001B[39m\u001B[38;5;241m.\u001B[39m_compiled_call_impl(\u001B[38;5;241m*\u001B[39margs, \u001B[38;5;241m*\u001B[39m\u001B[38;5;241m*\u001B[39mkwargs)  \u001B[38;5;66;03m# type: ignore[misc]\u001B[39;00m\n\u001B[0;32m   1517\u001B[0m \u001B[38;5;28;01melse\u001B[39;00m:\n\u001B[1;32m-> 1518\u001B[0m     \u001B[38;5;28;01mreturn\u001B[39;00m \u001B[38;5;28;43mself\u001B[39;49m\u001B[38;5;241;43m.\u001B[39;49m\u001B[43m_call_impl\u001B[49m\u001B[43m(\u001B[49m\u001B[38;5;241;43m*\u001B[39;49m\u001B[43margs\u001B[49m\u001B[43m,\u001B[49m\u001B[43m \u001B[49m\u001B[38;5;241;43m*\u001B[39;49m\u001B[38;5;241;43m*\u001B[39;49m\u001B[43mkwargs\u001B[49m\u001B[43m)\u001B[49m\n",
      "File \u001B[1;32mc:\\Users\\MattioliMichael(Bip)\\AppData\\Local\\Programs\\Python\\Python311\\Lib\\site-packages\\torch\\nn\\modules\\module.py:1527\u001B[0m, in \u001B[0;36mModule._call_impl\u001B[1;34m(self, *args, **kwargs)\u001B[0m\n\u001B[0;32m   1522\u001B[0m \u001B[38;5;66;03m# If we don't have any hooks, we want to skip the rest of the logic in\u001B[39;00m\n\u001B[0;32m   1523\u001B[0m \u001B[38;5;66;03m# this function, and just call forward.\u001B[39;00m\n\u001B[0;32m   1524\u001B[0m \u001B[38;5;28;01mif\u001B[39;00m \u001B[38;5;129;01mnot\u001B[39;00m (\u001B[38;5;28mself\u001B[39m\u001B[38;5;241m.\u001B[39m_backward_hooks \u001B[38;5;129;01mor\u001B[39;00m \u001B[38;5;28mself\u001B[39m\u001B[38;5;241m.\u001B[39m_backward_pre_hooks \u001B[38;5;129;01mor\u001B[39;00m \u001B[38;5;28mself\u001B[39m\u001B[38;5;241m.\u001B[39m_forward_hooks \u001B[38;5;129;01mor\u001B[39;00m \u001B[38;5;28mself\u001B[39m\u001B[38;5;241m.\u001B[39m_forward_pre_hooks\n\u001B[0;32m   1525\u001B[0m         \u001B[38;5;129;01mor\u001B[39;00m _global_backward_pre_hooks \u001B[38;5;129;01mor\u001B[39;00m _global_backward_hooks\n\u001B[0;32m   1526\u001B[0m         \u001B[38;5;129;01mor\u001B[39;00m _global_forward_hooks \u001B[38;5;129;01mor\u001B[39;00m _global_forward_pre_hooks):\n\u001B[1;32m-> 1527\u001B[0m     \u001B[38;5;28;01mreturn\u001B[39;00m \u001B[43mforward_call\u001B[49m\u001B[43m(\u001B[49m\u001B[38;5;241;43m*\u001B[39;49m\u001B[43margs\u001B[49m\u001B[43m,\u001B[49m\u001B[43m \u001B[49m\u001B[38;5;241;43m*\u001B[39;49m\u001B[38;5;241;43m*\u001B[39;49m\u001B[43mkwargs\u001B[49m\u001B[43m)\u001B[49m\n\u001B[0;32m   1529\u001B[0m \u001B[38;5;28;01mtry\u001B[39;00m:\n\u001B[0;32m   1530\u001B[0m     result \u001B[38;5;241m=\u001B[39m \u001B[38;5;28;01mNone\u001B[39;00m\n",
      "File \u001B[1;32mc:\\Users\\MattioliMichael(Bip)\\AppData\\Local\\Programs\\Python\\Python311\\Lib\\site-packages\\transformers\\models\\bert\\modeling_bert.py:497\u001B[0m, in \u001B[0;36mBertLayer.forward\u001B[1;34m(self, hidden_states, attention_mask, head_mask, encoder_hidden_states, encoder_attention_mask, past_key_value, output_attentions)\u001B[0m\n\u001B[0;32m    485\u001B[0m \u001B[38;5;28;01mdef\u001B[39;00m \u001B[38;5;21mforward\u001B[39m(\n\u001B[0;32m    486\u001B[0m     \u001B[38;5;28mself\u001B[39m,\n\u001B[0;32m    487\u001B[0m     hidden_states: torch\u001B[38;5;241m.\u001B[39mTensor,\n\u001B[1;32m   (...)\u001B[0m\n\u001B[0;32m    494\u001B[0m ) \u001B[38;5;241m-\u001B[39m\u001B[38;5;241m>\u001B[39m Tuple[torch\u001B[38;5;241m.\u001B[39mTensor]:\n\u001B[0;32m    495\u001B[0m     \u001B[38;5;66;03m# decoder uni-directional self-attention cached key/values tuple is at positions 1,2\u001B[39;00m\n\u001B[0;32m    496\u001B[0m     self_attn_past_key_value \u001B[38;5;241m=\u001B[39m past_key_value[:\u001B[38;5;241m2\u001B[39m] \u001B[38;5;28;01mif\u001B[39;00m past_key_value \u001B[38;5;129;01mis\u001B[39;00m \u001B[38;5;129;01mnot\u001B[39;00m \u001B[38;5;28;01mNone\u001B[39;00m \u001B[38;5;28;01melse\u001B[39;00m \u001B[38;5;28;01mNone\u001B[39;00m\n\u001B[1;32m--> 497\u001B[0m     self_attention_outputs \u001B[38;5;241m=\u001B[39m \u001B[38;5;28;43mself\u001B[39;49m\u001B[38;5;241;43m.\u001B[39;49m\u001B[43mattention\u001B[49m\u001B[43m(\u001B[49m\n\u001B[0;32m    498\u001B[0m \u001B[43m        \u001B[49m\u001B[43mhidden_states\u001B[49m\u001B[43m,\u001B[49m\n\u001B[0;32m    499\u001B[0m \u001B[43m        \u001B[49m\u001B[43mattention_mask\u001B[49m\u001B[43m,\u001B[49m\n\u001B[0;32m    500\u001B[0m \u001B[43m        \u001B[49m\u001B[43mhead_mask\u001B[49m\u001B[43m,\u001B[49m\n\u001B[0;32m    501\u001B[0m \u001B[43m        \u001B[49m\u001B[43moutput_attentions\u001B[49m\u001B[38;5;241;43m=\u001B[39;49m\u001B[43moutput_attentions\u001B[49m\u001B[43m,\u001B[49m\n\u001B[0;32m    502\u001B[0m \u001B[43m        \u001B[49m\u001B[43mpast_key_value\u001B[49m\u001B[38;5;241;43m=\u001B[39;49m\u001B[43mself_attn_past_key_value\u001B[49m\u001B[43m,\u001B[49m\n\u001B[0;32m    503\u001B[0m \u001B[43m    \u001B[49m\u001B[43m)\u001B[49m\n\u001B[0;32m    504\u001B[0m     attention_output \u001B[38;5;241m=\u001B[39m self_attention_outputs[\u001B[38;5;241m0\u001B[39m]\n\u001B[0;32m    506\u001B[0m     \u001B[38;5;66;03m# if decoder, the last output is tuple of self-attn cache\u001B[39;00m\n",
      "File \u001B[1;32mc:\\Users\\MattioliMichael(Bip)\\AppData\\Local\\Programs\\Python\\Python311\\Lib\\site-packages\\torch\\nn\\modules\\module.py:1518\u001B[0m, in \u001B[0;36mModule._wrapped_call_impl\u001B[1;34m(self, *args, **kwargs)\u001B[0m\n\u001B[0;32m   1516\u001B[0m     \u001B[38;5;28;01mreturn\u001B[39;00m \u001B[38;5;28mself\u001B[39m\u001B[38;5;241m.\u001B[39m_compiled_call_impl(\u001B[38;5;241m*\u001B[39margs, \u001B[38;5;241m*\u001B[39m\u001B[38;5;241m*\u001B[39mkwargs)  \u001B[38;5;66;03m# type: ignore[misc]\u001B[39;00m\n\u001B[0;32m   1517\u001B[0m \u001B[38;5;28;01melse\u001B[39;00m:\n\u001B[1;32m-> 1518\u001B[0m     \u001B[38;5;28;01mreturn\u001B[39;00m \u001B[38;5;28;43mself\u001B[39;49m\u001B[38;5;241;43m.\u001B[39;49m\u001B[43m_call_impl\u001B[49m\u001B[43m(\u001B[49m\u001B[38;5;241;43m*\u001B[39;49m\u001B[43margs\u001B[49m\u001B[43m,\u001B[49m\u001B[43m \u001B[49m\u001B[38;5;241;43m*\u001B[39;49m\u001B[38;5;241;43m*\u001B[39;49m\u001B[43mkwargs\u001B[49m\u001B[43m)\u001B[49m\n",
      "File \u001B[1;32mc:\\Users\\MattioliMichael(Bip)\\AppData\\Local\\Programs\\Python\\Python311\\Lib\\site-packages\\torch\\nn\\modules\\module.py:1527\u001B[0m, in \u001B[0;36mModule._call_impl\u001B[1;34m(self, *args, **kwargs)\u001B[0m\n\u001B[0;32m   1522\u001B[0m \u001B[38;5;66;03m# If we don't have any hooks, we want to skip the rest of the logic in\u001B[39;00m\n\u001B[0;32m   1523\u001B[0m \u001B[38;5;66;03m# this function, and just call forward.\u001B[39;00m\n\u001B[0;32m   1524\u001B[0m \u001B[38;5;28;01mif\u001B[39;00m \u001B[38;5;129;01mnot\u001B[39;00m (\u001B[38;5;28mself\u001B[39m\u001B[38;5;241m.\u001B[39m_backward_hooks \u001B[38;5;129;01mor\u001B[39;00m \u001B[38;5;28mself\u001B[39m\u001B[38;5;241m.\u001B[39m_backward_pre_hooks \u001B[38;5;129;01mor\u001B[39;00m \u001B[38;5;28mself\u001B[39m\u001B[38;5;241m.\u001B[39m_forward_hooks \u001B[38;5;129;01mor\u001B[39;00m \u001B[38;5;28mself\u001B[39m\u001B[38;5;241m.\u001B[39m_forward_pre_hooks\n\u001B[0;32m   1525\u001B[0m         \u001B[38;5;129;01mor\u001B[39;00m _global_backward_pre_hooks \u001B[38;5;129;01mor\u001B[39;00m _global_backward_hooks\n\u001B[0;32m   1526\u001B[0m         \u001B[38;5;129;01mor\u001B[39;00m _global_forward_hooks \u001B[38;5;129;01mor\u001B[39;00m _global_forward_pre_hooks):\n\u001B[1;32m-> 1527\u001B[0m     \u001B[38;5;28;01mreturn\u001B[39;00m \u001B[43mforward_call\u001B[49m\u001B[43m(\u001B[49m\u001B[38;5;241;43m*\u001B[39;49m\u001B[43margs\u001B[49m\u001B[43m,\u001B[49m\u001B[43m \u001B[49m\u001B[38;5;241;43m*\u001B[39;49m\u001B[38;5;241;43m*\u001B[39;49m\u001B[43mkwargs\u001B[49m\u001B[43m)\u001B[49m\n\u001B[0;32m   1529\u001B[0m \u001B[38;5;28;01mtry\u001B[39;00m:\n\u001B[0;32m   1530\u001B[0m     result \u001B[38;5;241m=\u001B[39m \u001B[38;5;28;01mNone\u001B[39;00m\n",
      "File \u001B[1;32mc:\\Users\\MattioliMichael(Bip)\\AppData\\Local\\Programs\\Python\\Python311\\Lib\\site-packages\\transformers\\models\\bert\\modeling_bert.py:427\u001B[0m, in \u001B[0;36mBertAttention.forward\u001B[1;34m(self, hidden_states, attention_mask, head_mask, encoder_hidden_states, encoder_attention_mask, past_key_value, output_attentions)\u001B[0m\n\u001B[0;32m    417\u001B[0m \u001B[38;5;28;01mdef\u001B[39;00m \u001B[38;5;21mforward\u001B[39m(\n\u001B[0;32m    418\u001B[0m     \u001B[38;5;28mself\u001B[39m,\n\u001B[0;32m    419\u001B[0m     hidden_states: torch\u001B[38;5;241m.\u001B[39mTensor,\n\u001B[1;32m   (...)\u001B[0m\n\u001B[0;32m    425\u001B[0m     output_attentions: Optional[\u001B[38;5;28mbool\u001B[39m] \u001B[38;5;241m=\u001B[39m \u001B[38;5;28;01mFalse\u001B[39;00m,\n\u001B[0;32m    426\u001B[0m ) \u001B[38;5;241m-\u001B[39m\u001B[38;5;241m>\u001B[39m Tuple[torch\u001B[38;5;241m.\u001B[39mTensor]:\n\u001B[1;32m--> 427\u001B[0m     self_outputs \u001B[38;5;241m=\u001B[39m \u001B[38;5;28;43mself\u001B[39;49m\u001B[38;5;241;43m.\u001B[39;49m\u001B[43mself\u001B[49m\u001B[43m(\u001B[49m\n\u001B[0;32m    428\u001B[0m \u001B[43m        \u001B[49m\u001B[43mhidden_states\u001B[49m\u001B[43m,\u001B[49m\n\u001B[0;32m    429\u001B[0m \u001B[43m        \u001B[49m\u001B[43mattention_mask\u001B[49m\u001B[43m,\u001B[49m\n\u001B[0;32m    430\u001B[0m \u001B[43m        \u001B[49m\u001B[43mhead_mask\u001B[49m\u001B[43m,\u001B[49m\n\u001B[0;32m    431\u001B[0m \u001B[43m        \u001B[49m\u001B[43mencoder_hidden_states\u001B[49m\u001B[43m,\u001B[49m\n\u001B[0;32m    432\u001B[0m \u001B[43m        \u001B[49m\u001B[43mencoder_attention_mask\u001B[49m\u001B[43m,\u001B[49m\n\u001B[0;32m    433\u001B[0m \u001B[43m        \u001B[49m\u001B[43mpast_key_value\u001B[49m\u001B[43m,\u001B[49m\n\u001B[0;32m    434\u001B[0m \u001B[43m        \u001B[49m\u001B[43moutput_attentions\u001B[49m\u001B[43m,\u001B[49m\n\u001B[0;32m    435\u001B[0m \u001B[43m    \u001B[49m\u001B[43m)\u001B[49m\n\u001B[0;32m    436\u001B[0m     attention_output \u001B[38;5;241m=\u001B[39m \u001B[38;5;28mself\u001B[39m\u001B[38;5;241m.\u001B[39moutput(self_outputs[\u001B[38;5;241m0\u001B[39m], hidden_states)\n\u001B[0;32m    437\u001B[0m     outputs \u001B[38;5;241m=\u001B[39m (attention_output,) \u001B[38;5;241m+\u001B[39m self_outputs[\u001B[38;5;241m1\u001B[39m:]  \u001B[38;5;66;03m# add attentions if we output them\u001B[39;00m\n",
      "File \u001B[1;32mc:\\Users\\MattioliMichael(Bip)\\AppData\\Local\\Programs\\Python\\Python311\\Lib\\site-packages\\torch\\nn\\modules\\module.py:1518\u001B[0m, in \u001B[0;36mModule._wrapped_call_impl\u001B[1;34m(self, *args, **kwargs)\u001B[0m\n\u001B[0;32m   1516\u001B[0m     \u001B[38;5;28;01mreturn\u001B[39;00m \u001B[38;5;28mself\u001B[39m\u001B[38;5;241m.\u001B[39m_compiled_call_impl(\u001B[38;5;241m*\u001B[39margs, \u001B[38;5;241m*\u001B[39m\u001B[38;5;241m*\u001B[39mkwargs)  \u001B[38;5;66;03m# type: ignore[misc]\u001B[39;00m\n\u001B[0;32m   1517\u001B[0m \u001B[38;5;28;01melse\u001B[39;00m:\n\u001B[1;32m-> 1518\u001B[0m     \u001B[38;5;28;01mreturn\u001B[39;00m \u001B[38;5;28;43mself\u001B[39;49m\u001B[38;5;241;43m.\u001B[39;49m\u001B[43m_call_impl\u001B[49m\u001B[43m(\u001B[49m\u001B[38;5;241;43m*\u001B[39;49m\u001B[43margs\u001B[49m\u001B[43m,\u001B[49m\u001B[43m \u001B[49m\u001B[38;5;241;43m*\u001B[39;49m\u001B[38;5;241;43m*\u001B[39;49m\u001B[43mkwargs\u001B[49m\u001B[43m)\u001B[49m\n",
      "File \u001B[1;32mc:\\Users\\MattioliMichael(Bip)\\AppData\\Local\\Programs\\Python\\Python311\\Lib\\site-packages\\torch\\nn\\modules\\module.py:1527\u001B[0m, in \u001B[0;36mModule._call_impl\u001B[1;34m(self, *args, **kwargs)\u001B[0m\n\u001B[0;32m   1522\u001B[0m \u001B[38;5;66;03m# If we don't have any hooks, we want to skip the rest of the logic in\u001B[39;00m\n\u001B[0;32m   1523\u001B[0m \u001B[38;5;66;03m# this function, and just call forward.\u001B[39;00m\n\u001B[0;32m   1524\u001B[0m \u001B[38;5;28;01mif\u001B[39;00m \u001B[38;5;129;01mnot\u001B[39;00m (\u001B[38;5;28mself\u001B[39m\u001B[38;5;241m.\u001B[39m_backward_hooks \u001B[38;5;129;01mor\u001B[39;00m \u001B[38;5;28mself\u001B[39m\u001B[38;5;241m.\u001B[39m_backward_pre_hooks \u001B[38;5;129;01mor\u001B[39;00m \u001B[38;5;28mself\u001B[39m\u001B[38;5;241m.\u001B[39m_forward_hooks \u001B[38;5;129;01mor\u001B[39;00m \u001B[38;5;28mself\u001B[39m\u001B[38;5;241m.\u001B[39m_forward_pre_hooks\n\u001B[0;32m   1525\u001B[0m         \u001B[38;5;129;01mor\u001B[39;00m _global_backward_pre_hooks \u001B[38;5;129;01mor\u001B[39;00m _global_backward_hooks\n\u001B[0;32m   1526\u001B[0m         \u001B[38;5;129;01mor\u001B[39;00m _global_forward_hooks \u001B[38;5;129;01mor\u001B[39;00m _global_forward_pre_hooks):\n\u001B[1;32m-> 1527\u001B[0m     \u001B[38;5;28;01mreturn\u001B[39;00m \u001B[43mforward_call\u001B[49m\u001B[43m(\u001B[49m\u001B[38;5;241;43m*\u001B[39;49m\u001B[43margs\u001B[49m\u001B[43m,\u001B[49m\u001B[43m \u001B[49m\u001B[38;5;241;43m*\u001B[39;49m\u001B[38;5;241;43m*\u001B[39;49m\u001B[43mkwargs\u001B[49m\u001B[43m)\u001B[49m\n\u001B[0;32m   1529\u001B[0m \u001B[38;5;28;01mtry\u001B[39;00m:\n\u001B[0;32m   1530\u001B[0m     result \u001B[38;5;241m=\u001B[39m \u001B[38;5;28;01mNone\u001B[39;00m\n",
      "File \u001B[1;32mc:\\Users\\MattioliMichael(Bip)\\AppData\\Local\\Programs\\Python\\Python311\\Lib\\site-packages\\transformers\\models\\bert\\modeling_bert.py:286\u001B[0m, in \u001B[0;36mBertSelfAttention.forward\u001B[1;34m(self, hidden_states, attention_mask, head_mask, encoder_hidden_states, encoder_attention_mask, past_key_value, output_attentions)\u001B[0m\n\u001B[0;32m    276\u001B[0m \u001B[38;5;28;01mdef\u001B[39;00m \u001B[38;5;21mforward\u001B[39m(\n\u001B[0;32m    277\u001B[0m     \u001B[38;5;28mself\u001B[39m,\n\u001B[0;32m    278\u001B[0m     hidden_states: torch\u001B[38;5;241m.\u001B[39mTensor,\n\u001B[1;32m   (...)\u001B[0m\n\u001B[0;32m    284\u001B[0m     output_attentions: Optional[\u001B[38;5;28mbool\u001B[39m] \u001B[38;5;241m=\u001B[39m \u001B[38;5;28;01mFalse\u001B[39;00m,\n\u001B[0;32m    285\u001B[0m ) \u001B[38;5;241m-\u001B[39m\u001B[38;5;241m>\u001B[39m Tuple[torch\u001B[38;5;241m.\u001B[39mTensor]:\n\u001B[1;32m--> 286\u001B[0m     mixed_query_layer \u001B[38;5;241m=\u001B[39m \u001B[38;5;28;43mself\u001B[39;49m\u001B[38;5;241;43m.\u001B[39;49m\u001B[43mquery\u001B[49m\u001B[43m(\u001B[49m\u001B[43mhidden_states\u001B[49m\u001B[43m)\u001B[49m\n\u001B[0;32m    288\u001B[0m     \u001B[38;5;66;03m# If this is instantiated as a cross-attention module, the keys\u001B[39;00m\n\u001B[0;32m    289\u001B[0m     \u001B[38;5;66;03m# and values come from an encoder; the attention mask needs to be\u001B[39;00m\n\u001B[0;32m    290\u001B[0m     \u001B[38;5;66;03m# such that the encoder's padding tokens are not attended to.\u001B[39;00m\n\u001B[0;32m    291\u001B[0m     is_cross_attention \u001B[38;5;241m=\u001B[39m encoder_hidden_states \u001B[38;5;129;01mis\u001B[39;00m \u001B[38;5;129;01mnot\u001B[39;00m \u001B[38;5;28;01mNone\u001B[39;00m\n",
      "File \u001B[1;32mc:\\Users\\MattioliMichael(Bip)\\AppData\\Local\\Programs\\Python\\Python311\\Lib\\site-packages\\torch\\nn\\modules\\module.py:1518\u001B[0m, in \u001B[0;36mModule._wrapped_call_impl\u001B[1;34m(self, *args, **kwargs)\u001B[0m\n\u001B[0;32m   1516\u001B[0m     \u001B[38;5;28;01mreturn\u001B[39;00m \u001B[38;5;28mself\u001B[39m\u001B[38;5;241m.\u001B[39m_compiled_call_impl(\u001B[38;5;241m*\u001B[39margs, \u001B[38;5;241m*\u001B[39m\u001B[38;5;241m*\u001B[39mkwargs)  \u001B[38;5;66;03m# type: ignore[misc]\u001B[39;00m\n\u001B[0;32m   1517\u001B[0m \u001B[38;5;28;01melse\u001B[39;00m:\n\u001B[1;32m-> 1518\u001B[0m     \u001B[38;5;28;01mreturn\u001B[39;00m \u001B[38;5;28;43mself\u001B[39;49m\u001B[38;5;241;43m.\u001B[39;49m\u001B[43m_call_impl\u001B[49m\u001B[43m(\u001B[49m\u001B[38;5;241;43m*\u001B[39;49m\u001B[43margs\u001B[49m\u001B[43m,\u001B[49m\u001B[43m \u001B[49m\u001B[38;5;241;43m*\u001B[39;49m\u001B[38;5;241;43m*\u001B[39;49m\u001B[43mkwargs\u001B[49m\u001B[43m)\u001B[49m\n",
      "File \u001B[1;32mc:\\Users\\MattioliMichael(Bip)\\AppData\\Local\\Programs\\Python\\Python311\\Lib\\site-packages\\torch\\nn\\modules\\module.py:1527\u001B[0m, in \u001B[0;36mModule._call_impl\u001B[1;34m(self, *args, **kwargs)\u001B[0m\n\u001B[0;32m   1522\u001B[0m \u001B[38;5;66;03m# If we don't have any hooks, we want to skip the rest of the logic in\u001B[39;00m\n\u001B[0;32m   1523\u001B[0m \u001B[38;5;66;03m# this function, and just call forward.\u001B[39;00m\n\u001B[0;32m   1524\u001B[0m \u001B[38;5;28;01mif\u001B[39;00m \u001B[38;5;129;01mnot\u001B[39;00m (\u001B[38;5;28mself\u001B[39m\u001B[38;5;241m.\u001B[39m_backward_hooks \u001B[38;5;129;01mor\u001B[39;00m \u001B[38;5;28mself\u001B[39m\u001B[38;5;241m.\u001B[39m_backward_pre_hooks \u001B[38;5;129;01mor\u001B[39;00m \u001B[38;5;28mself\u001B[39m\u001B[38;5;241m.\u001B[39m_forward_hooks \u001B[38;5;129;01mor\u001B[39;00m \u001B[38;5;28mself\u001B[39m\u001B[38;5;241m.\u001B[39m_forward_pre_hooks\n\u001B[0;32m   1525\u001B[0m         \u001B[38;5;129;01mor\u001B[39;00m _global_backward_pre_hooks \u001B[38;5;129;01mor\u001B[39;00m _global_backward_hooks\n\u001B[0;32m   1526\u001B[0m         \u001B[38;5;129;01mor\u001B[39;00m _global_forward_hooks \u001B[38;5;129;01mor\u001B[39;00m _global_forward_pre_hooks):\n\u001B[1;32m-> 1527\u001B[0m     \u001B[38;5;28;01mreturn\u001B[39;00m \u001B[43mforward_call\u001B[49m\u001B[43m(\u001B[49m\u001B[38;5;241;43m*\u001B[39;49m\u001B[43margs\u001B[49m\u001B[43m,\u001B[49m\u001B[43m \u001B[49m\u001B[38;5;241;43m*\u001B[39;49m\u001B[38;5;241;43m*\u001B[39;49m\u001B[43mkwargs\u001B[49m\u001B[43m)\u001B[49m\n\u001B[0;32m   1529\u001B[0m \u001B[38;5;28;01mtry\u001B[39;00m:\n\u001B[0;32m   1530\u001B[0m     result \u001B[38;5;241m=\u001B[39m \u001B[38;5;28;01mNone\u001B[39;00m\n",
      "File \u001B[1;32mc:\\Users\\MattioliMichael(Bip)\\AppData\\Local\\Programs\\Python\\Python311\\Lib\\site-packages\\torch\\nn\\modules\\linear.py:114\u001B[0m, in \u001B[0;36mLinear.forward\u001B[1;34m(self, input)\u001B[0m\n\u001B[0;32m    113\u001B[0m \u001B[38;5;28;01mdef\u001B[39;00m \u001B[38;5;21mforward\u001B[39m(\u001B[38;5;28mself\u001B[39m, \u001B[38;5;28minput\u001B[39m: Tensor) \u001B[38;5;241m-\u001B[39m\u001B[38;5;241m>\u001B[39m Tensor:\n\u001B[1;32m--> 114\u001B[0m     \u001B[38;5;28;01mreturn\u001B[39;00m \u001B[43mF\u001B[49m\u001B[38;5;241;43m.\u001B[39;49m\u001B[43mlinear\u001B[49m\u001B[43m(\u001B[49m\u001B[38;5;28;43minput\u001B[39;49m\u001B[43m,\u001B[49m\u001B[43m \u001B[49m\u001B[38;5;28;43mself\u001B[39;49m\u001B[38;5;241;43m.\u001B[39;49m\u001B[43mweight\u001B[49m\u001B[43m,\u001B[49m\u001B[43m \u001B[49m\u001B[38;5;28;43mself\u001B[39;49m\u001B[38;5;241;43m.\u001B[39;49m\u001B[43mbias\u001B[49m\u001B[43m)\u001B[49m\n",
      "\u001B[1;31mKeyboardInterrupt\u001B[0m: "
     ]
    }
   ],
   "source": [
    "list_cruzamento_devices = []\n",
    "for _, row in tqdm(df_devices_vivo.iterrows(), total=df_devices_vivo.shape[0]):\n",
    "    categoria = row['CATEGORIA']\n",
    "    vertical = row['VERTICAL']\n",
    "    subcategoria_gerencial = row['SUBCATEGORIA_GERENCIAL']\n",
    "    cod_sap = row['COD_SAP']\n",
    "    id_dpgc = row['ID_DPGC']\n",
    "    nome_comercial = row['NOME_COMERCIAL']\n",
    "    cor = row['Cor']\n",
    "    \n",
    "    dict_cruzamento_devices = {\n",
    "        'categoria': categoria,\n",
    "        'vertical': vertical,\n",
    "        'subcategoria_gerencial': subcategoria_gerencial,\n",
    "        'cod_sap': cod_sap,\n",
    "        'id_dpgc': id_dpgc,\n",
    "        'nome_produto': nome_comercial,\n",
    "        'cor': cor\n",
    "    }\n",
    "\n",
    "    \n",
    "    df_consolidado['name_similarity_overlap'] = df_consolidado['nome_produto'].astype(str).apply(lambda x: word_overlap_similarity(x, nome_comercial))\n",
    "    df_consolidado['name_similarity_lexical'] = df_consolidado['nome_produto'].astype(str).apply(lambda x: lexical_similarity(x, nome_comercial))\n",
    "    df_consolidado['mean_overlap_lexical_similarity'] = df_consolidado[['name_similarity_overlap', 'name_similarity_lexical']].mean(axis=1)\n",
    "\n",
    "    df_consolidado_filtrado = df_consolidado[df_consolidado['mean_overlap_lexical_similarity'] > 0.35].reset_index(drop=True).copy()\n",
    "    df_consolidado_filtrado['similarity'] = df_consolidado_filtrado['nome_produto'].astype(str).progress_apply(lambda x: combined_similarity(x, nome_comercial, 0.7, 0.3))\n",
    "\n",
    "    df_consolidado_filtrado = df_consolidado_filtrado[df_consolidado_filtrado['similarity'] > 0.6].reset_index(drop=True)\n",
    "    df_consolidado_filtrado['CATEGORIA'] = categoria\n",
    "    df_consolidado_filtrado['VERTICAL'] = vertical\n",
    "    df_consolidado_filtrado['SUBCATEGORIA_GERENCIAL'] = subcategoria_gerencial\n",
    "    df_consolidado_filtrado['COD_SAP'] = cod_sap\n",
    "    df_consolidado_filtrado['ID_DPGC'] = id_dpgc\n",
    "    df_consolidado_filtrado['NOME_COMERCIAL'] = nome_comercial\n",
    "    df_consolidado_filtrado['Cor'] = cor\n",
    "    list_cruzamento_devices.append(df_consolidado_filtrado)\n",
    "    \n"
   ]
  },
  {
   "cell_type": "code",
   "execution_count": 31,
   "id": "9bd34595",
   "metadata": {},
   "outputs": [],
   "source": [
    "df_cruzamento_devices = pd.concat(list_cruzamento_devices)\n",
    "df_cruzamento_devices.to_excel('cruzamento_devices.xlsx', index=False)"
   ]
  }
 ],
 "metadata": {
  "kernelspec": {
   "display_name": "Python 3",
   "language": "python",
   "name": "python3"
  },
  "language_info": {
   "codemirror_mode": {
    "name": "ipython",
    "version": 3
   },
   "file_extension": ".py",
   "mimetype": "text/x-python",
   "name": "python",
   "nbconvert_exporter": "python",
   "pygments_lexer": "ipython3",
   "version": "3.11.4"
  }
 },
 "nbformat": 4,
 "nbformat_minor": 5
}
